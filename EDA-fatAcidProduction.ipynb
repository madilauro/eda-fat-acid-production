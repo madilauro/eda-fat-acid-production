{
 "cells": [
  {
   "cell_type": "markdown",
   "id": "44d27c45",
   "metadata": {},
   "source": [
    "- confrontare differenze fra acidi grassi (soprattutto Saturi (SFA) \tMonoinsaturi (MUFA) \tPolinsaturi (PUFA) \tomega 6 \tomega 3 \tCLA)\n",
    "- mese per mese\n",
    "- confronto tra acidi grassi e aromi\n"
   ]
  },
  {
   "cell_type": "markdown",
   "id": "73e24b3c",
   "metadata": {},
   "source": [
    "### Importing libraries and dataframe"
   ]
  },
  {
   "cell_type": "code",
   "execution_count": 130,
   "id": "612e22e9",
   "metadata": {},
   "outputs": [
    {
     "data": {
      "text/html": [
       "<div>\n",
       "<style scoped>\n",
       "    .dataframe tbody tr th:only-of-type {\n",
       "        vertical-align: middle;\n",
       "    }\n",
       "\n",
       "    .dataframe tbody tr th {\n",
       "        vertical-align: top;\n",
       "    }\n",
       "\n",
       "    .dataframe thead th {\n",
       "        text-align: right;\n",
       "    }\n",
       "</style>\n",
       "<table border=\"1\" class=\"dataframe\">\n",
       "  <thead>\n",
       "    <tr style=\"text-align: right;\">\n",
       "      <th></th>\n",
       "      <th>Animale</th>\n",
       "      <th>Prelievo</th>\n",
       "      <th>Gruppo</th>\n",
       "      <th>C4:0</th>\n",
       "      <th>C6:0</th>\n",
       "      <th>C8:0</th>\n",
       "      <th>C10:0</th>\n",
       "      <th>C11:0</th>\n",
       "      <th>C12:0</th>\n",
       "      <th>C13:0</th>\n",
       "      <th>...</th>\n",
       "      <th>Saturi (SFA)</th>\n",
       "      <th>Monoinsaturi (MUFA)</th>\n",
       "      <th>Polinsaturi (PUFA)</th>\n",
       "      <th>omega 6</th>\n",
       "      <th>omega 3</th>\n",
       "      <th>CLA</th>\n",
       "      <th>PUFA/SFA</th>\n",
       "      <th>omega 6/omega 3</th>\n",
       "      <th>LA/ALA</th>\n",
       "      <th>AA/EPA</th>\n",
       "    </tr>\n",
       "  </thead>\n",
       "  <tbody>\n",
       "    <tr>\n",
       "      <th>0</th>\n",
       "      <td>1</td>\n",
       "      <td>May</td>\n",
       "      <td>1</td>\n",
       "      <td>3.135050</td>\n",
       "      <td>2.077150</td>\n",
       "      <td>3.243200</td>\n",
       "      <td>12.62440</td>\n",
       "      <td>0.145550</td>\n",
       "      <td>4.14170</td>\n",
       "      <td>0.058400</td>\n",
       "      <td>...</td>\n",
       "      <td>77.941943</td>\n",
       "      <td>17.822110</td>\n",
       "      <td>3.284798</td>\n",
       "      <td>2.089295</td>\n",
       "      <td>0.826353</td>\n",
       "      <td>0.369150</td>\n",
       "      <td>0.042146</td>\n",
       "      <td>2.528853</td>\n",
       "      <td>2.247917</td>\n",
       "      <td>3.122378</td>\n",
       "    </tr>\n",
       "    <tr>\n",
       "      <th>1</th>\n",
       "      <td>2</td>\n",
       "      <td>May</td>\n",
       "      <td>1</td>\n",
       "      <td>2.777900</td>\n",
       "      <td>1.498700</td>\n",
       "      <td>2.081250</td>\n",
       "      <td>8.80095</td>\n",
       "      <td>0.106850</td>\n",
       "      <td>3.41470</td>\n",
       "      <td>0.051100</td>\n",
       "      <td>...</td>\n",
       "      <td>77.222379</td>\n",
       "      <td>18.946955</td>\n",
       "      <td>2.878742</td>\n",
       "      <td>1.783466</td>\n",
       "      <td>0.700126</td>\n",
       "      <td>0.395150</td>\n",
       "      <td>0.037280</td>\n",
       "      <td>2.557689</td>\n",
       "      <td>2.671874</td>\n",
       "      <td>2.138727</td>\n",
       "    </tr>\n",
       "    <tr>\n",
       "      <th>2</th>\n",
       "      <td>3</td>\n",
       "      <td>May</td>\n",
       "      <td>1</td>\n",
       "      <td>2.261000</td>\n",
       "      <td>1.780900</td>\n",
       "      <td>2.735250</td>\n",
       "      <td>10.91035</td>\n",
       "      <td>0.096100</td>\n",
       "      <td>3.73035</td>\n",
       "      <td>0.072050</td>\n",
       "      <td>...</td>\n",
       "      <td>75.414399</td>\n",
       "      <td>20.419839</td>\n",
       "      <td>3.804504</td>\n",
       "      <td>2.281516</td>\n",
       "      <td>1.114588</td>\n",
       "      <td>0.408400</td>\n",
       "      <td>0.050447</td>\n",
       "      <td>2.046750</td>\n",
       "      <td>1.781114</td>\n",
       "      <td>3.363166</td>\n",
       "    </tr>\n",
       "    <tr>\n",
       "      <th>3</th>\n",
       "      <td>4</td>\n",
       "      <td>May</td>\n",
       "      <td>1</td>\n",
       "      <td>3.927500</td>\n",
       "      <td>1.911450</td>\n",
       "      <td>2.843500</td>\n",
       "      <td>10.63595</td>\n",
       "      <td>0.101450</td>\n",
       "      <td>3.35640</td>\n",
       "      <td>0.067150</td>\n",
       "      <td>...</td>\n",
       "      <td>75.107158</td>\n",
       "      <td>20.419971</td>\n",
       "      <td>3.453398</td>\n",
       "      <td>2.160503</td>\n",
       "      <td>0.886146</td>\n",
       "      <td>0.406750</td>\n",
       "      <td>0.045980</td>\n",
       "      <td>2.438196</td>\n",
       "      <td>2.216680</td>\n",
       "      <td>2.427921</td>\n",
       "    </tr>\n",
       "    <tr>\n",
       "      <th>4</th>\n",
       "      <td>5</td>\n",
       "      <td>May</td>\n",
       "      <td>1</td>\n",
       "      <td>2.529400</td>\n",
       "      <td>1.615200</td>\n",
       "      <td>2.404350</td>\n",
       "      <td>9.39360</td>\n",
       "      <td>0.052800</td>\n",
       "      <td>3.52400</td>\n",
       "      <td>0.086550</td>\n",
       "      <td>...</td>\n",
       "      <td>74.703805</td>\n",
       "      <td>21.131521</td>\n",
       "      <td>3.739062</td>\n",
       "      <td>2.306834</td>\n",
       "      <td>1.045678</td>\n",
       "      <td>0.386550</td>\n",
       "      <td>0.050055</td>\n",
       "      <td>2.206328</td>\n",
       "      <td>2.093761</td>\n",
       "      <td>3.281781</td>\n",
       "    </tr>\n",
       "    <tr>\n",
       "      <th>...</th>\n",
       "      <td>...</td>\n",
       "      <td>...</td>\n",
       "      <td>...</td>\n",
       "      <td>...</td>\n",
       "      <td>...</td>\n",
       "      <td>...</td>\n",
       "      <td>...</td>\n",
       "      <td>...</td>\n",
       "      <td>...</td>\n",
       "      <td>...</td>\n",
       "      <td>...</td>\n",
       "      <td>...</td>\n",
       "      <td>...</td>\n",
       "      <td>...</td>\n",
       "      <td>...</td>\n",
       "      <td>...</td>\n",
       "      <td>...</td>\n",
       "      <td>...</td>\n",
       "      <td>...</td>\n",
       "      <td>...</td>\n",
       "      <td>...</td>\n",
       "    </tr>\n",
       "    <tr>\n",
       "      <th>95</th>\n",
       "      <td>16</td>\n",
       "      <td>September</td>\n",
       "      <td>2</td>\n",
       "      <td>3.922100</td>\n",
       "      <td>1.574250</td>\n",
       "      <td>2.117100</td>\n",
       "      <td>8.97640</td>\n",
       "      <td>0.407550</td>\n",
       "      <td>4.03315</td>\n",
       "      <td>0.215950</td>\n",
       "      <td>...</td>\n",
       "      <td>72.877106</td>\n",
       "      <td>23.069147</td>\n",
       "      <td>3.337116</td>\n",
       "      <td>1.685935</td>\n",
       "      <td>0.839331</td>\n",
       "      <td>0.811850</td>\n",
       "      <td>0.045793</td>\n",
       "      <td>2.008678</td>\n",
       "      <td>1.759903</td>\n",
       "      <td>2.453809</td>\n",
       "    </tr>\n",
       "    <tr>\n",
       "      <th>96</th>\n",
       "      <td>17</td>\n",
       "      <td>September</td>\n",
       "      <td>2</td>\n",
       "      <td>4.482100</td>\n",
       "      <td>1.772000</td>\n",
       "      <td>2.455600</td>\n",
       "      <td>9.09360</td>\n",
       "      <td>0.484350</td>\n",
       "      <td>4.04880</td>\n",
       "      <td>0.257650</td>\n",
       "      <td>...</td>\n",
       "      <td>73.547996</td>\n",
       "      <td>22.641458</td>\n",
       "      <td>3.664066</td>\n",
       "      <td>1.949931</td>\n",
       "      <td>0.941750</td>\n",
       "      <td>0.772385</td>\n",
       "      <td>0.049820</td>\n",
       "      <td>2.070952</td>\n",
       "      <td>1.813186</td>\n",
       "      <td>2.586355</td>\n",
       "    </tr>\n",
       "    <tr>\n",
       "      <th>97</th>\n",
       "      <td>18</td>\n",
       "      <td>September</td>\n",
       "      <td>2</td>\n",
       "      <td>4.621200</td>\n",
       "      <td>1.370700</td>\n",
       "      <td>2.061000</td>\n",
       "      <td>9.48670</td>\n",
       "      <td>0.721800</td>\n",
       "      <td>3.06210</td>\n",
       "      <td>0.323600</td>\n",
       "      <td>...</td>\n",
       "      <td>73.671786</td>\n",
       "      <td>22.072499</td>\n",
       "      <td>3.313626</td>\n",
       "      <td>1.694733</td>\n",
       "      <td>0.820893</td>\n",
       "      <td>0.798000</td>\n",
       "      <td>0.044978</td>\n",
       "      <td>2.064763</td>\n",
       "      <td>1.708598</td>\n",
       "      <td>2.276884</td>\n",
       "    </tr>\n",
       "    <tr>\n",
       "      <th>98</th>\n",
       "      <td>19</td>\n",
       "      <td>September</td>\n",
       "      <td>2</td>\n",
       "      <td>3.400800</td>\n",
       "      <td>1.720350</td>\n",
       "      <td>2.441550</td>\n",
       "      <td>9.99210</td>\n",
       "      <td>0.448050</td>\n",
       "      <td>3.53665</td>\n",
       "      <td>0.258500</td>\n",
       "      <td>...</td>\n",
       "      <td>73.033082</td>\n",
       "      <td>22.550937</td>\n",
       "      <td>3.321483</td>\n",
       "      <td>1.691231</td>\n",
       "      <td>0.980942</td>\n",
       "      <td>0.649310</td>\n",
       "      <td>0.045480</td>\n",
       "      <td>1.723975</td>\n",
       "      <td>1.502543</td>\n",
       "      <td>2.818089</td>\n",
       "    </tr>\n",
       "    <tr>\n",
       "      <th>99</th>\n",
       "      <td>20</td>\n",
       "      <td>September</td>\n",
       "      <td>2</td>\n",
       "      <td>6.061213</td>\n",
       "      <td>1.664748</td>\n",
       "      <td>2.380006</td>\n",
       "      <td>9.99221</td>\n",
       "      <td>0.490518</td>\n",
       "      <td>3.91325</td>\n",
       "      <td>0.247255</td>\n",
       "      <td>...</td>\n",
       "      <td>73.709723</td>\n",
       "      <td>22.583281</td>\n",
       "      <td>3.507813</td>\n",
       "      <td>2.040052</td>\n",
       "      <td>0.937762</td>\n",
       "      <td>0.530000</td>\n",
       "      <td>0.047589</td>\n",
       "      <td>2.179338</td>\n",
       "      <td>2.011771</td>\n",
       "      <td>1.900291</td>\n",
       "    </tr>\n",
       "  </tbody>\n",
       "</table>\n",
       "<p>100 rows × 57 columns</p>\n",
       "</div>"
      ],
      "text/plain": [
       "    Animale   Prelievo  Gruppo  C4:0                  C6:0  C8:0              \\\n",
       "0         1        May       1          3.135050  2.077150          3.243200   \n",
       "1         2        May       1          2.777900  1.498700          2.081250   \n",
       "2         3        May       1          2.261000  1.780900          2.735250   \n",
       "3         4        May       1          3.927500  1.911450          2.843500   \n",
       "4         5        May       1          2.529400  1.615200          2.404350   \n",
       "..      ...        ...     ...               ...       ...               ...   \n",
       "95       16  September       2          3.922100  1.574250          2.117100   \n",
       "96       17  September       2          4.482100  1.772000          2.455600   \n",
       "97       18  September       2          4.621200  1.370700          2.061000   \n",
       "98       19  September       2          3.400800  1.720350          2.441550   \n",
       "99       20  September       2          6.061213  1.664748          2.380006   \n",
       "\n",
       "    C10:0                C11:0  C12:0             C13:0             ...  \\\n",
       "0           12.62440  0.145550           4.14170          0.058400  ...   \n",
       "1            8.80095  0.106850           3.41470          0.051100  ...   \n",
       "2           10.91035  0.096100           3.73035          0.072050  ...   \n",
       "3           10.63595  0.101450           3.35640          0.067150  ...   \n",
       "4            9.39360  0.052800           3.52400          0.086550  ...   \n",
       "..               ...       ...               ...               ...  ...   \n",
       "95           8.97640  0.407550           4.03315          0.215950  ...   \n",
       "96           9.09360  0.484350           4.04880          0.257650  ...   \n",
       "97           9.48670  0.721800           3.06210          0.323600  ...   \n",
       "98           9.99210  0.448050           3.53665          0.258500  ...   \n",
       "99           9.99221  0.490518           3.91325          0.247255  ...   \n",
       "\n",
       "    Saturi (SFA)  Monoinsaturi (MUFA)  Polinsaturi (PUFA)   omega 6   omega 3  \\\n",
       "0      77.941943            17.822110            3.284798  2.089295  0.826353   \n",
       "1      77.222379            18.946955            2.878742  1.783466  0.700126   \n",
       "2      75.414399            20.419839            3.804504  2.281516  1.114588   \n",
       "3      75.107158            20.419971            3.453398  2.160503  0.886146   \n",
       "4      74.703805            21.131521            3.739062  2.306834  1.045678   \n",
       "..           ...                  ...                 ...       ...       ...   \n",
       "95     72.877106            23.069147            3.337116  1.685935  0.839331   \n",
       "96     73.547996            22.641458            3.664066  1.949931  0.941750   \n",
       "97     73.671786            22.072499            3.313626  1.694733  0.820893   \n",
       "98     73.033082            22.550937            3.321483  1.691231  0.980942   \n",
       "99     73.709723            22.583281            3.507813  2.040052  0.937762   \n",
       "\n",
       "         CLA  PUFA/SFA  omega 6/omega 3    LA/ALA    AA/EPA  \n",
       "0   0.369150  0.042146         2.528853  2.247917  3.122378  \n",
       "1   0.395150  0.037280         2.557689  2.671874  2.138727  \n",
       "2   0.408400  0.050447         2.046750  1.781114  3.363166  \n",
       "3   0.406750  0.045980         2.438196  2.216680  2.427921  \n",
       "4   0.386550  0.050055         2.206328  2.093761  3.281781  \n",
       "..       ...       ...              ...       ...       ...  \n",
       "95  0.811850  0.045793         2.008678  1.759903  2.453809  \n",
       "96  0.772385  0.049820         2.070952  1.813186  2.586355  \n",
       "97  0.798000  0.044978         2.064763  1.708598  2.276884  \n",
       "98  0.649310  0.045480         1.723975  1.502543  2.818089  \n",
       "99  0.530000  0.047589         2.179338  2.011771  1.900291  \n",
       "\n",
       "[100 rows x 57 columns]"
      ]
     },
     "execution_count": 130,
     "metadata": {},
     "output_type": "execute_result"
    }
   ],
   "source": [
    "import pandas as pd\n",
    "import plotly.express as px\n",
    "import plotly.graph_objects as go\n",
    "from plotly.subplots import make_subplots\n",
    "from scipy import stats\n",
    "\n",
    "df = pd.DataFrame(pd.read_excel(\"Cartel1.xlsx\"))\n",
    "#df2 = pd.DataFrame(pd.read_excel(\"Cartel1.xlsx\"))\n",
    "#df3 = pd.DataFrame(pd.read_excel(\"Cartel1.xlsx\"))\n",
    "\n",
    "df.replace({'Prelievo': {1:'May', 2: 'June', 3: 'July', 4: 'August', 5: 'September'}}, inplace=True)\n",
    "df.head(100)\n"
   ]
  },
  {
   "cell_type": "code",
   "execution_count": 131,
   "id": "daac1430",
   "metadata": {},
   "outputs": [
    {
     "data": {
      "text/html": [
       "<div>\n",
       "<style scoped>\n",
       "    .dataframe tbody tr th:only-of-type {\n",
       "        vertical-align: middle;\n",
       "    }\n",
       "\n",
       "    .dataframe tbody tr th {\n",
       "        vertical-align: top;\n",
       "    }\n",
       "\n",
       "    .dataframe thead th {\n",
       "        text-align: right;\n",
       "    }\n",
       "</style>\n",
       "<table border=\"1\" class=\"dataframe\">\n",
       "  <thead>\n",
       "    <tr style=\"text-align: right;\">\n",
       "      <th></th>\n",
       "      <th>Animale</th>\n",
       "      <th>Gruppo</th>\n",
       "      <th>C4:0</th>\n",
       "      <th>C6:0</th>\n",
       "      <th>C8:0</th>\n",
       "      <th>C10:0</th>\n",
       "      <th>C11:0</th>\n",
       "      <th>C12:0</th>\n",
       "      <th>C13:0</th>\n",
       "      <th>C14:0</th>\n",
       "      <th>...</th>\n",
       "      <th>Saturi (SFA)</th>\n",
       "      <th>Monoinsaturi (MUFA)</th>\n",
       "      <th>Polinsaturi (PUFA)</th>\n",
       "      <th>omega 6</th>\n",
       "      <th>omega 3</th>\n",
       "      <th>CLA</th>\n",
       "      <th>PUFA/SFA</th>\n",
       "      <th>omega 6/omega 3</th>\n",
       "      <th>LA/ALA</th>\n",
       "      <th>AA/EPA</th>\n",
       "    </tr>\n",
       "  </thead>\n",
       "  <tbody>\n",
       "    <tr>\n",
       "      <th>count</th>\n",
       "      <td>100.000000</td>\n",
       "      <td>100.000000</td>\n",
       "      <td>100.000000</td>\n",
       "      <td>100.000000</td>\n",
       "      <td>100.00000</td>\n",
       "      <td>100.000000</td>\n",
       "      <td>100.000000</td>\n",
       "      <td>100.000000</td>\n",
       "      <td>100.000000</td>\n",
       "      <td>100.000000</td>\n",
       "      <td>...</td>\n",
       "      <td>100.000000</td>\n",
       "      <td>100.000000</td>\n",
       "      <td>100.000000</td>\n",
       "      <td>100.000000</td>\n",
       "      <td>100.000000</td>\n",
       "      <td>100.000000</td>\n",
       "      <td>100.000000</td>\n",
       "      <td>100.000000</td>\n",
       "      <td>100.000000</td>\n",
       "      <td>100.000000</td>\n",
       "    </tr>\n",
       "    <tr>\n",
       "      <th>mean</th>\n",
       "      <td>10.500000</td>\n",
       "      <td>1.500000</td>\n",
       "      <td>2.740960</td>\n",
       "      <td>1.827909</td>\n",
       "      <td>2.71875</td>\n",
       "      <td>10.528945</td>\n",
       "      <td>0.189764</td>\n",
       "      <td>3.700686</td>\n",
       "      <td>0.064746</td>\n",
       "      <td>9.617782</td>\n",
       "      <td>...</td>\n",
       "      <td>74.694243</td>\n",
       "      <td>21.130160</td>\n",
       "      <td>3.612427</td>\n",
       "      <td>2.057436</td>\n",
       "      <td>0.992483</td>\n",
       "      <td>0.562508</td>\n",
       "      <td>0.048414</td>\n",
       "      <td>2.106908</td>\n",
       "      <td>1.791964</td>\n",
       "      <td>2.551543</td>\n",
       "    </tr>\n",
       "    <tr>\n",
       "      <th>std</th>\n",
       "      <td>5.795331</td>\n",
       "      <td>0.502519</td>\n",
       "      <td>0.979090</td>\n",
       "      <td>0.307169</td>\n",
       "      <td>0.41401</td>\n",
       "      <td>1.110486</td>\n",
       "      <td>0.103290</td>\n",
       "      <td>0.588883</td>\n",
       "      <td>0.058745</td>\n",
       "      <td>0.932203</td>\n",
       "      <td>...</td>\n",
       "      <td>1.517531</td>\n",
       "      <td>1.537734</td>\n",
       "      <td>0.378546</td>\n",
       "      <td>0.250345</td>\n",
       "      <td>0.163509</td>\n",
       "      <td>0.140552</td>\n",
       "      <td>0.005475</td>\n",
       "      <td>0.291640</td>\n",
       "      <td>0.337813</td>\n",
       "      <td>0.543538</td>\n",
       "    </tr>\n",
       "    <tr>\n",
       "      <th>min</th>\n",
       "      <td>1.000000</td>\n",
       "      <td>1.000000</td>\n",
       "      <td>1.558700</td>\n",
       "      <td>1.097800</td>\n",
       "      <td>1.71365</td>\n",
       "      <td>8.332950</td>\n",
       "      <td>0.052800</td>\n",
       "      <td>2.635300</td>\n",
       "      <td>0.011368</td>\n",
       "      <td>7.489650</td>\n",
       "      <td>...</td>\n",
       "      <td>70.996527</td>\n",
       "      <td>17.822110</td>\n",
       "      <td>2.878742</td>\n",
       "      <td>1.581183</td>\n",
       "      <td>0.576661</td>\n",
       "      <td>0.290550</td>\n",
       "      <td>0.037280</td>\n",
       "      <td>1.529787</td>\n",
       "      <td>1.184009</td>\n",
       "      <td>1.551921</td>\n",
       "    </tr>\n",
       "    <tr>\n",
       "      <th>25%</th>\n",
       "      <td>5.750000</td>\n",
       "      <td>1.000000</td>\n",
       "      <td>2.266175</td>\n",
       "      <td>1.668550</td>\n",
       "      <td>2.41630</td>\n",
       "      <td>9.626738</td>\n",
       "      <td>0.132475</td>\n",
       "      <td>3.263025</td>\n",
       "      <td>0.037837</td>\n",
       "      <td>9.071450</td>\n",
       "      <td>...</td>\n",
       "      <td>73.612499</td>\n",
       "      <td>20.343155</td>\n",
       "      <td>3.320621</td>\n",
       "      <td>1.867936</td>\n",
       "      <td>0.882110</td>\n",
       "      <td>0.467250</td>\n",
       "      <td>0.044201</td>\n",
       "      <td>1.939672</td>\n",
       "      <td>1.544991</td>\n",
       "      <td>2.157625</td>\n",
       "    </tr>\n",
       "    <tr>\n",
       "      <th>50%</th>\n",
       "      <td>10.500000</td>\n",
       "      <td>1.500000</td>\n",
       "      <td>2.524450</td>\n",
       "      <td>1.792075</td>\n",
       "      <td>2.71055</td>\n",
       "      <td>10.430075</td>\n",
       "      <td>0.168500</td>\n",
       "      <td>3.598725</td>\n",
       "      <td>0.045625</td>\n",
       "      <td>9.656925</td>\n",
       "      <td>...</td>\n",
       "      <td>74.725393</td>\n",
       "      <td>21.196280</td>\n",
       "      <td>3.614782</td>\n",
       "      <td>2.034754</td>\n",
       "      <td>0.979709</td>\n",
       "      <td>0.557750</td>\n",
       "      <td>0.048354</td>\n",
       "      <td>2.082368</td>\n",
       "      <td>1.781067</td>\n",
       "      <td>2.574619</td>\n",
       "    </tr>\n",
       "    <tr>\n",
       "      <th>75%</th>\n",
       "      <td>15.250000</td>\n",
       "      <td>2.000000</td>\n",
       "      <td>2.843100</td>\n",
       "      <td>2.024838</td>\n",
       "      <td>2.97020</td>\n",
       "      <td>11.215787</td>\n",
       "      <td>0.212200</td>\n",
       "      <td>4.057175</td>\n",
       "      <td>0.063050</td>\n",
       "      <td>10.105337</td>\n",
       "      <td>...</td>\n",
       "      <td>75.563467</td>\n",
       "      <td>22.027581</td>\n",
       "      <td>3.830231</td>\n",
       "      <td>2.203610</td>\n",
       "      <td>1.108415</td>\n",
       "      <td>0.618600</td>\n",
       "      <td>0.051831</td>\n",
       "      <td>2.272189</td>\n",
       "      <td>2.011915</td>\n",
       "      <td>2.924588</td>\n",
       "    </tr>\n",
       "    <tr>\n",
       "      <th>max</th>\n",
       "      <td>20.000000</td>\n",
       "      <td>2.000000</td>\n",
       "      <td>7.786310</td>\n",
       "      <td>2.577350</td>\n",
       "      <td>3.68975</td>\n",
       "      <td>13.586300</td>\n",
       "      <td>0.721800</td>\n",
       "      <td>5.284800</td>\n",
       "      <td>0.323600</td>\n",
       "      <td>11.825600</td>\n",
       "      <td>...</td>\n",
       "      <td>77.986458</td>\n",
       "      <td>24.409800</td>\n",
       "      <td>4.804340</td>\n",
       "      <td>2.846235</td>\n",
       "      <td>1.361561</td>\n",
       "      <td>1.151200</td>\n",
       "      <td>0.067671</td>\n",
       "      <td>3.186070</td>\n",
       "      <td>2.801037</td>\n",
       "      <td>3.794192</td>\n",
       "    </tr>\n",
       "  </tbody>\n",
       "</table>\n",
       "<p>8 rows × 56 columns</p>\n",
       "</div>"
      ],
      "text/plain": [
       "          Animale      Gruppo  C4:0                    C6:0  C8:0              \\\n",
       "count  100.000000  100.000000        100.000000  100.000000         100.00000   \n",
       "mean    10.500000    1.500000          2.740960    1.827909           2.71875   \n",
       "std      5.795331    0.502519          0.979090    0.307169           0.41401   \n",
       "min      1.000000    1.000000          1.558700    1.097800           1.71365   \n",
       "25%      5.750000    1.000000          2.266175    1.668550           2.41630   \n",
       "50%     10.500000    1.500000          2.524450    1.792075           2.71055   \n",
       "75%     15.250000    2.000000          2.843100    2.024838           2.97020   \n",
       "max     20.000000    2.000000          7.786310    2.577350           3.68975   \n",
       "\n",
       "       C10:0                  C11:0  C12:0             C13:0             \\\n",
       "count        100.000000  100.000000        100.000000        100.000000   \n",
       "mean          10.528945    0.189764          3.700686          0.064746   \n",
       "std            1.110486    0.103290          0.588883          0.058745   \n",
       "min            8.332950    0.052800          2.635300          0.011368   \n",
       "25%            9.626738    0.132475          3.263025          0.037837   \n",
       "50%           10.430075    0.168500          3.598725          0.045625   \n",
       "75%           11.215787    0.212200          4.057175          0.063050   \n",
       "max           13.586300    0.721800          5.284800          0.323600   \n",
       "\n",
       "       C14:0             ...  Saturi (SFA)  Monoinsaturi (MUFA)  \\\n",
       "count        100.000000  ...    100.000000           100.000000   \n",
       "mean           9.617782  ...     74.694243            21.130160   \n",
       "std            0.932203  ...      1.517531             1.537734   \n",
       "min            7.489650  ...     70.996527            17.822110   \n",
       "25%            9.071450  ...     73.612499            20.343155   \n",
       "50%            9.656925  ...     74.725393            21.196280   \n",
       "75%           10.105337  ...     75.563467            22.027581   \n",
       "max           11.825600  ...     77.986458            24.409800   \n",
       "\n",
       "       Polinsaturi (PUFA)     omega 6     omega 3         CLA    PUFA/SFA  \\\n",
       "count          100.000000  100.000000  100.000000  100.000000  100.000000   \n",
       "mean             3.612427    2.057436    0.992483    0.562508    0.048414   \n",
       "std              0.378546    0.250345    0.163509    0.140552    0.005475   \n",
       "min              2.878742    1.581183    0.576661    0.290550    0.037280   \n",
       "25%              3.320621    1.867936    0.882110    0.467250    0.044201   \n",
       "50%              3.614782    2.034754    0.979709    0.557750    0.048354   \n",
       "75%              3.830231    2.203610    1.108415    0.618600    0.051831   \n",
       "max              4.804340    2.846235    1.361561    1.151200    0.067671   \n",
       "\n",
       "       omega 6/omega 3      LA/ALA      AA/EPA  \n",
       "count       100.000000  100.000000  100.000000  \n",
       "mean          2.106908    1.791964    2.551543  \n",
       "std           0.291640    0.337813    0.543538  \n",
       "min           1.529787    1.184009    1.551921  \n",
       "25%           1.939672    1.544991    2.157625  \n",
       "50%           2.082368    1.781067    2.574619  \n",
       "75%           2.272189    2.011915    2.924588  \n",
       "max           3.186070    2.801037    3.794192  \n",
       "\n",
       "[8 rows x 56 columns]"
      ]
     },
     "execution_count": 131,
     "metadata": {},
     "output_type": "execute_result"
    }
   ],
   "source": [
    "df.describe()"
   ]
  },
  {
   "cell_type": "code",
   "execution_count": 132,
   "id": "850d1985",
   "metadata": {},
   "outputs": [
    {
     "data": {
      "text/plain": [
       "count    100.000000\n",
       "mean       0.562508\n",
       "std        0.140552\n",
       "min        0.290550\n",
       "25%        0.467250\n",
       "50%        0.557750\n",
       "75%        0.618600\n",
       "max        1.151200\n",
       "Name: CLA, dtype: float64"
      ]
     },
     "execution_count": 132,
     "metadata": {},
     "output_type": "execute_result"
    }
   ],
   "source": [
    "df[\"CLA\"].describe()"
   ]
  },
  {
   "cell_type": "markdown",
   "id": "26b9f112",
   "metadata": {},
   "source": [
    "### Reducing dataframe to only relevants fat acids"
   ]
  },
  {
   "cell_type": "code",
   "execution_count": 133,
   "id": "18210c3e",
   "metadata": {},
   "outputs": [
    {
     "data": {
      "text/html": [
       "<div>\n",
       "<style scoped>\n",
       "    .dataframe tbody tr th:only-of-type {\n",
       "        vertical-align: middle;\n",
       "    }\n",
       "\n",
       "    .dataframe tbody tr th {\n",
       "        vertical-align: top;\n",
       "    }\n",
       "\n",
       "    .dataframe thead th {\n",
       "        text-align: right;\n",
       "    }\n",
       "</style>\n",
       "<table border=\"1\" class=\"dataframe\">\n",
       "  <thead>\n",
       "    <tr style=\"text-align: right;\">\n",
       "      <th></th>\n",
       "      <th>Prelievo</th>\n",
       "      <th>Gruppo</th>\n",
       "      <th>Saturi (SFA)</th>\n",
       "      <th>Monoinsaturi (MUFA)</th>\n",
       "      <th>Polinsaturi (PUFA)</th>\n",
       "      <th>omega 6</th>\n",
       "      <th>omega 3</th>\n",
       "      <th>CLA</th>\n",
       "    </tr>\n",
       "  </thead>\n",
       "  <tbody>\n",
       "    <tr>\n",
       "      <th>0</th>\n",
       "      <td>May</td>\n",
       "      <td>1</td>\n",
       "      <td>77.941943</td>\n",
       "      <td>17.822110</td>\n",
       "      <td>3.284798</td>\n",
       "      <td>2.089295</td>\n",
       "      <td>0.826353</td>\n",
       "      <td>0.369150</td>\n",
       "    </tr>\n",
       "    <tr>\n",
       "      <th>1</th>\n",
       "      <td>May</td>\n",
       "      <td>1</td>\n",
       "      <td>77.222379</td>\n",
       "      <td>18.946955</td>\n",
       "      <td>2.878742</td>\n",
       "      <td>1.783466</td>\n",
       "      <td>0.700126</td>\n",
       "      <td>0.395150</td>\n",
       "    </tr>\n",
       "    <tr>\n",
       "      <th>2</th>\n",
       "      <td>May</td>\n",
       "      <td>1</td>\n",
       "      <td>75.414399</td>\n",
       "      <td>20.419839</td>\n",
       "      <td>3.804504</td>\n",
       "      <td>2.281516</td>\n",
       "      <td>1.114588</td>\n",
       "      <td>0.408400</td>\n",
       "    </tr>\n",
       "    <tr>\n",
       "      <th>3</th>\n",
       "      <td>May</td>\n",
       "      <td>1</td>\n",
       "      <td>75.107158</td>\n",
       "      <td>20.419971</td>\n",
       "      <td>3.453398</td>\n",
       "      <td>2.160503</td>\n",
       "      <td>0.886146</td>\n",
       "      <td>0.406750</td>\n",
       "    </tr>\n",
       "    <tr>\n",
       "      <th>4</th>\n",
       "      <td>May</td>\n",
       "      <td>1</td>\n",
       "      <td>74.703805</td>\n",
       "      <td>21.131521</td>\n",
       "      <td>3.739062</td>\n",
       "      <td>2.306834</td>\n",
       "      <td>1.045678</td>\n",
       "      <td>0.386550</td>\n",
       "    </tr>\n",
       "    <tr>\n",
       "      <th>...</th>\n",
       "      <td>...</td>\n",
       "      <td>...</td>\n",
       "      <td>...</td>\n",
       "      <td>...</td>\n",
       "      <td>...</td>\n",
       "      <td>...</td>\n",
       "      <td>...</td>\n",
       "      <td>...</td>\n",
       "    </tr>\n",
       "    <tr>\n",
       "      <th>95</th>\n",
       "      <td>September</td>\n",
       "      <td>2</td>\n",
       "      <td>72.877106</td>\n",
       "      <td>23.069147</td>\n",
       "      <td>3.337116</td>\n",
       "      <td>1.685935</td>\n",
       "      <td>0.839331</td>\n",
       "      <td>0.811850</td>\n",
       "    </tr>\n",
       "    <tr>\n",
       "      <th>96</th>\n",
       "      <td>September</td>\n",
       "      <td>2</td>\n",
       "      <td>73.547996</td>\n",
       "      <td>22.641458</td>\n",
       "      <td>3.664066</td>\n",
       "      <td>1.949931</td>\n",
       "      <td>0.941750</td>\n",
       "      <td>0.772385</td>\n",
       "    </tr>\n",
       "    <tr>\n",
       "      <th>97</th>\n",
       "      <td>September</td>\n",
       "      <td>2</td>\n",
       "      <td>73.671786</td>\n",
       "      <td>22.072499</td>\n",
       "      <td>3.313626</td>\n",
       "      <td>1.694733</td>\n",
       "      <td>0.820893</td>\n",
       "      <td>0.798000</td>\n",
       "    </tr>\n",
       "    <tr>\n",
       "      <th>98</th>\n",
       "      <td>September</td>\n",
       "      <td>2</td>\n",
       "      <td>73.033082</td>\n",
       "      <td>22.550937</td>\n",
       "      <td>3.321483</td>\n",
       "      <td>1.691231</td>\n",
       "      <td>0.980942</td>\n",
       "      <td>0.649310</td>\n",
       "    </tr>\n",
       "    <tr>\n",
       "      <th>99</th>\n",
       "      <td>September</td>\n",
       "      <td>2</td>\n",
       "      <td>73.709723</td>\n",
       "      <td>22.583281</td>\n",
       "      <td>3.507813</td>\n",
       "      <td>2.040052</td>\n",
       "      <td>0.937762</td>\n",
       "      <td>0.530000</td>\n",
       "    </tr>\n",
       "  </tbody>\n",
       "</table>\n",
       "<p>100 rows × 8 columns</p>\n",
       "</div>"
      ],
      "text/plain": [
       "     Prelievo  Gruppo  Saturi (SFA)  Monoinsaturi (MUFA)  Polinsaturi (PUFA)  \\\n",
       "0         May       1     77.941943            17.822110            3.284798   \n",
       "1         May       1     77.222379            18.946955            2.878742   \n",
       "2         May       1     75.414399            20.419839            3.804504   \n",
       "3         May       1     75.107158            20.419971            3.453398   \n",
       "4         May       1     74.703805            21.131521            3.739062   \n",
       "..        ...     ...           ...                  ...                 ...   \n",
       "95  September       2     72.877106            23.069147            3.337116   \n",
       "96  September       2     73.547996            22.641458            3.664066   \n",
       "97  September       2     73.671786            22.072499            3.313626   \n",
       "98  September       2     73.033082            22.550937            3.321483   \n",
       "99  September       2     73.709723            22.583281            3.507813   \n",
       "\n",
       "     omega 6   omega 3       CLA  \n",
       "0   2.089295  0.826353  0.369150  \n",
       "1   1.783466  0.700126  0.395150  \n",
       "2   2.281516  1.114588  0.408400  \n",
       "3   2.160503  0.886146  0.406750  \n",
       "4   2.306834  1.045678  0.386550  \n",
       "..       ...       ...       ...  \n",
       "95  1.685935  0.839331  0.811850  \n",
       "96  1.949931  0.941750  0.772385  \n",
       "97  1.694733  0.820893  0.798000  \n",
       "98  1.691231  0.980942  0.649310  \n",
       "99  2.040052  0.937762  0.530000  \n",
       "\n",
       "[100 rows x 8 columns]"
      ]
     },
     "execution_count": 133,
     "metadata": {},
     "output_type": "execute_result"
    }
   ],
   "source": [
    "df2 = df[[\"Prelievo\",\"Gruppo\", \"Saturi (SFA)\", \"Monoinsaturi (MUFA)\", \"Polinsaturi (PUFA)\", \"omega 6\", \"omega 3\", \"CLA\"]]\n",
    "df2\n"
   ]
  },
  {
   "cell_type": "markdown",
   "id": "f6969543",
   "metadata": {},
   "source": [
    "### Creating dataframe with only FAP mean "
   ]
  },
  {
   "cell_type": "code",
   "execution_count": 134,
   "id": "1958afff",
   "metadata": {
    "scrolled": false
   },
   "outputs": [
    {
     "name": "stderr",
     "output_type": "stream",
     "text": [
      "C:\\Users\\dilam\\AppData\\Local\\Temp\\ipykernel_16484\\556398072.py:1: SettingWithCopyWarning:\n",
      "\n",
      "\n",
      "A value is trying to be set on a copy of a slice from a DataFrame.\n",
      "Try using .loc[row_indexer,col_indexer] = value instead\n",
      "\n",
      "See the caveats in the documentation: https://pandas.pydata.org/pandas-docs/stable/user_guide/indexing.html#returning-a-view-versus-a-copy\n",
      "\n",
      "C:\\Users\\dilam\\AppData\\Local\\Temp\\ipykernel_16484\\556398072.py:2: SettingWithCopyWarning:\n",
      "\n",
      "\n",
      "A value is trying to be set on a copy of a slice from a DataFrame.\n",
      "Try using .loc[row_indexer,col_indexer] = value instead\n",
      "\n",
      "See the caveats in the documentation: https://pandas.pydata.org/pandas-docs/stable/user_guide/indexing.html#returning-a-view-versus-a-copy\n",
      "\n",
      "C:\\Users\\dilam\\AppData\\Local\\Temp\\ipykernel_16484\\556398072.py:3: SettingWithCopyWarning:\n",
      "\n",
      "\n",
      "A value is trying to be set on a copy of a slice from a DataFrame.\n",
      "Try using .loc[row_indexer,col_indexer] = value instead\n",
      "\n",
      "See the caveats in the documentation: https://pandas.pydata.org/pandas-docs/stable/user_guide/indexing.html#returning-a-view-versus-a-copy\n",
      "\n",
      "C:\\Users\\dilam\\AppData\\Local\\Temp\\ipykernel_16484\\556398072.py:4: SettingWithCopyWarning:\n",
      "\n",
      "\n",
      "A value is trying to be set on a copy of a slice from a DataFrame.\n",
      "Try using .loc[row_indexer,col_indexer] = value instead\n",
      "\n",
      "See the caveats in the documentation: https://pandas.pydata.org/pandas-docs/stable/user_guide/indexing.html#returning-a-view-versus-a-copy\n",
      "\n",
      "C:\\Users\\dilam\\AppData\\Local\\Temp\\ipykernel_16484\\556398072.py:5: SettingWithCopyWarning:\n",
      "\n",
      "\n",
      "A value is trying to be set on a copy of a slice from a DataFrame.\n",
      "Try using .loc[row_indexer,col_indexer] = value instead\n",
      "\n",
      "See the caveats in the documentation: https://pandas.pydata.org/pandas-docs/stable/user_guide/indexing.html#returning-a-view-versus-a-copy\n",
      "\n",
      "C:\\Users\\dilam\\AppData\\Local\\Temp\\ipykernel_16484\\556398072.py:6: SettingWithCopyWarning:\n",
      "\n",
      "\n",
      "A value is trying to be set on a copy of a slice from a DataFrame.\n",
      "Try using .loc[row_indexer,col_indexer] = value instead\n",
      "\n",
      "See the caveats in the documentation: https://pandas.pydata.org/pandas-docs/stable/user_guide/indexing.html#returning-a-view-versus-a-copy\n",
      "\n",
      "C:\\Users\\dilam\\AppData\\Local\\Temp\\ipykernel_16484\\556398072.py:7: SettingWithCopyWarning:\n",
      "\n",
      "\n",
      "A value is trying to be set on a copy of a slice from a DataFrame.\n",
      "Try using .loc[row_indexer,col_indexer] = value instead\n",
      "\n",
      "See the caveats in the documentation: https://pandas.pydata.org/pandas-docs/stable/user_guide/indexing.html#returning-a-view-versus-a-copy\n",
      "\n",
      "C:\\Users\\dilam\\AppData\\Local\\Temp\\ipykernel_16484\\556398072.py:8: SettingWithCopyWarning:\n",
      "\n",
      "\n",
      "A value is trying to be set on a copy of a slice from a DataFrame.\n",
      "Try using .loc[row_indexer,col_indexer] = value instead\n",
      "\n",
      "See the caveats in the documentation: https://pandas.pydata.org/pandas-docs/stable/user_guide/indexing.html#returning-a-view-versus-a-copy\n",
      "\n",
      "C:\\Users\\dilam\\AppData\\Local\\Temp\\ipykernel_16484\\556398072.py:9: SettingWithCopyWarning:\n",
      "\n",
      "\n",
      "A value is trying to be set on a copy of a slice from a DataFrame.\n",
      "Try using .loc[row_indexer,col_indexer] = value instead\n",
      "\n",
      "See the caveats in the documentation: https://pandas.pydata.org/pandas-docs/stable/user_guide/indexing.html#returning-a-view-versus-a-copy\n",
      "\n",
      "C:\\Users\\dilam\\AppData\\Local\\Temp\\ipykernel_16484\\556398072.py:10: SettingWithCopyWarning:\n",
      "\n",
      "\n",
      "A value is trying to be set on a copy of a slice from a DataFrame.\n",
      "Try using .loc[row_indexer,col_indexer] = value instead\n",
      "\n",
      "See the caveats in the documentation: https://pandas.pydata.org/pandas-docs/stable/user_guide/indexing.html#returning-a-view-versus-a-copy\n",
      "\n",
      "C:\\Users\\dilam\\AppData\\Local\\Temp\\ipykernel_16484\\556398072.py:11: SettingWithCopyWarning:\n",
      "\n",
      "\n",
      "A value is trying to be set on a copy of a slice from a DataFrame.\n",
      "Try using .loc[row_indexer,col_indexer] = value instead\n",
      "\n",
      "See the caveats in the documentation: https://pandas.pydata.org/pandas-docs/stable/user_guide/indexing.html#returning-a-view-versus-a-copy\n",
      "\n",
      "C:\\Users\\dilam\\AppData\\Local\\Temp\\ipykernel_16484\\556398072.py:12: SettingWithCopyWarning:\n",
      "\n",
      "\n",
      "A value is trying to be set on a copy of a slice from a DataFrame.\n",
      "Try using .loc[row_indexer,col_indexer] = value instead\n",
      "\n",
      "See the caveats in the documentation: https://pandas.pydata.org/pandas-docs/stable/user_guide/indexing.html#returning-a-view-versus-a-copy\n",
      "\n"
     ]
    },
    {
     "data": {
      "text/html": [
       "<div>\n",
       "<style scoped>\n",
       "    .dataframe tbody tr th:only-of-type {\n",
       "        vertical-align: middle;\n",
       "    }\n",
       "\n",
       "    .dataframe tbody tr th {\n",
       "        vertical-align: top;\n",
       "    }\n",
       "\n",
       "    .dataframe thead th {\n",
       "        text-align: right;\n",
       "    }\n",
       "</style>\n",
       "<table border=\"1\" class=\"dataframe\">\n",
       "  <thead>\n",
       "    <tr style=\"text-align: right;\">\n",
       "      <th></th>\n",
       "      <th>Prelievo</th>\n",
       "      <th>Gruppo 1 SFA</th>\n",
       "      <th>Gruppo 2 SFA</th>\n",
       "      <th>Gruppo 1 MUFA</th>\n",
       "      <th>Gruppo 2 MUFA</th>\n",
       "      <th>Gruppo 1 PUFA</th>\n",
       "      <th>Gruppo 2 PUFA</th>\n",
       "      <th>Gruppo 1 omega 6</th>\n",
       "      <th>Gruppo 2 omega 6</th>\n",
       "      <th>Gruppo 1 omega 3</th>\n",
       "      <th>Gruppo 2 omega 3</th>\n",
       "      <th>Gruppo 1 CLA</th>\n",
       "      <th>Gruppo 2 CLA</th>\n",
       "    </tr>\n",
       "  </thead>\n",
       "  <tbody>\n",
       "    <tr>\n",
       "      <th>0</th>\n",
       "      <td>August</td>\n",
       "      <td>74.951374</td>\n",
       "      <td>74.158078</td>\n",
       "      <td>21.056234</td>\n",
       "      <td>21.758600</td>\n",
       "      <td>3.477414</td>\n",
       "      <td>3.661170</td>\n",
       "      <td>1.891602</td>\n",
       "      <td>1.978933</td>\n",
       "      <td>0.996132</td>\n",
       "      <td>0.996685</td>\n",
       "      <td>0.589680</td>\n",
       "      <td>0.685553</td>\n",
       "    </tr>\n",
       "    <tr>\n",
       "      <th>1</th>\n",
       "      <td>July</td>\n",
       "      <td>75.120599</td>\n",
       "      <td>73.775600</td>\n",
       "      <td>20.727556</td>\n",
       "      <td>21.601342</td>\n",
       "      <td>3.690884</td>\n",
       "      <td>4.079473</td>\n",
       "      <td>2.045122</td>\n",
       "      <td>2.209472</td>\n",
       "      <td>1.095677</td>\n",
       "      <td>1.204451</td>\n",
       "      <td>0.550085</td>\n",
       "      <td>0.665550</td>\n",
       "    </tr>\n",
       "    <tr>\n",
       "      <th>2</th>\n",
       "      <td>June</td>\n",
       "      <td>77.157340</td>\n",
       "      <td>75.340855</td>\n",
       "      <td>18.676998</td>\n",
       "      <td>20.657813</td>\n",
       "      <td>3.212726</td>\n",
       "      <td>3.550252</td>\n",
       "      <td>1.918020</td>\n",
       "      <td>2.082002</td>\n",
       "      <td>0.850651</td>\n",
       "      <td>0.963560</td>\n",
       "      <td>0.444055</td>\n",
       "      <td>0.504690</td>\n",
       "    </tr>\n",
       "    <tr>\n",
       "      <th>3</th>\n",
       "      <td>May</td>\n",
       "      <td>76.221694</td>\n",
       "      <td>74.139577</td>\n",
       "      <td>19.564949</td>\n",
       "      <td>21.095166</td>\n",
       "      <td>3.549105</td>\n",
       "      <td>4.183235</td>\n",
       "      <td>2.203735</td>\n",
       "      <td>2.542453</td>\n",
       "      <td>0.968675</td>\n",
       "      <td>1.162602</td>\n",
       "      <td>0.376695</td>\n",
       "      <td>0.478180</td>\n",
       "    </tr>\n",
       "    <tr>\n",
       "      <th>4</th>\n",
       "      <td>September</td>\n",
       "      <td>72.953039</td>\n",
       "      <td>73.124275</td>\n",
       "      <td>23.310417</td>\n",
       "      <td>22.852527</td>\n",
       "      <td>3.195042</td>\n",
       "      <td>3.524963</td>\n",
       "      <td>1.777837</td>\n",
       "      <td>1.925179</td>\n",
       "      <td>0.762205</td>\n",
       "      <td>0.924197</td>\n",
       "      <td>0.655000</td>\n",
       "      <td>0.675587</td>\n",
       "    </tr>\n",
       "  </tbody>\n",
       "</table>\n",
       "</div>"
      ],
      "text/plain": [
       "    Prelievo  Gruppo 1 SFA  Gruppo 2 SFA  Gruppo 1 MUFA  Gruppo 2 MUFA  \\\n",
       "0     August     74.951374     74.158078      21.056234      21.758600   \n",
       "1       July     75.120599     73.775600      20.727556      21.601342   \n",
       "2       June     77.157340     75.340855      18.676998      20.657813   \n",
       "3        May     76.221694     74.139577      19.564949      21.095166   \n",
       "4  September     72.953039     73.124275      23.310417      22.852527   \n",
       "\n",
       "   Gruppo 1 PUFA  Gruppo 2 PUFA  Gruppo 1 omega 6  Gruppo 2 omega 6  \\\n",
       "0       3.477414       3.661170          1.891602          1.978933   \n",
       "1       3.690884       4.079473          2.045122          2.209472   \n",
       "2       3.212726       3.550252          1.918020          2.082002   \n",
       "3       3.549105       4.183235          2.203735          2.542453   \n",
       "4       3.195042       3.524963          1.777837          1.925179   \n",
       "\n",
       "   Gruppo 1 omega 3  Gruppo 2 omega 3  Gruppo 1 CLA  Gruppo 2 CLA  \n",
       "0          0.996132          0.996685      0.589680      0.685553  \n",
       "1          1.095677          1.204451      0.550085      0.665550  \n",
       "2          0.850651          0.963560      0.444055      0.504690  \n",
       "3          0.968675          1.162602      0.376695      0.478180  \n",
       "4          0.762205          0.924197      0.655000      0.675587  "
      ]
     },
     "execution_count": 134,
     "metadata": {},
     "output_type": "execute_result"
    }
   ],
   "source": [
    "df2[\"Gruppo 1 SFA\"] = df2['Saturi (SFA)'][df2['Gruppo'] == 1]\n",
    "df2[\"Gruppo 2 SFA\"] = df2['Saturi (SFA)'][df2['Gruppo'] == 2]\n",
    "df2[\"Gruppo 1 MUFA\"] = df2['Monoinsaturi (MUFA)'][df2['Gruppo'] == 1]\n",
    "df2[\"Gruppo 2 MUFA\"] = df2['Monoinsaturi (MUFA)'][df2['Gruppo'] == 2]\n",
    "df2[\"Gruppo 1 PUFA\"] = df2['Polinsaturi (PUFA)'][df2['Gruppo'] == 1]\n",
    "df2[\"Gruppo 2 PUFA\"] = df2['Polinsaturi (PUFA)'][df2['Gruppo'] == 2]\n",
    "df2[\"Gruppo 1 omega 6\"] = df2['omega 6'][df2['Gruppo'] == 1]\n",
    "df2[\"Gruppo 2 omega 6\"] = df2['omega 6'][df2['Gruppo'] == 2]\n",
    "df2[\"Gruppo 1 omega 3\"] = df2['omega 3'][df2['Gruppo'] == 1]\n",
    "df2[\"Gruppo 2 omega 3\"] = df2['omega 3'][df2['Gruppo'] == 2]\n",
    "df2[\"Gruppo 1 CLA\"] = df2['CLA'][df2['Gruppo'] == 1]\n",
    "df2[\"Gruppo 2 CLA\"] = df2['CLA'][df2['Gruppo'] == 2]\n",
    "\n",
    "df3 = df2.groupby([\"Prelievo\"], as_index = False).mean()[[\"Prelievo\", \"Gruppo 1 SFA\", \"Gruppo 2 SFA\", \"Gruppo 1 MUFA\",\n",
    "                                                         \"Gruppo 2 MUFA\", \"Gruppo 1 PUFA\", \"Gruppo 2 PUFA\",\n",
    "                                                        \"Gruppo 1 omega 6\", \"Gruppo 2 omega 6\", \"Gruppo 1 omega 3\",\n",
    "                                                        \"Gruppo 2 omega 3\", \"Gruppo 1 CLA\", \"Gruppo 2 CLA\"]]\n",
    "df3"
   ]
  },
  {
   "cell_type": "markdown",
   "id": "a495f684",
   "metadata": {},
   "source": [
    "### Creating chart on FAP mean"
   ]
  },
  {
   "cell_type": "code",
   "execution_count": 136,
   "id": "b2ff4aae",
   "metadata": {},
   "outputs": [
    {
     "data": {
      "application/vnd.plotly.v1+json": {
       "config": {
        "plotlyServerURL": "https://plot.ly"
       },
       "data": [
        {
         "marker": {
          "color": "hotpink"
         },
         "name": "Gruppo 1 SFA",
         "type": "bar",
         "x": [
          "August",
          "July",
          "June",
          "May",
          "September"
         ],
         "y": [
          74.9513743317,
          75.1205985423,
          77.15733979710001,
          76.2216937063,
          72.9530389044
         ]
        },
        {
         "marker": {
          "color": "lightpink"
         },
         "name": "Gruppo 2 SFA",
         "type": "bar",
         "x": [
          "August",
          "July",
          "June",
          "May",
          "September"
         ],
         "y": [
          74.15807793194999,
          73.77560005695,
          75.34085478224999,
          74.1395765959,
          73.12427451965051
         ]
        },
        {
         "marker": {
          "color": "slategray"
         },
         "name": "Gruppo 1 MUFA",
         "type": "bar",
         "x": [
          "August",
          "July",
          "June",
          "May",
          "September"
         ],
         "y": [
          21.0562338826,
          20.727556469249997,
          18.67699844795,
          19.56494908095,
          23.310417221149997
         ]
        },
        {
         "marker": {
          "color": "silver"
         },
         "name": "Gruppo 2 MUFA",
         "type": "bar",
         "x": [
          "August",
          "July",
          "June",
          "May",
          "September"
         ],
         "y": [
          21.7585996291,
          21.60134160965,
          20.65781292635,
          21.09516639425,
          22.852527006161345
         ]
        },
        {
         "marker": {
          "color": "lightskyblue"
         },
         "name": "Gruppo 1 PUFA",
         "type": "bar",
         "x": [
          "August",
          "July",
          "June",
          "May",
          "September"
         ],
         "y": [
          3.4774144006450003,
          3.6908840839500003,
          3.212725758165,
          3.549105101065,
          3.19504236055
         ]
        },
        {
         "marker": {
          "color": "powderblue"
         },
         "name": "Gruppo 2 PUFA",
         "type": "bar",
         "x": [
          "August",
          "July",
          "June",
          "May",
          "September"
         ],
         "y": [
          3.66117018235,
          4.0794732342,
          3.5502518462684995,
          4.1832353358,
          3.5249631400224772
         ]
        },
        {
         "marker": {
          "color": "limegreen"
         },
         "name": "Gruppo 1 omega 6",
         "type": "bar",
         "x": [
          "August",
          "July",
          "June",
          "May",
          "September"
         ],
         "y": [
          1.891602385,
          2.0451219763,
          1.9180201975149997,
          2.203735361315,
          1.7778371951
         ]
        },
        {
         "marker": {
          "color": "chartreuse"
         },
         "name": "Gruppo 2 omega 6",
         "type": "bar",
         "x": [
          "August",
          "July",
          "June",
          "May",
          "September"
         ],
         "y": [
          1.9789325799,
          2.2094722937,
          2.0820019381685,
          2.5424530685999995,
          1.9251790572933019
         ]
        },
        {
         "marker": {
          "color": "peru"
         },
         "name": "Gruppo 1 omega 3",
         "type": "bar",
         "x": [
          "August",
          "July",
          "June",
          "May",
          "September"
         ],
         "y": [
          0.9961317147,
          1.09567710765,
          0.8506505606499999,
          0.96867473975,
          0.7622051654499999
         ]
        },
        {
         "marker": {
          "color": "tan"
         },
         "name": "Gruppo 2 omega 3",
         "type": "bar",
         "x": [
          "August",
          "July",
          "June",
          "May",
          "September"
         ],
         "y": [
          0.99668460245,
          1.2044509405,
          0.9635599081,
          1.1626022672,
          0.9241967672721894
         ]
        },
        {
         "marker": {
          "color": "tomato"
         },
         "name": "Gruppo 1 CLA",
         "type": "bar",
         "x": [
          "August",
          "July",
          "June",
          "May",
          "September"
         ],
         "y": [
          0.589680300945,
          0.5500849999999999,
          0.444055,
          0.376695,
          0.655
         ]
        },
        {
         "marker": {
          "color": "salmon"
         },
         "name": "Gruppo 2 CLA",
         "type": "bar",
         "x": [
          "August",
          "July",
          "June",
          "May",
          "September"
         ],
         "y": [
          0.685553,
          0.66555,
          0.50469,
          0.47817999999999994,
          0.6755873154569858
         ]
        }
       ],
       "layout": {
        "template": {
         "data": {
          "bar": [
           {
            "error_x": {
             "color": "#2a3f5f"
            },
            "error_y": {
             "color": "#2a3f5f"
            },
            "marker": {
             "line": {
              "color": "#E5ECF6",
              "width": 0.5
             },
             "pattern": {
              "fillmode": "overlay",
              "size": 10,
              "solidity": 0.2
             }
            },
            "type": "bar"
           }
          ],
          "barpolar": [
           {
            "marker": {
             "line": {
              "color": "#E5ECF6",
              "width": 0.5
             },
             "pattern": {
              "fillmode": "overlay",
              "size": 10,
              "solidity": 0.2
             }
            },
            "type": "barpolar"
           }
          ],
          "carpet": [
           {
            "aaxis": {
             "endlinecolor": "#2a3f5f",
             "gridcolor": "white",
             "linecolor": "white",
             "minorgridcolor": "white",
             "startlinecolor": "#2a3f5f"
            },
            "baxis": {
             "endlinecolor": "#2a3f5f",
             "gridcolor": "white",
             "linecolor": "white",
             "minorgridcolor": "white",
             "startlinecolor": "#2a3f5f"
            },
            "type": "carpet"
           }
          ],
          "choropleth": [
           {
            "colorbar": {
             "outlinewidth": 0,
             "ticks": ""
            },
            "type": "choropleth"
           }
          ],
          "contour": [
           {
            "colorbar": {
             "outlinewidth": 0,
             "ticks": ""
            },
            "colorscale": [
             [
              0,
              "#0d0887"
             ],
             [
              0.1111111111111111,
              "#46039f"
             ],
             [
              0.2222222222222222,
              "#7201a8"
             ],
             [
              0.3333333333333333,
              "#9c179e"
             ],
             [
              0.4444444444444444,
              "#bd3786"
             ],
             [
              0.5555555555555556,
              "#d8576b"
             ],
             [
              0.6666666666666666,
              "#ed7953"
             ],
             [
              0.7777777777777778,
              "#fb9f3a"
             ],
             [
              0.8888888888888888,
              "#fdca26"
             ],
             [
              1,
              "#f0f921"
             ]
            ],
            "type": "contour"
           }
          ],
          "contourcarpet": [
           {
            "colorbar": {
             "outlinewidth": 0,
             "ticks": ""
            },
            "type": "contourcarpet"
           }
          ],
          "heatmap": [
           {
            "colorbar": {
             "outlinewidth": 0,
             "ticks": ""
            },
            "colorscale": [
             [
              0,
              "#0d0887"
             ],
             [
              0.1111111111111111,
              "#46039f"
             ],
             [
              0.2222222222222222,
              "#7201a8"
             ],
             [
              0.3333333333333333,
              "#9c179e"
             ],
             [
              0.4444444444444444,
              "#bd3786"
             ],
             [
              0.5555555555555556,
              "#d8576b"
             ],
             [
              0.6666666666666666,
              "#ed7953"
             ],
             [
              0.7777777777777778,
              "#fb9f3a"
             ],
             [
              0.8888888888888888,
              "#fdca26"
             ],
             [
              1,
              "#f0f921"
             ]
            ],
            "type": "heatmap"
           }
          ],
          "heatmapgl": [
           {
            "colorbar": {
             "outlinewidth": 0,
             "ticks": ""
            },
            "colorscale": [
             [
              0,
              "#0d0887"
             ],
             [
              0.1111111111111111,
              "#46039f"
             ],
             [
              0.2222222222222222,
              "#7201a8"
             ],
             [
              0.3333333333333333,
              "#9c179e"
             ],
             [
              0.4444444444444444,
              "#bd3786"
             ],
             [
              0.5555555555555556,
              "#d8576b"
             ],
             [
              0.6666666666666666,
              "#ed7953"
             ],
             [
              0.7777777777777778,
              "#fb9f3a"
             ],
             [
              0.8888888888888888,
              "#fdca26"
             ],
             [
              1,
              "#f0f921"
             ]
            ],
            "type": "heatmapgl"
           }
          ],
          "histogram": [
           {
            "marker": {
             "pattern": {
              "fillmode": "overlay",
              "size": 10,
              "solidity": 0.2
             }
            },
            "type": "histogram"
           }
          ],
          "histogram2d": [
           {
            "colorbar": {
             "outlinewidth": 0,
             "ticks": ""
            },
            "colorscale": [
             [
              0,
              "#0d0887"
             ],
             [
              0.1111111111111111,
              "#46039f"
             ],
             [
              0.2222222222222222,
              "#7201a8"
             ],
             [
              0.3333333333333333,
              "#9c179e"
             ],
             [
              0.4444444444444444,
              "#bd3786"
             ],
             [
              0.5555555555555556,
              "#d8576b"
             ],
             [
              0.6666666666666666,
              "#ed7953"
             ],
             [
              0.7777777777777778,
              "#fb9f3a"
             ],
             [
              0.8888888888888888,
              "#fdca26"
             ],
             [
              1,
              "#f0f921"
             ]
            ],
            "type": "histogram2d"
           }
          ],
          "histogram2dcontour": [
           {
            "colorbar": {
             "outlinewidth": 0,
             "ticks": ""
            },
            "colorscale": [
             [
              0,
              "#0d0887"
             ],
             [
              0.1111111111111111,
              "#46039f"
             ],
             [
              0.2222222222222222,
              "#7201a8"
             ],
             [
              0.3333333333333333,
              "#9c179e"
             ],
             [
              0.4444444444444444,
              "#bd3786"
             ],
             [
              0.5555555555555556,
              "#d8576b"
             ],
             [
              0.6666666666666666,
              "#ed7953"
             ],
             [
              0.7777777777777778,
              "#fb9f3a"
             ],
             [
              0.8888888888888888,
              "#fdca26"
             ],
             [
              1,
              "#f0f921"
             ]
            ],
            "type": "histogram2dcontour"
           }
          ],
          "mesh3d": [
           {
            "colorbar": {
             "outlinewidth": 0,
             "ticks": ""
            },
            "type": "mesh3d"
           }
          ],
          "parcoords": [
           {
            "line": {
             "colorbar": {
              "outlinewidth": 0,
              "ticks": ""
             }
            },
            "type": "parcoords"
           }
          ],
          "pie": [
           {
            "automargin": true,
            "type": "pie"
           }
          ],
          "scatter": [
           {
            "marker": {
             "colorbar": {
              "outlinewidth": 0,
              "ticks": ""
             }
            },
            "type": "scatter"
           }
          ],
          "scatter3d": [
           {
            "line": {
             "colorbar": {
              "outlinewidth": 0,
              "ticks": ""
             }
            },
            "marker": {
             "colorbar": {
              "outlinewidth": 0,
              "ticks": ""
             }
            },
            "type": "scatter3d"
           }
          ],
          "scattercarpet": [
           {
            "marker": {
             "colorbar": {
              "outlinewidth": 0,
              "ticks": ""
             }
            },
            "type": "scattercarpet"
           }
          ],
          "scattergeo": [
           {
            "marker": {
             "colorbar": {
              "outlinewidth": 0,
              "ticks": ""
             }
            },
            "type": "scattergeo"
           }
          ],
          "scattergl": [
           {
            "marker": {
             "colorbar": {
              "outlinewidth": 0,
              "ticks": ""
             }
            },
            "type": "scattergl"
           }
          ],
          "scattermapbox": [
           {
            "marker": {
             "colorbar": {
              "outlinewidth": 0,
              "ticks": ""
             }
            },
            "type": "scattermapbox"
           }
          ],
          "scatterpolar": [
           {
            "marker": {
             "colorbar": {
              "outlinewidth": 0,
              "ticks": ""
             }
            },
            "type": "scatterpolar"
           }
          ],
          "scatterpolargl": [
           {
            "marker": {
             "colorbar": {
              "outlinewidth": 0,
              "ticks": ""
             }
            },
            "type": "scatterpolargl"
           }
          ],
          "scatterternary": [
           {
            "marker": {
             "colorbar": {
              "outlinewidth": 0,
              "ticks": ""
             }
            },
            "type": "scatterternary"
           }
          ],
          "surface": [
           {
            "colorbar": {
             "outlinewidth": 0,
             "ticks": ""
            },
            "colorscale": [
             [
              0,
              "#0d0887"
             ],
             [
              0.1111111111111111,
              "#46039f"
             ],
             [
              0.2222222222222222,
              "#7201a8"
             ],
             [
              0.3333333333333333,
              "#9c179e"
             ],
             [
              0.4444444444444444,
              "#bd3786"
             ],
             [
              0.5555555555555556,
              "#d8576b"
             ],
             [
              0.6666666666666666,
              "#ed7953"
             ],
             [
              0.7777777777777778,
              "#fb9f3a"
             ],
             [
              0.8888888888888888,
              "#fdca26"
             ],
             [
              1,
              "#f0f921"
             ]
            ],
            "type": "surface"
           }
          ],
          "table": [
           {
            "cells": {
             "fill": {
              "color": "#EBF0F8"
             },
             "line": {
              "color": "white"
             }
            },
            "header": {
             "fill": {
              "color": "#C8D4E3"
             },
             "line": {
              "color": "white"
             }
            },
            "type": "table"
           }
          ]
         },
         "layout": {
          "annotationdefaults": {
           "arrowcolor": "#2a3f5f",
           "arrowhead": 0,
           "arrowwidth": 1
          },
          "autotypenumbers": "strict",
          "coloraxis": {
           "colorbar": {
            "outlinewidth": 0,
            "ticks": ""
           }
          },
          "colorscale": {
           "diverging": [
            [
             0,
             "#8e0152"
            ],
            [
             0.1,
             "#c51b7d"
            ],
            [
             0.2,
             "#de77ae"
            ],
            [
             0.3,
             "#f1b6da"
            ],
            [
             0.4,
             "#fde0ef"
            ],
            [
             0.5,
             "#f7f7f7"
            ],
            [
             0.6,
             "#e6f5d0"
            ],
            [
             0.7,
             "#b8e186"
            ],
            [
             0.8,
             "#7fbc41"
            ],
            [
             0.9,
             "#4d9221"
            ],
            [
             1,
             "#276419"
            ]
           ],
           "sequential": [
            [
             0,
             "#0d0887"
            ],
            [
             0.1111111111111111,
             "#46039f"
            ],
            [
             0.2222222222222222,
             "#7201a8"
            ],
            [
             0.3333333333333333,
             "#9c179e"
            ],
            [
             0.4444444444444444,
             "#bd3786"
            ],
            [
             0.5555555555555556,
             "#d8576b"
            ],
            [
             0.6666666666666666,
             "#ed7953"
            ],
            [
             0.7777777777777778,
             "#fb9f3a"
            ],
            [
             0.8888888888888888,
             "#fdca26"
            ],
            [
             1,
             "#f0f921"
            ]
           ],
           "sequentialminus": [
            [
             0,
             "#0d0887"
            ],
            [
             0.1111111111111111,
             "#46039f"
            ],
            [
             0.2222222222222222,
             "#7201a8"
            ],
            [
             0.3333333333333333,
             "#9c179e"
            ],
            [
             0.4444444444444444,
             "#bd3786"
            ],
            [
             0.5555555555555556,
             "#d8576b"
            ],
            [
             0.6666666666666666,
             "#ed7953"
            ],
            [
             0.7777777777777778,
             "#fb9f3a"
            ],
            [
             0.8888888888888888,
             "#fdca26"
            ],
            [
             1,
             "#f0f921"
            ]
           ]
          },
          "colorway": [
           "#636efa",
           "#EF553B",
           "#00cc96",
           "#ab63fa",
           "#FFA15A",
           "#19d3f3",
           "#FF6692",
           "#B6E880",
           "#FF97FF",
           "#FECB52"
          ],
          "font": {
           "color": "#2a3f5f"
          },
          "geo": {
           "bgcolor": "white",
           "lakecolor": "white",
           "landcolor": "#E5ECF6",
           "showlakes": true,
           "showland": true,
           "subunitcolor": "white"
          },
          "hoverlabel": {
           "align": "left"
          },
          "hovermode": "closest",
          "mapbox": {
           "style": "light"
          },
          "paper_bgcolor": "white",
          "plot_bgcolor": "#E5ECF6",
          "polar": {
           "angularaxis": {
            "gridcolor": "white",
            "linecolor": "white",
            "ticks": ""
           },
           "bgcolor": "#E5ECF6",
           "radialaxis": {
            "gridcolor": "white",
            "linecolor": "white",
            "ticks": ""
           }
          },
          "scene": {
           "xaxis": {
            "backgroundcolor": "#E5ECF6",
            "gridcolor": "white",
            "gridwidth": 2,
            "linecolor": "white",
            "showbackground": true,
            "ticks": "",
            "zerolinecolor": "white"
           },
           "yaxis": {
            "backgroundcolor": "#E5ECF6",
            "gridcolor": "white",
            "gridwidth": 2,
            "linecolor": "white",
            "showbackground": true,
            "ticks": "",
            "zerolinecolor": "white"
           },
           "zaxis": {
            "backgroundcolor": "#E5ECF6",
            "gridcolor": "white",
            "gridwidth": 2,
            "linecolor": "white",
            "showbackground": true,
            "ticks": "",
            "zerolinecolor": "white"
           }
          },
          "shapedefaults": {
           "line": {
            "color": "#2a3f5f"
           }
          },
          "ternary": {
           "aaxis": {
            "gridcolor": "white",
            "linecolor": "white",
            "ticks": ""
           },
           "baxis": {
            "gridcolor": "white",
            "linecolor": "white",
            "ticks": ""
           },
           "bgcolor": "#E5ECF6",
           "caxis": {
            "gridcolor": "white",
            "linecolor": "white",
            "ticks": ""
           }
          },
          "title": {
           "x": 0.05
          },
          "xaxis": {
           "automargin": true,
           "gridcolor": "white",
           "linecolor": "white",
           "ticks": "",
           "title": {
            "standoff": 15
           },
           "zerolinecolor": "white",
           "zerolinewidth": 2
          },
          "yaxis": {
           "automargin": true,
           "gridcolor": "white",
           "linecolor": "white",
           "ticks": "",
           "title": {
            "standoff": 15
           },
           "zerolinecolor": "white",
           "zerolinewidth": 2
          }
         }
        }
       }
      },
      "text/html": [
       "<div>                            <div id=\"bec7558e-a586-493e-892e-e17e595e486d\" class=\"plotly-graph-div\" style=\"height:525px; width:100%;\"></div>            <script type=\"text/javascript\">                require([\"plotly\"], function(Plotly) {                    window.PLOTLYENV=window.PLOTLYENV || {};                                    if (document.getElementById(\"bec7558e-a586-493e-892e-e17e595e486d\")) {                    Plotly.newPlot(                        \"bec7558e-a586-493e-892e-e17e595e486d\",                        [{\"marker\":{\"color\":\"hotpink\"},\"name\":\"Gruppo 1 SFA\",\"x\":[\"August\",\"July\",\"June\",\"May\",\"September\"],\"y\":[74.9513743317,75.1205985423,77.15733979710001,76.2216937063,72.9530389044],\"type\":\"bar\"},{\"marker\":{\"color\":\"lightpink\"},\"name\":\"Gruppo 2 SFA\",\"x\":[\"August\",\"July\",\"June\",\"May\",\"September\"],\"y\":[74.15807793194999,73.77560005695,75.34085478224999,74.1395765959,73.12427451965051],\"type\":\"bar\"},{\"marker\":{\"color\":\"slategray\"},\"name\":\"Gruppo 1 MUFA\",\"x\":[\"August\",\"July\",\"June\",\"May\",\"September\"],\"y\":[21.0562338826,20.727556469249997,18.67699844795,19.56494908095,23.310417221149997],\"type\":\"bar\"},{\"marker\":{\"color\":\"silver\"},\"name\":\"Gruppo 2 MUFA\",\"x\":[\"August\",\"July\",\"June\",\"May\",\"September\"],\"y\":[21.7585996291,21.60134160965,20.65781292635,21.09516639425,22.852527006161345],\"type\":\"bar\"},{\"marker\":{\"color\":\"lightskyblue\"},\"name\":\"Gruppo 1 PUFA\",\"x\":[\"August\",\"July\",\"June\",\"May\",\"September\"],\"y\":[3.4774144006450003,3.6908840839500003,3.212725758165,3.549105101065,3.19504236055],\"type\":\"bar\"},{\"marker\":{\"color\":\"powderblue\"},\"name\":\"Gruppo 2 PUFA\",\"x\":[\"August\",\"July\",\"June\",\"May\",\"September\"],\"y\":[3.66117018235,4.0794732342,3.5502518462684995,4.1832353358,3.5249631400224772],\"type\":\"bar\"},{\"marker\":{\"color\":\"limegreen\"},\"name\":\"Gruppo 1 omega 6\",\"x\":[\"August\",\"July\",\"June\",\"May\",\"September\"],\"y\":[1.891602385,2.0451219763,1.9180201975149997,2.203735361315,1.7778371951],\"type\":\"bar\"},{\"marker\":{\"color\":\"chartreuse\"},\"name\":\"Gruppo 2 omega 6\",\"x\":[\"August\",\"July\",\"June\",\"May\",\"September\"],\"y\":[1.9789325799,2.2094722937,2.0820019381685,2.5424530685999995,1.9251790572933019],\"type\":\"bar\"},{\"marker\":{\"color\":\"peru\"},\"name\":\"Gruppo 1 omega 3\",\"x\":[\"August\",\"July\",\"June\",\"May\",\"September\"],\"y\":[0.9961317147,1.09567710765,0.8506505606499999,0.96867473975,0.7622051654499999],\"type\":\"bar\"},{\"marker\":{\"color\":\"tan\"},\"name\":\"Gruppo 2 omega 3\",\"x\":[\"August\",\"July\",\"June\",\"May\",\"September\"],\"y\":[0.99668460245,1.2044509405,0.9635599081,1.1626022672,0.9241967672721894],\"type\":\"bar\"},{\"marker\":{\"color\":\"tomato\"},\"name\":\"Gruppo 1 CLA\",\"x\":[\"August\",\"July\",\"June\",\"May\",\"September\"],\"y\":[0.589680300945,0.5500849999999999,0.444055,0.376695,0.655],\"type\":\"bar\"},{\"marker\":{\"color\":\"salmon\"},\"name\":\"Gruppo 2 CLA\",\"x\":[\"August\",\"July\",\"June\",\"May\",\"September\"],\"y\":[0.685553,0.66555,0.50469,0.47817999999999994,0.6755873154569858],\"type\":\"bar\"}],                        {\"template\":{\"data\":{\"bar\":[{\"error_x\":{\"color\":\"#2a3f5f\"},\"error_y\":{\"color\":\"#2a3f5f\"},\"marker\":{\"line\":{\"color\":\"#E5ECF6\",\"width\":0.5},\"pattern\":{\"fillmode\":\"overlay\",\"size\":10,\"solidity\":0.2}},\"type\":\"bar\"}],\"barpolar\":[{\"marker\":{\"line\":{\"color\":\"#E5ECF6\",\"width\":0.5},\"pattern\":{\"fillmode\":\"overlay\",\"size\":10,\"solidity\":0.2}},\"type\":\"barpolar\"}],\"carpet\":[{\"aaxis\":{\"endlinecolor\":\"#2a3f5f\",\"gridcolor\":\"white\",\"linecolor\":\"white\",\"minorgridcolor\":\"white\",\"startlinecolor\":\"#2a3f5f\"},\"baxis\":{\"endlinecolor\":\"#2a3f5f\",\"gridcolor\":\"white\",\"linecolor\":\"white\",\"minorgridcolor\":\"white\",\"startlinecolor\":\"#2a3f5f\"},\"type\":\"carpet\"}],\"choropleth\":[{\"colorbar\":{\"outlinewidth\":0,\"ticks\":\"\"},\"type\":\"choropleth\"}],\"contour\":[{\"colorbar\":{\"outlinewidth\":0,\"ticks\":\"\"},\"colorscale\":[[0.0,\"#0d0887\"],[0.1111111111111111,\"#46039f\"],[0.2222222222222222,\"#7201a8\"],[0.3333333333333333,\"#9c179e\"],[0.4444444444444444,\"#bd3786\"],[0.5555555555555556,\"#d8576b\"],[0.6666666666666666,\"#ed7953\"],[0.7777777777777778,\"#fb9f3a\"],[0.8888888888888888,\"#fdca26\"],[1.0,\"#f0f921\"]],\"type\":\"contour\"}],\"contourcarpet\":[{\"colorbar\":{\"outlinewidth\":0,\"ticks\":\"\"},\"type\":\"contourcarpet\"}],\"heatmap\":[{\"colorbar\":{\"outlinewidth\":0,\"ticks\":\"\"},\"colorscale\":[[0.0,\"#0d0887\"],[0.1111111111111111,\"#46039f\"],[0.2222222222222222,\"#7201a8\"],[0.3333333333333333,\"#9c179e\"],[0.4444444444444444,\"#bd3786\"],[0.5555555555555556,\"#d8576b\"],[0.6666666666666666,\"#ed7953\"],[0.7777777777777778,\"#fb9f3a\"],[0.8888888888888888,\"#fdca26\"],[1.0,\"#f0f921\"]],\"type\":\"heatmap\"}],\"heatmapgl\":[{\"colorbar\":{\"outlinewidth\":0,\"ticks\":\"\"},\"colorscale\":[[0.0,\"#0d0887\"],[0.1111111111111111,\"#46039f\"],[0.2222222222222222,\"#7201a8\"],[0.3333333333333333,\"#9c179e\"],[0.4444444444444444,\"#bd3786\"],[0.5555555555555556,\"#d8576b\"],[0.6666666666666666,\"#ed7953\"],[0.7777777777777778,\"#fb9f3a\"],[0.8888888888888888,\"#fdca26\"],[1.0,\"#f0f921\"]],\"type\":\"heatmapgl\"}],\"histogram\":[{\"marker\":{\"pattern\":{\"fillmode\":\"overlay\",\"size\":10,\"solidity\":0.2}},\"type\":\"histogram\"}],\"histogram2d\":[{\"colorbar\":{\"outlinewidth\":0,\"ticks\":\"\"},\"colorscale\":[[0.0,\"#0d0887\"],[0.1111111111111111,\"#46039f\"],[0.2222222222222222,\"#7201a8\"],[0.3333333333333333,\"#9c179e\"],[0.4444444444444444,\"#bd3786\"],[0.5555555555555556,\"#d8576b\"],[0.6666666666666666,\"#ed7953\"],[0.7777777777777778,\"#fb9f3a\"],[0.8888888888888888,\"#fdca26\"],[1.0,\"#f0f921\"]],\"type\":\"histogram2d\"}],\"histogram2dcontour\":[{\"colorbar\":{\"outlinewidth\":0,\"ticks\":\"\"},\"colorscale\":[[0.0,\"#0d0887\"],[0.1111111111111111,\"#46039f\"],[0.2222222222222222,\"#7201a8\"],[0.3333333333333333,\"#9c179e\"],[0.4444444444444444,\"#bd3786\"],[0.5555555555555556,\"#d8576b\"],[0.6666666666666666,\"#ed7953\"],[0.7777777777777778,\"#fb9f3a\"],[0.8888888888888888,\"#fdca26\"],[1.0,\"#f0f921\"]],\"type\":\"histogram2dcontour\"}],\"mesh3d\":[{\"colorbar\":{\"outlinewidth\":0,\"ticks\":\"\"},\"type\":\"mesh3d\"}],\"parcoords\":[{\"line\":{\"colorbar\":{\"outlinewidth\":0,\"ticks\":\"\"}},\"type\":\"parcoords\"}],\"pie\":[{\"automargin\":true,\"type\":\"pie\"}],\"scatter\":[{\"marker\":{\"colorbar\":{\"outlinewidth\":0,\"ticks\":\"\"}},\"type\":\"scatter\"}],\"scatter3d\":[{\"line\":{\"colorbar\":{\"outlinewidth\":0,\"ticks\":\"\"}},\"marker\":{\"colorbar\":{\"outlinewidth\":0,\"ticks\":\"\"}},\"type\":\"scatter3d\"}],\"scattercarpet\":[{\"marker\":{\"colorbar\":{\"outlinewidth\":0,\"ticks\":\"\"}},\"type\":\"scattercarpet\"}],\"scattergeo\":[{\"marker\":{\"colorbar\":{\"outlinewidth\":0,\"ticks\":\"\"}},\"type\":\"scattergeo\"}],\"scattergl\":[{\"marker\":{\"colorbar\":{\"outlinewidth\":0,\"ticks\":\"\"}},\"type\":\"scattergl\"}],\"scattermapbox\":[{\"marker\":{\"colorbar\":{\"outlinewidth\":0,\"ticks\":\"\"}},\"type\":\"scattermapbox\"}],\"scatterpolar\":[{\"marker\":{\"colorbar\":{\"outlinewidth\":0,\"ticks\":\"\"}},\"type\":\"scatterpolar\"}],\"scatterpolargl\":[{\"marker\":{\"colorbar\":{\"outlinewidth\":0,\"ticks\":\"\"}},\"type\":\"scatterpolargl\"}],\"scatterternary\":[{\"marker\":{\"colorbar\":{\"outlinewidth\":0,\"ticks\":\"\"}},\"type\":\"scatterternary\"}],\"surface\":[{\"colorbar\":{\"outlinewidth\":0,\"ticks\":\"\"},\"colorscale\":[[0.0,\"#0d0887\"],[0.1111111111111111,\"#46039f\"],[0.2222222222222222,\"#7201a8\"],[0.3333333333333333,\"#9c179e\"],[0.4444444444444444,\"#bd3786\"],[0.5555555555555556,\"#d8576b\"],[0.6666666666666666,\"#ed7953\"],[0.7777777777777778,\"#fb9f3a\"],[0.8888888888888888,\"#fdca26\"],[1.0,\"#f0f921\"]],\"type\":\"surface\"}],\"table\":[{\"cells\":{\"fill\":{\"color\":\"#EBF0F8\"},\"line\":{\"color\":\"white\"}},\"header\":{\"fill\":{\"color\":\"#C8D4E3\"},\"line\":{\"color\":\"white\"}},\"type\":\"table\"}]},\"layout\":{\"annotationdefaults\":{\"arrowcolor\":\"#2a3f5f\",\"arrowhead\":0,\"arrowwidth\":1},\"autotypenumbers\":\"strict\",\"coloraxis\":{\"colorbar\":{\"outlinewidth\":0,\"ticks\":\"\"}},\"colorscale\":{\"diverging\":[[0,\"#8e0152\"],[0.1,\"#c51b7d\"],[0.2,\"#de77ae\"],[0.3,\"#f1b6da\"],[0.4,\"#fde0ef\"],[0.5,\"#f7f7f7\"],[0.6,\"#e6f5d0\"],[0.7,\"#b8e186\"],[0.8,\"#7fbc41\"],[0.9,\"#4d9221\"],[1,\"#276419\"]],\"sequential\":[[0.0,\"#0d0887\"],[0.1111111111111111,\"#46039f\"],[0.2222222222222222,\"#7201a8\"],[0.3333333333333333,\"#9c179e\"],[0.4444444444444444,\"#bd3786\"],[0.5555555555555556,\"#d8576b\"],[0.6666666666666666,\"#ed7953\"],[0.7777777777777778,\"#fb9f3a\"],[0.8888888888888888,\"#fdca26\"],[1.0,\"#f0f921\"]],\"sequentialminus\":[[0.0,\"#0d0887\"],[0.1111111111111111,\"#46039f\"],[0.2222222222222222,\"#7201a8\"],[0.3333333333333333,\"#9c179e\"],[0.4444444444444444,\"#bd3786\"],[0.5555555555555556,\"#d8576b\"],[0.6666666666666666,\"#ed7953\"],[0.7777777777777778,\"#fb9f3a\"],[0.8888888888888888,\"#fdca26\"],[1.0,\"#f0f921\"]]},\"colorway\":[\"#636efa\",\"#EF553B\",\"#00cc96\",\"#ab63fa\",\"#FFA15A\",\"#19d3f3\",\"#FF6692\",\"#B6E880\",\"#FF97FF\",\"#FECB52\"],\"font\":{\"color\":\"#2a3f5f\"},\"geo\":{\"bgcolor\":\"white\",\"lakecolor\":\"white\",\"landcolor\":\"#E5ECF6\",\"showlakes\":true,\"showland\":true,\"subunitcolor\":\"white\"},\"hoverlabel\":{\"align\":\"left\"},\"hovermode\":\"closest\",\"mapbox\":{\"style\":\"light\"},\"paper_bgcolor\":\"white\",\"plot_bgcolor\":\"#E5ECF6\",\"polar\":{\"angularaxis\":{\"gridcolor\":\"white\",\"linecolor\":\"white\",\"ticks\":\"\"},\"bgcolor\":\"#E5ECF6\",\"radialaxis\":{\"gridcolor\":\"white\",\"linecolor\":\"white\",\"ticks\":\"\"}},\"scene\":{\"xaxis\":{\"backgroundcolor\":\"#E5ECF6\",\"gridcolor\":\"white\",\"gridwidth\":2,\"linecolor\":\"white\",\"showbackground\":true,\"ticks\":\"\",\"zerolinecolor\":\"white\"},\"yaxis\":{\"backgroundcolor\":\"#E5ECF6\",\"gridcolor\":\"white\",\"gridwidth\":2,\"linecolor\":\"white\",\"showbackground\":true,\"ticks\":\"\",\"zerolinecolor\":\"white\"},\"zaxis\":{\"backgroundcolor\":\"#E5ECF6\",\"gridcolor\":\"white\",\"gridwidth\":2,\"linecolor\":\"white\",\"showbackground\":true,\"ticks\":\"\",\"zerolinecolor\":\"white\"}},\"shapedefaults\":{\"line\":{\"color\":\"#2a3f5f\"}},\"ternary\":{\"aaxis\":{\"gridcolor\":\"white\",\"linecolor\":\"white\",\"ticks\":\"\"},\"baxis\":{\"gridcolor\":\"white\",\"linecolor\":\"white\",\"ticks\":\"\"},\"bgcolor\":\"#E5ECF6\",\"caxis\":{\"gridcolor\":\"white\",\"linecolor\":\"white\",\"ticks\":\"\"}},\"title\":{\"x\":0.05},\"xaxis\":{\"automargin\":true,\"gridcolor\":\"white\",\"linecolor\":\"white\",\"ticks\":\"\",\"title\":{\"standoff\":15},\"zerolinecolor\":\"white\",\"zerolinewidth\":2},\"yaxis\":{\"automargin\":true,\"gridcolor\":\"white\",\"linecolor\":\"white\",\"ticks\":\"\",\"title\":{\"standoff\":15},\"zerolinecolor\":\"white\",\"zerolinewidth\":2}}}},                        {\"responsive\": true}                    ).then(function(){\n",
       "                            \n",
       "var gd = document.getElementById('bec7558e-a586-493e-892e-e17e595e486d');\n",
       "var x = new MutationObserver(function (mutations, observer) {{\n",
       "        var display = window.getComputedStyle(gd).display;\n",
       "        if (!display || display === 'none') {{\n",
       "            console.log([gd, 'removed!']);\n",
       "            Plotly.purge(gd);\n",
       "            observer.disconnect();\n",
       "        }}\n",
       "}});\n",
       "\n",
       "// Listen for the removal of the full notebook cells\n",
       "var notebookContainer = gd.closest('#notebook-container');\n",
       "if (notebookContainer) {{\n",
       "    x.observe(notebookContainer, {childList: true});\n",
       "}}\n",
       "\n",
       "// Listen for the clearing of the current output cell\n",
       "var outputEl = gd.closest('.output');\n",
       "if (outputEl) {{\n",
       "    x.observe(outputEl, {childList: true});\n",
       "}}\n",
       "\n",
       "                        })                };                });            </script>        </div>"
      ]
     },
     "metadata": {},
     "output_type": "display_data"
    }
   ],
   "source": [
    "fig = go.Figure()\n",
    "fig.add_trace(go.Bar(\n",
    "    x= df3['Prelievo'],\n",
    "    y=df3[\"Gruppo 1 SFA\"],\n",
    "    name='Gruppo 1 SFA',\n",
    "    marker_color='hotpink'\n",
    "))\n",
    "fig.add_trace(go.Bar(\n",
    "    x= df3['Prelievo'],\n",
    "    y=df3[\"Gruppo 2 SFA\"],\n",
    "    name='Gruppo 2 SFA',\n",
    "    marker_color='lightpink'\n",
    "))\n",
    "fig.add_trace(go.Bar(\n",
    "    x= df3['Prelievo'],\n",
    "    y=df3[\"Gruppo 1 MUFA\"],\n",
    "    name='Gruppo 1 MUFA',\n",
    "    marker_color='slategray'\n",
    "))\n",
    "fig.add_trace(go.Bar(\n",
    "    x= df3['Prelievo'],\n",
    "    y=df3[\"Gruppo 2 MUFA\"],\n",
    "    name='Gruppo 2 MUFA',\n",
    "    marker_color='silver'\n",
    "))\n",
    "fig.add_trace(go.Bar(\n",
    "    x= df3['Prelievo'],\n",
    "    y=df3[\"Gruppo 1 PUFA\"],\n",
    "    name='Gruppo 1 PUFA',\n",
    "    marker_color='lightskyblue'\n",
    "))\n",
    "fig.add_trace(go.Bar(\n",
    "    x= df3['Prelievo'],\n",
    "    y=df3[\"Gruppo 2 PUFA\"],\n",
    "    name='Gruppo 2 PUFA',\n",
    "    marker_color='powderblue'\n",
    "))\n",
    "fig.add_trace(go.Bar(\n",
    "    x= df3['Prelievo'],\n",
    "    y=df3[\"Gruppo 1 omega 6\"],\n",
    "    name='Gruppo 1 omega 6',\n",
    "    marker_color='limegreen'\n",
    "))\n",
    "fig.add_trace(go.Bar(\n",
    "    x= df3['Prelievo'],\n",
    "    y=df3[\"Gruppo 2 omega 6\"],\n",
    "    name='Gruppo 2 omega 6',\n",
    "    marker_color='chartreuse'\n",
    "))\n",
    "fig.add_trace(go.Bar(\n",
    "    x= df3['Prelievo'],\n",
    "    y=df3[\"Gruppo 1 omega 3\"],\n",
    "    name='Gruppo 1 omega 3',\n",
    "    marker_color='peru'\n",
    "))\n",
    "fig.add_trace(go.Bar(\n",
    "    x= df3['Prelievo'],\n",
    "    y=df3[\"Gruppo 2 omega 3\"],\n",
    "    name='Gruppo 2 omega 3',\n",
    "    marker_color='tan'\n",
    "))\n",
    "fig.add_trace(go.Bar(\n",
    "    x= df3['Prelievo'],\n",
    "    y=df3[\"Gruppo 1 CLA\"],\n",
    "    name='Gruppo 1 CLA',\n",
    "    marker_color='tomato'\n",
    "))\n",
    "fig.add_trace(go.Bar(\n",
    "    x= df3['Prelievo'],\n",
    "    y=df3[\"Gruppo 2 CLA\"],\n",
    "    name='Gruppo 2 CLA',\n",
    "    marker_color='salmon'\n",
    "))"
   ]
  },
  {
   "cell_type": "markdown",
   "id": "6fb8cf4f",
   "metadata": {},
   "source": [
    "### Creating new dataframe with only FAP mean"
   ]
  },
  {
   "cell_type": "code",
   "execution_count": 137,
   "id": "bbead2e4",
   "metadata": {},
   "outputs": [
    {
     "data": {
      "text/html": [
       "<div>\n",
       "<style scoped>\n",
       "    .dataframe tbody tr th:only-of-type {\n",
       "        vertical-align: middle;\n",
       "    }\n",
       "\n",
       "    .dataframe tbody tr th {\n",
       "        vertical-align: top;\n",
       "    }\n",
       "\n",
       "    .dataframe thead th {\n",
       "        text-align: right;\n",
       "    }\n",
       "</style>\n",
       "<table border=\"1\" class=\"dataframe\">\n",
       "  <thead>\n",
       "    <tr style=\"text-align: right;\">\n",
       "      <th></th>\n",
       "      <th>Prelievo</th>\n",
       "      <th>Gruppo</th>\n",
       "      <th>Saturi (SFA)</th>\n",
       "      <th>Monoinsaturi (MUFA)</th>\n",
       "      <th>Polinsaturi (PUFA)</th>\n",
       "      <th>omega 6</th>\n",
       "      <th>omega 3</th>\n",
       "      <th>CLA</th>\n",
       "    </tr>\n",
       "  </thead>\n",
       "  <tbody>\n",
       "    <tr>\n",
       "      <th>0</th>\n",
       "      <td>August</td>\n",
       "      <td>1</td>\n",
       "      <td>74.951374</td>\n",
       "      <td>21.056234</td>\n",
       "      <td>3.477414</td>\n",
       "      <td>1.891602</td>\n",
       "      <td>0.996132</td>\n",
       "      <td>0.589680</td>\n",
       "    </tr>\n",
       "    <tr>\n",
       "      <th>1</th>\n",
       "      <td>August</td>\n",
       "      <td>2</td>\n",
       "      <td>74.158078</td>\n",
       "      <td>21.758600</td>\n",
       "      <td>3.661170</td>\n",
       "      <td>1.978933</td>\n",
       "      <td>0.996685</td>\n",
       "      <td>0.685553</td>\n",
       "    </tr>\n",
       "    <tr>\n",
       "      <th>2</th>\n",
       "      <td>July</td>\n",
       "      <td>1</td>\n",
       "      <td>75.120599</td>\n",
       "      <td>20.727556</td>\n",
       "      <td>3.690884</td>\n",
       "      <td>2.045122</td>\n",
       "      <td>1.095677</td>\n",
       "      <td>0.550085</td>\n",
       "    </tr>\n",
       "    <tr>\n",
       "      <th>3</th>\n",
       "      <td>July</td>\n",
       "      <td>2</td>\n",
       "      <td>73.775600</td>\n",
       "      <td>21.601342</td>\n",
       "      <td>4.079473</td>\n",
       "      <td>2.209472</td>\n",
       "      <td>1.204451</td>\n",
       "      <td>0.665550</td>\n",
       "    </tr>\n",
       "    <tr>\n",
       "      <th>4</th>\n",
       "      <td>June</td>\n",
       "      <td>1</td>\n",
       "      <td>77.157340</td>\n",
       "      <td>18.676998</td>\n",
       "      <td>3.212726</td>\n",
       "      <td>1.918020</td>\n",
       "      <td>0.850651</td>\n",
       "      <td>0.444055</td>\n",
       "    </tr>\n",
       "    <tr>\n",
       "      <th>5</th>\n",
       "      <td>June</td>\n",
       "      <td>2</td>\n",
       "      <td>75.340855</td>\n",
       "      <td>20.657813</td>\n",
       "      <td>3.550252</td>\n",
       "      <td>2.082002</td>\n",
       "      <td>0.963560</td>\n",
       "      <td>0.504690</td>\n",
       "    </tr>\n",
       "    <tr>\n",
       "      <th>6</th>\n",
       "      <td>May</td>\n",
       "      <td>1</td>\n",
       "      <td>76.221694</td>\n",
       "      <td>19.564949</td>\n",
       "      <td>3.549105</td>\n",
       "      <td>2.203735</td>\n",
       "      <td>0.968675</td>\n",
       "      <td>0.376695</td>\n",
       "    </tr>\n",
       "    <tr>\n",
       "      <th>7</th>\n",
       "      <td>May</td>\n",
       "      <td>2</td>\n",
       "      <td>74.139577</td>\n",
       "      <td>21.095166</td>\n",
       "      <td>4.183235</td>\n",
       "      <td>2.542453</td>\n",
       "      <td>1.162602</td>\n",
       "      <td>0.478180</td>\n",
       "    </tr>\n",
       "    <tr>\n",
       "      <th>8</th>\n",
       "      <td>September</td>\n",
       "      <td>1</td>\n",
       "      <td>72.953039</td>\n",
       "      <td>23.310417</td>\n",
       "      <td>3.195042</td>\n",
       "      <td>1.777837</td>\n",
       "      <td>0.762205</td>\n",
       "      <td>0.655000</td>\n",
       "    </tr>\n",
       "    <tr>\n",
       "      <th>9</th>\n",
       "      <td>September</td>\n",
       "      <td>2</td>\n",
       "      <td>73.124275</td>\n",
       "      <td>22.852527</td>\n",
       "      <td>3.524963</td>\n",
       "      <td>1.925179</td>\n",
       "      <td>0.924197</td>\n",
       "      <td>0.675587</td>\n",
       "    </tr>\n",
       "  </tbody>\n",
       "</table>\n",
       "</div>"
      ],
      "text/plain": [
       "    Prelievo  Gruppo  Saturi (SFA)  Monoinsaturi (MUFA)  Polinsaturi (PUFA)  \\\n",
       "0     August       1     74.951374            21.056234            3.477414   \n",
       "1     August       2     74.158078            21.758600            3.661170   \n",
       "2       July       1     75.120599            20.727556            3.690884   \n",
       "3       July       2     73.775600            21.601342            4.079473   \n",
       "4       June       1     77.157340            18.676998            3.212726   \n",
       "5       June       2     75.340855            20.657813            3.550252   \n",
       "6        May       1     76.221694            19.564949            3.549105   \n",
       "7        May       2     74.139577            21.095166            4.183235   \n",
       "8  September       1     72.953039            23.310417            3.195042   \n",
       "9  September       2     73.124275            22.852527            3.524963   \n",
       "\n",
       "    omega 6   omega 3       CLA  \n",
       "0  1.891602  0.996132  0.589680  \n",
       "1  1.978933  0.996685  0.685553  \n",
       "2  2.045122  1.095677  0.550085  \n",
       "3  2.209472  1.204451  0.665550  \n",
       "4  1.918020  0.850651  0.444055  \n",
       "5  2.082002  0.963560  0.504690  \n",
       "6  2.203735  0.968675  0.376695  \n",
       "7  2.542453  1.162602  0.478180  \n",
       "8  1.777837  0.762205  0.655000  \n",
       "9  1.925179  0.924197  0.675587  "
      ]
     },
     "execution_count": 137,
     "metadata": {},
     "output_type": "execute_result"
    }
   ],
   "source": [
    "df_subplots = df.groupby([\"Prelievo\", \"Gruppo\"], as_index = False).mean()[[\"Prelievo\",\"Gruppo\", \"Saturi (SFA)\", \"Monoinsaturi (MUFA)\", \"Polinsaturi (PUFA)\", \"omega 6\", \"omega 3\", \"CLA\"]]\n",
    "df2\n",
    "df_subplots"
   ]
  },
  {
   "cell_type": "markdown",
   "id": "ff8774fd",
   "metadata": {},
   "source": [
    "### Creating comparison charts of FAP mean by group and by month"
   ]
  },
  {
   "cell_type": "code",
   "execution_count": 139,
   "id": "8ba5225e",
   "metadata": {},
   "outputs": [
    {
     "data": {
      "application/vnd.plotly.v1+json": {
       "config": {
        "plotlyServerURL": "https://plot.ly"
       },
       "data": [
        {
         "type": "bar",
         "x": [
          1,
          2,
          1,
          2,
          1,
          2,
          1,
          2,
          1,
          2
         ],
         "xaxis": "x",
         "y": [
          76.2216937063,
          74.1395765959
         ],
         "yaxis": "y"
        },
        {
         "type": "bar",
         "x": [
          1,
          2,
          1,
          2,
          1,
          2,
          1,
          2,
          1,
          2
         ],
         "xaxis": "x2",
         "y": [
          77.15733979710001,
          75.34085478224999
         ],
         "yaxis": "y2"
        },
        {
         "type": "bar",
         "x": [
          1,
          2,
          1,
          2,
          1,
          2,
          1,
          2,
          1,
          2
         ],
         "xaxis": "x3",
         "y": [
          75.1205985423,
          73.77560005695
         ],
         "yaxis": "y3"
        },
        {
         "type": "bar",
         "x": [
          1,
          2,
          1,
          2,
          1,
          2,
          1,
          2,
          1,
          2
         ],
         "xaxis": "x4",
         "y": [
          74.9513743317,
          74.15807793194999
         ],
         "yaxis": "y4"
        },
        {
         "type": "bar",
         "x": [
          1,
          2,
          1,
          2,
          1,
          2,
          1,
          2,
          1,
          2
         ],
         "xaxis": "x5",
         "y": [
          72.9530389044,
          73.12427451965051
         ],
         "yaxis": "y5"
        },
        {
         "type": "bar",
         "x": [
          1,
          2,
          1,
          2,
          1,
          2,
          1,
          2,
          1,
          2
         ],
         "xaxis": "x6",
         "y": [
          3.549105101065,
          4.1832353358
         ],
         "yaxis": "y6"
        },
        {
         "type": "bar",
         "x": [
          1,
          2,
          1,
          2,
          1,
          2,
          1,
          2,
          1,
          2
         ],
         "xaxis": "x7",
         "y": [
          3.212725758165,
          3.5502518462684995
         ],
         "yaxis": "y7"
        },
        {
         "type": "bar",
         "x": [
          1,
          2,
          1,
          2,
          1,
          2,
          1,
          2,
          1,
          2
         ],
         "xaxis": "x8",
         "y": [
          3.6908840839500003,
          4.0794732342
         ],
         "yaxis": "y8"
        },
        {
         "type": "bar",
         "x": [
          1,
          2,
          1,
          2,
          1,
          2,
          1,
          2,
          1,
          2
         ],
         "xaxis": "x9",
         "y": [
          3.4774144006450003,
          3.66117018235
         ],
         "yaxis": "y9"
        },
        {
         "type": "bar",
         "x": [
          1,
          2,
          1,
          2,
          1,
          2,
          1,
          2,
          1,
          2
         ],
         "xaxis": "x10",
         "y": [
          3.19504236055,
          3.5249631400224772
         ],
         "yaxis": "y10"
        },
        {
         "type": "bar",
         "x": [
          1,
          2,
          1,
          2,
          1,
          2,
          1,
          2,
          1,
          2
         ],
         "xaxis": "x11",
         "y": [
          19.56494908095,
          21.09516639425
         ],
         "yaxis": "y11"
        },
        {
         "type": "bar",
         "x": [
          1,
          2,
          1,
          2,
          1,
          2,
          1,
          2,
          1,
          2
         ],
         "xaxis": "x12",
         "y": [
          18.67699844795,
          20.65781292635
         ],
         "yaxis": "y12"
        },
        {
         "type": "bar",
         "x": [
          1,
          2,
          1,
          2,
          1,
          2,
          1,
          2,
          1,
          2
         ],
         "xaxis": "x13",
         "y": [
          20.727556469249997,
          21.60134160965
         ],
         "yaxis": "y13"
        },
        {
         "type": "bar",
         "x": [
          1,
          2,
          1,
          2,
          1,
          2,
          1,
          2,
          1,
          2
         ],
         "xaxis": "x14",
         "y": [
          21.0562338826,
          21.7585996291
         ],
         "yaxis": "y14"
        },
        {
         "type": "bar",
         "x": [
          1,
          2,
          1,
          2,
          1,
          2,
          1,
          2,
          1,
          2
         ],
         "xaxis": "x15",
         "y": [
          23.310417221149997,
          22.852527006161345
         ],
         "yaxis": "y15"
        },
        {
         "type": "bar",
         "x": [
          1,
          2,
          1,
          2,
          1,
          2,
          1,
          2,
          1,
          2
         ],
         "xaxis": "x16",
         "y": [
          2.203735361315,
          2.5424530685999995
         ],
         "yaxis": "y16"
        },
        {
         "type": "bar",
         "x": [
          1,
          2,
          1,
          2,
          1,
          2,
          1,
          2,
          1,
          2
         ],
         "xaxis": "x17",
         "y": [
          1.9180201975149997,
          2.0820019381685
         ],
         "yaxis": "y17"
        },
        {
         "type": "bar",
         "x": [
          1,
          2,
          1,
          2,
          1,
          2,
          1,
          2,
          1,
          2
         ],
         "xaxis": "x18",
         "y": [
          2.0451219763,
          2.2094722937
         ],
         "yaxis": "y18"
        },
        {
         "type": "bar",
         "x": [
          1,
          2,
          1,
          2,
          1,
          2,
          1,
          2,
          1,
          2
         ],
         "xaxis": "x19",
         "y": [
          1.891602385,
          1.9789325799
         ],
         "yaxis": "y19"
        },
        {
         "type": "bar",
         "x": [
          1,
          2,
          1,
          2,
          1,
          2,
          1,
          2,
          1,
          2
         ],
         "xaxis": "x20",
         "y": [
          1.7778371951,
          1.9251790572933019
         ],
         "yaxis": "y20"
        },
        {
         "type": "bar",
         "x": [
          1,
          2,
          1,
          2,
          1,
          2,
          1,
          2,
          1,
          2
         ],
         "xaxis": "x21",
         "y": [
          0.96867473975,
          1.1626022672
         ],
         "yaxis": "y21"
        },
        {
         "type": "bar",
         "x": [
          1,
          2,
          1,
          2,
          1,
          2,
          1,
          2,
          1,
          2
         ],
         "xaxis": "x22",
         "y": [
          0.8506505606499999,
          0.9635599081
         ],
         "yaxis": "y22"
        },
        {
         "type": "bar",
         "x": [
          1,
          2,
          1,
          2,
          1,
          2,
          1,
          2,
          1,
          2
         ],
         "xaxis": "x23",
         "y": [
          1.09567710765,
          1.2044509405
         ],
         "yaxis": "y23"
        },
        {
         "type": "bar",
         "x": [
          1,
          2,
          1,
          2,
          1,
          2,
          1,
          2,
          1,
          2
         ],
         "xaxis": "x24",
         "y": [
          0.9961317147,
          0.99668460245
         ],
         "yaxis": "y24"
        },
        {
         "type": "bar",
         "x": [
          1,
          2,
          1,
          2,
          1,
          2,
          1,
          2,
          1,
          2
         ],
         "xaxis": "x25",
         "y": [
          0.7622051654499999,
          0.9241967672721894
         ],
         "yaxis": "y25"
        },
        {
         "type": "bar",
         "x": [
          1,
          2,
          1,
          2,
          1,
          2,
          1,
          2,
          1,
          2
         ],
         "xaxis": "x26",
         "y": [
          0.376695,
          0.47817999999999994
         ],
         "yaxis": "y26"
        },
        {
         "type": "bar",
         "x": [
          1,
          2,
          1,
          2,
          1,
          2,
          1,
          2,
          1,
          2
         ],
         "xaxis": "x27",
         "y": [
          0.444055,
          0.50469
         ],
         "yaxis": "y27"
        },
        {
         "type": "bar",
         "x": [
          1,
          2,
          1,
          2,
          1,
          2,
          1,
          2,
          1,
          2
         ],
         "xaxis": "x28",
         "y": [
          0.5500849999999999,
          0.66555
         ],
         "yaxis": "y28"
        },
        {
         "type": "bar",
         "x": [
          1,
          2,
          1,
          2,
          1,
          2,
          1,
          2,
          1,
          2
         ],
         "xaxis": "x29",
         "y": [
          0.589680300945,
          0.685553
         ],
         "yaxis": "y29"
        },
        {
         "type": "bar",
         "x": [
          1,
          2,
          1,
          2,
          1,
          2,
          1,
          2,
          1,
          2
         ],
         "xaxis": "x30",
         "y": [
          0.655,
          0.6755873154569858
         ],
         "yaxis": "y30"
        }
       ],
       "layout": {
        "annotations": [
         {
          "font": {
           "size": 16
          },
          "showarrow": false,
          "text": "SFA - May",
          "x": 0.08399999999999999,
          "xanchor": "center",
          "xref": "paper",
          "y": 0.9999999999999999,
          "yanchor": "bottom",
          "yref": "paper"
         },
         {
          "font": {
           "size": 16
          },
          "showarrow": false,
          "text": "SFA - June",
          "x": 0.292,
          "xanchor": "center",
          "xref": "paper",
          "y": 0.9999999999999999,
          "yanchor": "bottom",
          "yref": "paper"
         },
         {
          "font": {
           "size": 16
          },
          "showarrow": false,
          "text": "SFA - July",
          "x": 0.5,
          "xanchor": "center",
          "xref": "paper",
          "y": 0.9999999999999999,
          "yanchor": "bottom",
          "yref": "paper"
         },
         {
          "font": {
           "size": 16
          },
          "showarrow": false,
          "text": "SFA - August",
          "x": 0.708,
          "xanchor": "center",
          "xref": "paper",
          "y": 0.9999999999999999,
          "yanchor": "bottom",
          "yref": "paper"
         },
         {
          "font": {
           "size": 16
          },
          "showarrow": false,
          "text": "SFA - September",
          "x": 0.9159999999999999,
          "xanchor": "center",
          "xref": "paper",
          "y": 0.9999999999999999,
          "yanchor": "bottom",
          "yref": "paper"
         },
         {
          "font": {
           "size": 16
          },
          "showarrow": false,
          "text": "PUFA - May",
          "x": 0.08399999999999999,
          "xanchor": "center",
          "xref": "paper",
          "y": 0.8194444444444444,
          "yanchor": "bottom",
          "yref": "paper"
         },
         {
          "font": {
           "size": 16
          },
          "showarrow": false,
          "text": "PUFA - June",
          "x": 0.292,
          "xanchor": "center",
          "xref": "paper",
          "y": 0.8194444444444444,
          "yanchor": "bottom",
          "yref": "paper"
         },
         {
          "font": {
           "size": 16
          },
          "showarrow": false,
          "text": "PUFA - July",
          "x": 0.5,
          "xanchor": "center",
          "xref": "paper",
          "y": 0.8194444444444444,
          "yanchor": "bottom",
          "yref": "paper"
         },
         {
          "font": {
           "size": 16
          },
          "showarrow": false,
          "text": "PUFA - August",
          "x": 0.708,
          "xanchor": "center",
          "xref": "paper",
          "y": 0.8194444444444444,
          "yanchor": "bottom",
          "yref": "paper"
         },
         {
          "font": {
           "size": 16
          },
          "showarrow": false,
          "text": "PUFA - September",
          "x": 0.9159999999999999,
          "xanchor": "center",
          "xref": "paper",
          "y": 0.8194444444444444,
          "yanchor": "bottom",
          "yref": "paper"
         },
         {
          "font": {
           "size": 16
          },
          "showarrow": false,
          "text": "MUFA - May",
          "x": 0.08399999999999999,
          "xanchor": "center",
          "xref": "paper",
          "y": 0.638888888888889,
          "yanchor": "bottom",
          "yref": "paper"
         },
         {
          "font": {
           "size": 16
          },
          "showarrow": false,
          "text": "MUFA - June",
          "x": 0.292,
          "xanchor": "center",
          "xref": "paper",
          "y": 0.638888888888889,
          "yanchor": "bottom",
          "yref": "paper"
         },
         {
          "font": {
           "size": 16
          },
          "showarrow": false,
          "text": "MUFA - July",
          "x": 0.5,
          "xanchor": "center",
          "xref": "paper",
          "y": 0.638888888888889,
          "yanchor": "bottom",
          "yref": "paper"
         },
         {
          "font": {
           "size": 16
          },
          "showarrow": false,
          "text": "MUFA - August",
          "x": 0.708,
          "xanchor": "center",
          "xref": "paper",
          "y": 0.638888888888889,
          "yanchor": "bottom",
          "yref": "paper"
         },
         {
          "font": {
           "size": 16
          },
          "showarrow": false,
          "text": "MUFA - September",
          "x": 0.9159999999999999,
          "xanchor": "center",
          "xref": "paper",
          "y": 0.638888888888889,
          "yanchor": "bottom",
          "yref": "paper"
         },
         {
          "font": {
           "size": 16
          },
          "showarrow": false,
          "text": "Omega 6 - May",
          "x": 0.08399999999999999,
          "xanchor": "center",
          "xref": "paper",
          "y": 0.4583333333333333,
          "yanchor": "bottom",
          "yref": "paper"
         },
         {
          "font": {
           "size": 16
          },
          "showarrow": false,
          "text": "Omega 6 - June",
          "x": 0.292,
          "xanchor": "center",
          "xref": "paper",
          "y": 0.4583333333333333,
          "yanchor": "bottom",
          "yref": "paper"
         },
         {
          "font": {
           "size": 16
          },
          "showarrow": false,
          "text": "Omega 6 - July",
          "x": 0.5,
          "xanchor": "center",
          "xref": "paper",
          "y": 0.4583333333333333,
          "yanchor": "bottom",
          "yref": "paper"
         },
         {
          "font": {
           "size": 16
          },
          "showarrow": false,
          "text": "Omega 6 - August",
          "x": 0.708,
          "xanchor": "center",
          "xref": "paper",
          "y": 0.4583333333333333,
          "yanchor": "bottom",
          "yref": "paper"
         },
         {
          "font": {
           "size": 16
          },
          "showarrow": false,
          "text": "Omega 6 - September",
          "x": 0.9159999999999999,
          "xanchor": "center",
          "xref": "paper",
          "y": 0.4583333333333333,
          "yanchor": "bottom",
          "yref": "paper"
         },
         {
          "font": {
           "size": 16
          },
          "showarrow": false,
          "text": "Omega 3 - May",
          "x": 0.08399999999999999,
          "xanchor": "center",
          "xref": "paper",
          "y": 0.2777777777777778,
          "yanchor": "bottom",
          "yref": "paper"
         },
         {
          "font": {
           "size": 16
          },
          "showarrow": false,
          "text": "Omega 3 - June",
          "x": 0.292,
          "xanchor": "center",
          "xref": "paper",
          "y": 0.2777777777777778,
          "yanchor": "bottom",
          "yref": "paper"
         },
         {
          "font": {
           "size": 16
          },
          "showarrow": false,
          "text": "Omega 3 - July",
          "x": 0.5,
          "xanchor": "center",
          "xref": "paper",
          "y": 0.2777777777777778,
          "yanchor": "bottom",
          "yref": "paper"
         },
         {
          "font": {
           "size": 16
          },
          "showarrow": false,
          "text": "Omega 3 - August",
          "x": 0.708,
          "xanchor": "center",
          "xref": "paper",
          "y": 0.2777777777777778,
          "yanchor": "bottom",
          "yref": "paper"
         },
         {
          "font": {
           "size": 16
          },
          "showarrow": false,
          "text": "Omega 3 - September",
          "x": 0.9159999999999999,
          "xanchor": "center",
          "xref": "paper",
          "y": 0.2777777777777778,
          "yanchor": "bottom",
          "yref": "paper"
         },
         {
          "font": {
           "size": 16
          },
          "showarrow": false,
          "text": "CLA - May",
          "x": 0.08399999999999999,
          "xanchor": "center",
          "xref": "paper",
          "y": 0.09722222222222222,
          "yanchor": "bottom",
          "yref": "paper"
         },
         {
          "font": {
           "size": 16
          },
          "showarrow": false,
          "text": "CLA - June",
          "x": 0.292,
          "xanchor": "center",
          "xref": "paper",
          "y": 0.09722222222222222,
          "yanchor": "bottom",
          "yref": "paper"
         },
         {
          "font": {
           "size": 16
          },
          "showarrow": false,
          "text": "CLA - July",
          "x": 0.5,
          "xanchor": "center",
          "xref": "paper",
          "y": 0.09722222222222222,
          "yanchor": "bottom",
          "yref": "paper"
         },
         {
          "font": {
           "size": 16
          },
          "showarrow": false,
          "text": "CLA - August",
          "x": 0.708,
          "xanchor": "center",
          "xref": "paper",
          "y": 0.09722222222222222,
          "yanchor": "bottom",
          "yref": "paper"
         },
         {
          "font": {
           "size": 16
          },
          "showarrow": false,
          "text": "CLA - September",
          "x": 0.9159999999999999,
          "xanchor": "center",
          "xref": "paper",
          "y": 0.09722222222222222,
          "yanchor": "bottom",
          "yref": "paper"
         }
        ],
        "height": 1500,
        "showlegend": false,
        "template": {
         "data": {
          "bar": [
           {
            "error_x": {
             "color": "#2a3f5f"
            },
            "error_y": {
             "color": "#2a3f5f"
            },
            "marker": {
             "line": {
              "color": "#E5ECF6",
              "width": 0.5
             },
             "pattern": {
              "fillmode": "overlay",
              "size": 10,
              "solidity": 0.2
             }
            },
            "type": "bar"
           }
          ],
          "barpolar": [
           {
            "marker": {
             "line": {
              "color": "#E5ECF6",
              "width": 0.5
             },
             "pattern": {
              "fillmode": "overlay",
              "size": 10,
              "solidity": 0.2
             }
            },
            "type": "barpolar"
           }
          ],
          "carpet": [
           {
            "aaxis": {
             "endlinecolor": "#2a3f5f",
             "gridcolor": "white",
             "linecolor": "white",
             "minorgridcolor": "white",
             "startlinecolor": "#2a3f5f"
            },
            "baxis": {
             "endlinecolor": "#2a3f5f",
             "gridcolor": "white",
             "linecolor": "white",
             "minorgridcolor": "white",
             "startlinecolor": "#2a3f5f"
            },
            "type": "carpet"
           }
          ],
          "choropleth": [
           {
            "colorbar": {
             "outlinewidth": 0,
             "ticks": ""
            },
            "type": "choropleth"
           }
          ],
          "contour": [
           {
            "colorbar": {
             "outlinewidth": 0,
             "ticks": ""
            },
            "colorscale": [
             [
              0,
              "#0d0887"
             ],
             [
              0.1111111111111111,
              "#46039f"
             ],
             [
              0.2222222222222222,
              "#7201a8"
             ],
             [
              0.3333333333333333,
              "#9c179e"
             ],
             [
              0.4444444444444444,
              "#bd3786"
             ],
             [
              0.5555555555555556,
              "#d8576b"
             ],
             [
              0.6666666666666666,
              "#ed7953"
             ],
             [
              0.7777777777777778,
              "#fb9f3a"
             ],
             [
              0.8888888888888888,
              "#fdca26"
             ],
             [
              1,
              "#f0f921"
             ]
            ],
            "type": "contour"
           }
          ],
          "contourcarpet": [
           {
            "colorbar": {
             "outlinewidth": 0,
             "ticks": ""
            },
            "type": "contourcarpet"
           }
          ],
          "heatmap": [
           {
            "colorbar": {
             "outlinewidth": 0,
             "ticks": ""
            },
            "colorscale": [
             [
              0,
              "#0d0887"
             ],
             [
              0.1111111111111111,
              "#46039f"
             ],
             [
              0.2222222222222222,
              "#7201a8"
             ],
             [
              0.3333333333333333,
              "#9c179e"
             ],
             [
              0.4444444444444444,
              "#bd3786"
             ],
             [
              0.5555555555555556,
              "#d8576b"
             ],
             [
              0.6666666666666666,
              "#ed7953"
             ],
             [
              0.7777777777777778,
              "#fb9f3a"
             ],
             [
              0.8888888888888888,
              "#fdca26"
             ],
             [
              1,
              "#f0f921"
             ]
            ],
            "type": "heatmap"
           }
          ],
          "heatmapgl": [
           {
            "colorbar": {
             "outlinewidth": 0,
             "ticks": ""
            },
            "colorscale": [
             [
              0,
              "#0d0887"
             ],
             [
              0.1111111111111111,
              "#46039f"
             ],
             [
              0.2222222222222222,
              "#7201a8"
             ],
             [
              0.3333333333333333,
              "#9c179e"
             ],
             [
              0.4444444444444444,
              "#bd3786"
             ],
             [
              0.5555555555555556,
              "#d8576b"
             ],
             [
              0.6666666666666666,
              "#ed7953"
             ],
             [
              0.7777777777777778,
              "#fb9f3a"
             ],
             [
              0.8888888888888888,
              "#fdca26"
             ],
             [
              1,
              "#f0f921"
             ]
            ],
            "type": "heatmapgl"
           }
          ],
          "histogram": [
           {
            "marker": {
             "pattern": {
              "fillmode": "overlay",
              "size": 10,
              "solidity": 0.2
             }
            },
            "type": "histogram"
           }
          ],
          "histogram2d": [
           {
            "colorbar": {
             "outlinewidth": 0,
             "ticks": ""
            },
            "colorscale": [
             [
              0,
              "#0d0887"
             ],
             [
              0.1111111111111111,
              "#46039f"
             ],
             [
              0.2222222222222222,
              "#7201a8"
             ],
             [
              0.3333333333333333,
              "#9c179e"
             ],
             [
              0.4444444444444444,
              "#bd3786"
             ],
             [
              0.5555555555555556,
              "#d8576b"
             ],
             [
              0.6666666666666666,
              "#ed7953"
             ],
             [
              0.7777777777777778,
              "#fb9f3a"
             ],
             [
              0.8888888888888888,
              "#fdca26"
             ],
             [
              1,
              "#f0f921"
             ]
            ],
            "type": "histogram2d"
           }
          ],
          "histogram2dcontour": [
           {
            "colorbar": {
             "outlinewidth": 0,
             "ticks": ""
            },
            "colorscale": [
             [
              0,
              "#0d0887"
             ],
             [
              0.1111111111111111,
              "#46039f"
             ],
             [
              0.2222222222222222,
              "#7201a8"
             ],
             [
              0.3333333333333333,
              "#9c179e"
             ],
             [
              0.4444444444444444,
              "#bd3786"
             ],
             [
              0.5555555555555556,
              "#d8576b"
             ],
             [
              0.6666666666666666,
              "#ed7953"
             ],
             [
              0.7777777777777778,
              "#fb9f3a"
             ],
             [
              0.8888888888888888,
              "#fdca26"
             ],
             [
              1,
              "#f0f921"
             ]
            ],
            "type": "histogram2dcontour"
           }
          ],
          "mesh3d": [
           {
            "colorbar": {
             "outlinewidth": 0,
             "ticks": ""
            },
            "type": "mesh3d"
           }
          ],
          "parcoords": [
           {
            "line": {
             "colorbar": {
              "outlinewidth": 0,
              "ticks": ""
             }
            },
            "type": "parcoords"
           }
          ],
          "pie": [
           {
            "automargin": true,
            "type": "pie"
           }
          ],
          "scatter": [
           {
            "marker": {
             "colorbar": {
              "outlinewidth": 0,
              "ticks": ""
             }
            },
            "type": "scatter"
           }
          ],
          "scatter3d": [
           {
            "line": {
             "colorbar": {
              "outlinewidth": 0,
              "ticks": ""
             }
            },
            "marker": {
             "colorbar": {
              "outlinewidth": 0,
              "ticks": ""
             }
            },
            "type": "scatter3d"
           }
          ],
          "scattercarpet": [
           {
            "marker": {
             "colorbar": {
              "outlinewidth": 0,
              "ticks": ""
             }
            },
            "type": "scattercarpet"
           }
          ],
          "scattergeo": [
           {
            "marker": {
             "colorbar": {
              "outlinewidth": 0,
              "ticks": ""
             }
            },
            "type": "scattergeo"
           }
          ],
          "scattergl": [
           {
            "marker": {
             "colorbar": {
              "outlinewidth": 0,
              "ticks": ""
             }
            },
            "type": "scattergl"
           }
          ],
          "scattermapbox": [
           {
            "marker": {
             "colorbar": {
              "outlinewidth": 0,
              "ticks": ""
             }
            },
            "type": "scattermapbox"
           }
          ],
          "scatterpolar": [
           {
            "marker": {
             "colorbar": {
              "outlinewidth": 0,
              "ticks": ""
             }
            },
            "type": "scatterpolar"
           }
          ],
          "scatterpolargl": [
           {
            "marker": {
             "colorbar": {
              "outlinewidth": 0,
              "ticks": ""
             }
            },
            "type": "scatterpolargl"
           }
          ],
          "scatterternary": [
           {
            "marker": {
             "colorbar": {
              "outlinewidth": 0,
              "ticks": ""
             }
            },
            "type": "scatterternary"
           }
          ],
          "surface": [
           {
            "colorbar": {
             "outlinewidth": 0,
             "ticks": ""
            },
            "colorscale": [
             [
              0,
              "#0d0887"
             ],
             [
              0.1111111111111111,
              "#46039f"
             ],
             [
              0.2222222222222222,
              "#7201a8"
             ],
             [
              0.3333333333333333,
              "#9c179e"
             ],
             [
              0.4444444444444444,
              "#bd3786"
             ],
             [
              0.5555555555555556,
              "#d8576b"
             ],
             [
              0.6666666666666666,
              "#ed7953"
             ],
             [
              0.7777777777777778,
              "#fb9f3a"
             ],
             [
              0.8888888888888888,
              "#fdca26"
             ],
             [
              1,
              "#f0f921"
             ]
            ],
            "type": "surface"
           }
          ],
          "table": [
           {
            "cells": {
             "fill": {
              "color": "#EBF0F8"
             },
             "line": {
              "color": "white"
             }
            },
            "header": {
             "fill": {
              "color": "#C8D4E3"
             },
             "line": {
              "color": "white"
             }
            },
            "type": "table"
           }
          ]
         },
         "layout": {
          "annotationdefaults": {
           "arrowcolor": "#2a3f5f",
           "arrowhead": 0,
           "arrowwidth": 1
          },
          "autotypenumbers": "strict",
          "coloraxis": {
           "colorbar": {
            "outlinewidth": 0,
            "ticks": ""
           }
          },
          "colorscale": {
           "diverging": [
            [
             0,
             "#8e0152"
            ],
            [
             0.1,
             "#c51b7d"
            ],
            [
             0.2,
             "#de77ae"
            ],
            [
             0.3,
             "#f1b6da"
            ],
            [
             0.4,
             "#fde0ef"
            ],
            [
             0.5,
             "#f7f7f7"
            ],
            [
             0.6,
             "#e6f5d0"
            ],
            [
             0.7,
             "#b8e186"
            ],
            [
             0.8,
             "#7fbc41"
            ],
            [
             0.9,
             "#4d9221"
            ],
            [
             1,
             "#276419"
            ]
           ],
           "sequential": [
            [
             0,
             "#0d0887"
            ],
            [
             0.1111111111111111,
             "#46039f"
            ],
            [
             0.2222222222222222,
             "#7201a8"
            ],
            [
             0.3333333333333333,
             "#9c179e"
            ],
            [
             0.4444444444444444,
             "#bd3786"
            ],
            [
             0.5555555555555556,
             "#d8576b"
            ],
            [
             0.6666666666666666,
             "#ed7953"
            ],
            [
             0.7777777777777778,
             "#fb9f3a"
            ],
            [
             0.8888888888888888,
             "#fdca26"
            ],
            [
             1,
             "#f0f921"
            ]
           ],
           "sequentialminus": [
            [
             0,
             "#0d0887"
            ],
            [
             0.1111111111111111,
             "#46039f"
            ],
            [
             0.2222222222222222,
             "#7201a8"
            ],
            [
             0.3333333333333333,
             "#9c179e"
            ],
            [
             0.4444444444444444,
             "#bd3786"
            ],
            [
             0.5555555555555556,
             "#d8576b"
            ],
            [
             0.6666666666666666,
             "#ed7953"
            ],
            [
             0.7777777777777778,
             "#fb9f3a"
            ],
            [
             0.8888888888888888,
             "#fdca26"
            ],
            [
             1,
             "#f0f921"
            ]
           ]
          },
          "colorway": [
           "#636efa",
           "#EF553B",
           "#00cc96",
           "#ab63fa",
           "#FFA15A",
           "#19d3f3",
           "#FF6692",
           "#B6E880",
           "#FF97FF",
           "#FECB52"
          ],
          "font": {
           "color": "#2a3f5f"
          },
          "geo": {
           "bgcolor": "white",
           "lakecolor": "white",
           "landcolor": "#E5ECF6",
           "showlakes": true,
           "showland": true,
           "subunitcolor": "white"
          },
          "hoverlabel": {
           "align": "left"
          },
          "hovermode": "closest",
          "mapbox": {
           "style": "light"
          },
          "paper_bgcolor": "white",
          "plot_bgcolor": "#E5ECF6",
          "polar": {
           "angularaxis": {
            "gridcolor": "white",
            "linecolor": "white",
            "ticks": ""
           },
           "bgcolor": "#E5ECF6",
           "radialaxis": {
            "gridcolor": "white",
            "linecolor": "white",
            "ticks": ""
           }
          },
          "scene": {
           "xaxis": {
            "backgroundcolor": "#E5ECF6",
            "gridcolor": "white",
            "gridwidth": 2,
            "linecolor": "white",
            "showbackground": true,
            "ticks": "",
            "zerolinecolor": "white"
           },
           "yaxis": {
            "backgroundcolor": "#E5ECF6",
            "gridcolor": "white",
            "gridwidth": 2,
            "linecolor": "white",
            "showbackground": true,
            "ticks": "",
            "zerolinecolor": "white"
           },
           "zaxis": {
            "backgroundcolor": "#E5ECF6",
            "gridcolor": "white",
            "gridwidth": 2,
            "linecolor": "white",
            "showbackground": true,
            "ticks": "",
            "zerolinecolor": "white"
           }
          },
          "shapedefaults": {
           "line": {
            "color": "#2a3f5f"
           }
          },
          "ternary": {
           "aaxis": {
            "gridcolor": "white",
            "linecolor": "white",
            "ticks": ""
           },
           "baxis": {
            "gridcolor": "white",
            "linecolor": "white",
            "ticks": ""
           },
           "bgcolor": "#E5ECF6",
           "caxis": {
            "gridcolor": "white",
            "linecolor": "white",
            "ticks": ""
           }
          },
          "title": {
           "x": 0.05
          },
          "xaxis": {
           "automargin": true,
           "gridcolor": "white",
           "linecolor": "white",
           "ticks": "",
           "title": {
            "standoff": 15
           },
           "zerolinecolor": "white",
           "zerolinewidth": 2
          },
          "yaxis": {
           "automargin": true,
           "gridcolor": "white",
           "linecolor": "white",
           "ticks": "",
           "title": {
            "standoff": 15
           },
           "zerolinecolor": "white",
           "zerolinewidth": 2
          }
         }
        },
        "title": {
         "text": "Comparison of fat acids production month by month"
        },
        "width": 1200,
        "xaxis": {
         "anchor": "y",
         "domain": [
          0,
          0.16799999999999998
         ],
         "nticks": 3,
         "title": {
          "text": "Gruppo"
         }
        },
        "xaxis10": {
         "anchor": "y10",
         "domain": [
          0.832,
          1
         ],
         "nticks": 3,
         "title": {
          "text": "Gruppo"
         }
        },
        "xaxis11": {
         "anchor": "y11",
         "domain": [
          0,
          0.16799999999999998
         ],
         "nticks": 3,
         "title": {
          "text": "Gruppo"
         }
        },
        "xaxis12": {
         "anchor": "y12",
         "domain": [
          0.208,
          0.376
         ],
         "nticks": 3,
         "title": {
          "text": "Gruppo"
         }
        },
        "xaxis13": {
         "anchor": "y13",
         "domain": [
          0.416,
          0.584
         ],
         "nticks": 3,
         "title": {
          "text": "Gruppo"
         }
        },
        "xaxis14": {
         "anchor": "y14",
         "domain": [
          0.624,
          0.792
         ],
         "nticks": 3,
         "title": {
          "text": "Gruppo"
         }
        },
        "xaxis15": {
         "anchor": "y15",
         "domain": [
          0.832,
          1
         ],
         "nticks": 3,
         "title": {
          "text": "Gruppo"
         }
        },
        "xaxis16": {
         "anchor": "y16",
         "domain": [
          0,
          0.16799999999999998
         ],
         "nticks": 3,
         "title": {
          "text": "Gruppo"
         }
        },
        "xaxis17": {
         "anchor": "y17",
         "domain": [
          0.208,
          0.376
         ],
         "nticks": 3,
         "title": {
          "text": "Gruppo"
         }
        },
        "xaxis18": {
         "anchor": "y18",
         "domain": [
          0.416,
          0.584
         ],
         "nticks": 3,
         "title": {
          "text": "Gruppo"
         }
        },
        "xaxis19": {
         "anchor": "y19",
         "domain": [
          0.624,
          0.792
         ],
         "nticks": 3,
         "title": {
          "text": "Gruppo"
         }
        },
        "xaxis2": {
         "anchor": "y2",
         "domain": [
          0.208,
          0.376
         ],
         "nticks": 3,
         "title": {
          "text": "Gruppo"
         }
        },
        "xaxis20": {
         "anchor": "y20",
         "domain": [
          0.832,
          1
         ],
         "nticks": 3,
         "title": {
          "text": "Gruppo"
         }
        },
        "xaxis21": {
         "anchor": "y21",
         "domain": [
          0,
          0.16799999999999998
         ],
         "nticks": 3,
         "title": {
          "text": "Gruppo"
         }
        },
        "xaxis22": {
         "anchor": "y22",
         "domain": [
          0.208,
          0.376
         ],
         "nticks": 3,
         "title": {
          "text": "Gruppo"
         }
        },
        "xaxis23": {
         "anchor": "y23",
         "domain": [
          0.416,
          0.584
         ],
         "nticks": 3,
         "title": {
          "text": "Gruppo"
         }
        },
        "xaxis24": {
         "anchor": "y24",
         "domain": [
          0.624,
          0.792
         ],
         "nticks": 3,
         "title": {
          "text": "Gruppo"
         }
        },
        "xaxis25": {
         "anchor": "y25",
         "domain": [
          0.832,
          1
         ],
         "nticks": 3,
         "title": {
          "text": "Gruppo"
         }
        },
        "xaxis26": {
         "anchor": "y26",
         "domain": [
          0,
          0.16799999999999998
         ],
         "nticks": 3,
         "title": {
          "text": "Gruppo"
         }
        },
        "xaxis27": {
         "anchor": "y27",
         "domain": [
          0.208,
          0.376
         ],
         "nticks": 3,
         "title": {
          "text": "Gruppo"
         }
        },
        "xaxis28": {
         "anchor": "y28",
         "domain": [
          0.416,
          0.584
         ],
         "nticks": 3,
         "title": {
          "text": "Gruppo"
         }
        },
        "xaxis29": {
         "anchor": "y29",
         "domain": [
          0.624,
          0.792
         ],
         "nticks": 3,
         "title": {
          "text": "Gruppo"
         }
        },
        "xaxis3": {
         "anchor": "y3",
         "domain": [
          0.416,
          0.584
         ],
         "nticks": 3,
         "title": {
          "text": "Gruppo"
         }
        },
        "xaxis30": {
         "anchor": "y30",
         "domain": [
          0.832,
          1
         ],
         "nticks": 3,
         "title": {
          "text": "Gruppo"
         }
        },
        "xaxis4": {
         "anchor": "y4",
         "domain": [
          0.624,
          0.792
         ],
         "nticks": 3,
         "title": {
          "text": "Gruppo"
         }
        },
        "xaxis5": {
         "anchor": "y5",
         "domain": [
          0.832,
          1
         ],
         "nticks": 3,
         "title": {
          "text": "Gruppo"
         }
        },
        "xaxis6": {
         "anchor": "y6",
         "domain": [
          0,
          0.16799999999999998
         ],
         "nticks": 3,
         "title": {
          "text": "Gruppo"
         }
        },
        "xaxis7": {
         "anchor": "y7",
         "domain": [
          0.208,
          0.376
         ],
         "nticks": 3,
         "title": {
          "text": "Gruppo"
         }
        },
        "xaxis8": {
         "anchor": "y8",
         "domain": [
          0.416,
          0.584
         ],
         "nticks": 3,
         "title": {
          "text": "Gruppo"
         }
        },
        "xaxis9": {
         "anchor": "y9",
         "domain": [
          0.624,
          0.792
         ],
         "nticks": 3,
         "title": {
          "text": "Gruppo"
         }
        },
        "yaxis": {
         "anchor": "x",
         "domain": [
          0.9027777777777777,
          0.9999999999999999
         ]
        },
        "yaxis10": {
         "anchor": "x10",
         "domain": [
          0.7222222222222222,
          0.8194444444444444
         ]
        },
        "yaxis11": {
         "anchor": "x11",
         "domain": [
          0.5416666666666667,
          0.638888888888889
         ]
        },
        "yaxis12": {
         "anchor": "x12",
         "domain": [
          0.5416666666666667,
          0.638888888888889
         ]
        },
        "yaxis13": {
         "anchor": "x13",
         "domain": [
          0.5416666666666667,
          0.638888888888889
         ]
        },
        "yaxis14": {
         "anchor": "x14",
         "domain": [
          0.5416666666666667,
          0.638888888888889
         ]
        },
        "yaxis15": {
         "anchor": "x15",
         "domain": [
          0.5416666666666667,
          0.638888888888889
         ]
        },
        "yaxis16": {
         "anchor": "x16",
         "domain": [
          0.3611111111111111,
          0.4583333333333333
         ]
        },
        "yaxis17": {
         "anchor": "x17",
         "domain": [
          0.3611111111111111,
          0.4583333333333333
         ]
        },
        "yaxis18": {
         "anchor": "x18",
         "domain": [
          0.3611111111111111,
          0.4583333333333333
         ]
        },
        "yaxis19": {
         "anchor": "x19",
         "domain": [
          0.3611111111111111,
          0.4583333333333333
         ]
        },
        "yaxis2": {
         "anchor": "x2",
         "domain": [
          0.9027777777777777,
          0.9999999999999999
         ]
        },
        "yaxis20": {
         "anchor": "x20",
         "domain": [
          0.3611111111111111,
          0.4583333333333333
         ]
        },
        "yaxis21": {
         "anchor": "x21",
         "domain": [
          0.18055555555555555,
          0.2777777777777778
         ]
        },
        "yaxis22": {
         "anchor": "x22",
         "domain": [
          0.18055555555555555,
          0.2777777777777778
         ]
        },
        "yaxis23": {
         "anchor": "x23",
         "domain": [
          0.18055555555555555,
          0.2777777777777778
         ]
        },
        "yaxis24": {
         "anchor": "x24",
         "domain": [
          0.18055555555555555,
          0.2777777777777778
         ]
        },
        "yaxis25": {
         "anchor": "x25",
         "domain": [
          0.18055555555555555,
          0.2777777777777778
         ]
        },
        "yaxis26": {
         "anchor": "x26",
         "domain": [
          0,
          0.09722222222222222
         ]
        },
        "yaxis27": {
         "anchor": "x27",
         "domain": [
          0,
          0.09722222222222222
         ]
        },
        "yaxis28": {
         "anchor": "x28",
         "domain": [
          0,
          0.09722222222222222
         ]
        },
        "yaxis29": {
         "anchor": "x29",
         "domain": [
          0,
          0.09722222222222222
         ]
        },
        "yaxis3": {
         "anchor": "x3",
         "domain": [
          0.9027777777777777,
          0.9999999999999999
         ]
        },
        "yaxis30": {
         "anchor": "x30",
         "domain": [
          0,
          0.09722222222222222
         ]
        },
        "yaxis4": {
         "anchor": "x4",
         "domain": [
          0.9027777777777777,
          0.9999999999999999
         ]
        },
        "yaxis5": {
         "anchor": "x5",
         "domain": [
          0.9027777777777777,
          0.9999999999999999
         ]
        },
        "yaxis6": {
         "anchor": "x6",
         "domain": [
          0.7222222222222222,
          0.8194444444444444
         ]
        },
        "yaxis7": {
         "anchor": "x7",
         "domain": [
          0.7222222222222222,
          0.8194444444444444
         ]
        },
        "yaxis8": {
         "anchor": "x8",
         "domain": [
          0.7222222222222222,
          0.8194444444444444
         ]
        },
        "yaxis9": {
         "anchor": "x9",
         "domain": [
          0.7222222222222222,
          0.8194444444444444
         ]
        }
       }
      },
      "text/html": [
       "<div>                            <div id=\"b92a2706-c525-437d-810c-5429c0ce7fae\" class=\"plotly-graph-div\" style=\"height:1500px; width:1200px;\"></div>            <script type=\"text/javascript\">                require([\"plotly\"], function(Plotly) {                    window.PLOTLYENV=window.PLOTLYENV || {};                                    if (document.getElementById(\"b92a2706-c525-437d-810c-5429c0ce7fae\")) {                    Plotly.newPlot(                        \"b92a2706-c525-437d-810c-5429c0ce7fae\",                        [{\"x\":[1,2,1,2,1,2,1,2,1,2],\"y\":[76.2216937063,74.1395765959],\"type\":\"bar\",\"xaxis\":\"x\",\"yaxis\":\"y\"},{\"x\":[1,2,1,2,1,2,1,2,1,2],\"y\":[77.15733979710001,75.34085478224999],\"type\":\"bar\",\"xaxis\":\"x2\",\"yaxis\":\"y2\"},{\"x\":[1,2,1,2,1,2,1,2,1,2],\"y\":[75.1205985423,73.77560005695],\"type\":\"bar\",\"xaxis\":\"x3\",\"yaxis\":\"y3\"},{\"x\":[1,2,1,2,1,2,1,2,1,2],\"y\":[74.9513743317,74.15807793194999],\"type\":\"bar\",\"xaxis\":\"x4\",\"yaxis\":\"y4\"},{\"x\":[1,2,1,2,1,2,1,2,1,2],\"y\":[72.9530389044,73.12427451965051],\"type\":\"bar\",\"xaxis\":\"x5\",\"yaxis\":\"y5\"},{\"x\":[1,2,1,2,1,2,1,2,1,2],\"y\":[3.549105101065,4.1832353358],\"type\":\"bar\",\"xaxis\":\"x6\",\"yaxis\":\"y6\"},{\"x\":[1,2,1,2,1,2,1,2,1,2],\"y\":[3.212725758165,3.5502518462684995],\"type\":\"bar\",\"xaxis\":\"x7\",\"yaxis\":\"y7\"},{\"x\":[1,2,1,2,1,2,1,2,1,2],\"y\":[3.6908840839500003,4.0794732342],\"type\":\"bar\",\"xaxis\":\"x8\",\"yaxis\":\"y8\"},{\"x\":[1,2,1,2,1,2,1,2,1,2],\"y\":[3.4774144006450003,3.66117018235],\"type\":\"bar\",\"xaxis\":\"x9\",\"yaxis\":\"y9\"},{\"x\":[1,2,1,2,1,2,1,2,1,2],\"y\":[3.19504236055,3.5249631400224772],\"type\":\"bar\",\"xaxis\":\"x10\",\"yaxis\":\"y10\"},{\"x\":[1,2,1,2,1,2,1,2,1,2],\"y\":[19.56494908095,21.09516639425],\"type\":\"bar\",\"xaxis\":\"x11\",\"yaxis\":\"y11\"},{\"x\":[1,2,1,2,1,2,1,2,1,2],\"y\":[18.67699844795,20.65781292635],\"type\":\"bar\",\"xaxis\":\"x12\",\"yaxis\":\"y12\"},{\"x\":[1,2,1,2,1,2,1,2,1,2],\"y\":[20.727556469249997,21.60134160965],\"type\":\"bar\",\"xaxis\":\"x13\",\"yaxis\":\"y13\"},{\"x\":[1,2,1,2,1,2,1,2,1,2],\"y\":[21.0562338826,21.7585996291],\"type\":\"bar\",\"xaxis\":\"x14\",\"yaxis\":\"y14\"},{\"x\":[1,2,1,2,1,2,1,2,1,2],\"y\":[23.310417221149997,22.852527006161345],\"type\":\"bar\",\"xaxis\":\"x15\",\"yaxis\":\"y15\"},{\"x\":[1,2,1,2,1,2,1,2,1,2],\"y\":[2.203735361315,2.5424530685999995],\"type\":\"bar\",\"xaxis\":\"x16\",\"yaxis\":\"y16\"},{\"x\":[1,2,1,2,1,2,1,2,1,2],\"y\":[1.9180201975149997,2.0820019381685],\"type\":\"bar\",\"xaxis\":\"x17\",\"yaxis\":\"y17\"},{\"x\":[1,2,1,2,1,2,1,2,1,2],\"y\":[2.0451219763,2.2094722937],\"type\":\"bar\",\"xaxis\":\"x18\",\"yaxis\":\"y18\"},{\"x\":[1,2,1,2,1,2,1,2,1,2],\"y\":[1.891602385,1.9789325799],\"type\":\"bar\",\"xaxis\":\"x19\",\"yaxis\":\"y19\"},{\"x\":[1,2,1,2,1,2,1,2,1,2],\"y\":[1.7778371951,1.9251790572933019],\"type\":\"bar\",\"xaxis\":\"x20\",\"yaxis\":\"y20\"},{\"x\":[1,2,1,2,1,2,1,2,1,2],\"y\":[0.96867473975,1.1626022672],\"type\":\"bar\",\"xaxis\":\"x21\",\"yaxis\":\"y21\"},{\"x\":[1,2,1,2,1,2,1,2,1,2],\"y\":[0.8506505606499999,0.9635599081],\"type\":\"bar\",\"xaxis\":\"x22\",\"yaxis\":\"y22\"},{\"x\":[1,2,1,2,1,2,1,2,1,2],\"y\":[1.09567710765,1.2044509405],\"type\":\"bar\",\"xaxis\":\"x23\",\"yaxis\":\"y23\"},{\"x\":[1,2,1,2,1,2,1,2,1,2],\"y\":[0.9961317147,0.99668460245],\"type\":\"bar\",\"xaxis\":\"x24\",\"yaxis\":\"y24\"},{\"x\":[1,2,1,2,1,2,1,2,1,2],\"y\":[0.7622051654499999,0.9241967672721894],\"type\":\"bar\",\"xaxis\":\"x25\",\"yaxis\":\"y25\"},{\"x\":[1,2,1,2,1,2,1,2,1,2],\"y\":[0.376695,0.47817999999999994],\"type\":\"bar\",\"xaxis\":\"x26\",\"yaxis\":\"y26\"},{\"x\":[1,2,1,2,1,2,1,2,1,2],\"y\":[0.444055,0.50469],\"type\":\"bar\",\"xaxis\":\"x27\",\"yaxis\":\"y27\"},{\"x\":[1,2,1,2,1,2,1,2,1,2],\"y\":[0.5500849999999999,0.66555],\"type\":\"bar\",\"xaxis\":\"x28\",\"yaxis\":\"y28\"},{\"x\":[1,2,1,2,1,2,1,2,1,2],\"y\":[0.589680300945,0.685553],\"type\":\"bar\",\"xaxis\":\"x29\",\"yaxis\":\"y29\"},{\"x\":[1,2,1,2,1,2,1,2,1,2],\"y\":[0.655,0.6755873154569858],\"type\":\"bar\",\"xaxis\":\"x30\",\"yaxis\":\"y30\"}],                        {\"template\":{\"data\":{\"bar\":[{\"error_x\":{\"color\":\"#2a3f5f\"},\"error_y\":{\"color\":\"#2a3f5f\"},\"marker\":{\"line\":{\"color\":\"#E5ECF6\",\"width\":0.5},\"pattern\":{\"fillmode\":\"overlay\",\"size\":10,\"solidity\":0.2}},\"type\":\"bar\"}],\"barpolar\":[{\"marker\":{\"line\":{\"color\":\"#E5ECF6\",\"width\":0.5},\"pattern\":{\"fillmode\":\"overlay\",\"size\":10,\"solidity\":0.2}},\"type\":\"barpolar\"}],\"carpet\":[{\"aaxis\":{\"endlinecolor\":\"#2a3f5f\",\"gridcolor\":\"white\",\"linecolor\":\"white\",\"minorgridcolor\":\"white\",\"startlinecolor\":\"#2a3f5f\"},\"baxis\":{\"endlinecolor\":\"#2a3f5f\",\"gridcolor\":\"white\",\"linecolor\":\"white\",\"minorgridcolor\":\"white\",\"startlinecolor\":\"#2a3f5f\"},\"type\":\"carpet\"}],\"choropleth\":[{\"colorbar\":{\"outlinewidth\":0,\"ticks\":\"\"},\"type\":\"choropleth\"}],\"contour\":[{\"colorbar\":{\"outlinewidth\":0,\"ticks\":\"\"},\"colorscale\":[[0.0,\"#0d0887\"],[0.1111111111111111,\"#46039f\"],[0.2222222222222222,\"#7201a8\"],[0.3333333333333333,\"#9c179e\"],[0.4444444444444444,\"#bd3786\"],[0.5555555555555556,\"#d8576b\"],[0.6666666666666666,\"#ed7953\"],[0.7777777777777778,\"#fb9f3a\"],[0.8888888888888888,\"#fdca26\"],[1.0,\"#f0f921\"]],\"type\":\"contour\"}],\"contourcarpet\":[{\"colorbar\":{\"outlinewidth\":0,\"ticks\":\"\"},\"type\":\"contourcarpet\"}],\"heatmap\":[{\"colorbar\":{\"outlinewidth\":0,\"ticks\":\"\"},\"colorscale\":[[0.0,\"#0d0887\"],[0.1111111111111111,\"#46039f\"],[0.2222222222222222,\"#7201a8\"],[0.3333333333333333,\"#9c179e\"],[0.4444444444444444,\"#bd3786\"],[0.5555555555555556,\"#d8576b\"],[0.6666666666666666,\"#ed7953\"],[0.7777777777777778,\"#fb9f3a\"],[0.8888888888888888,\"#fdca26\"],[1.0,\"#f0f921\"]],\"type\":\"heatmap\"}],\"heatmapgl\":[{\"colorbar\":{\"outlinewidth\":0,\"ticks\":\"\"},\"colorscale\":[[0.0,\"#0d0887\"],[0.1111111111111111,\"#46039f\"],[0.2222222222222222,\"#7201a8\"],[0.3333333333333333,\"#9c179e\"],[0.4444444444444444,\"#bd3786\"],[0.5555555555555556,\"#d8576b\"],[0.6666666666666666,\"#ed7953\"],[0.7777777777777778,\"#fb9f3a\"],[0.8888888888888888,\"#fdca26\"],[1.0,\"#f0f921\"]],\"type\":\"heatmapgl\"}],\"histogram\":[{\"marker\":{\"pattern\":{\"fillmode\":\"overlay\",\"size\":10,\"solidity\":0.2}},\"type\":\"histogram\"}],\"histogram2d\":[{\"colorbar\":{\"outlinewidth\":0,\"ticks\":\"\"},\"colorscale\":[[0.0,\"#0d0887\"],[0.1111111111111111,\"#46039f\"],[0.2222222222222222,\"#7201a8\"],[0.3333333333333333,\"#9c179e\"],[0.4444444444444444,\"#bd3786\"],[0.5555555555555556,\"#d8576b\"],[0.6666666666666666,\"#ed7953\"],[0.7777777777777778,\"#fb9f3a\"],[0.8888888888888888,\"#fdca26\"],[1.0,\"#f0f921\"]],\"type\":\"histogram2d\"}],\"histogram2dcontour\":[{\"colorbar\":{\"outlinewidth\":0,\"ticks\":\"\"},\"colorscale\":[[0.0,\"#0d0887\"],[0.1111111111111111,\"#46039f\"],[0.2222222222222222,\"#7201a8\"],[0.3333333333333333,\"#9c179e\"],[0.4444444444444444,\"#bd3786\"],[0.5555555555555556,\"#d8576b\"],[0.6666666666666666,\"#ed7953\"],[0.7777777777777778,\"#fb9f3a\"],[0.8888888888888888,\"#fdca26\"],[1.0,\"#f0f921\"]],\"type\":\"histogram2dcontour\"}],\"mesh3d\":[{\"colorbar\":{\"outlinewidth\":0,\"ticks\":\"\"},\"type\":\"mesh3d\"}],\"parcoords\":[{\"line\":{\"colorbar\":{\"outlinewidth\":0,\"ticks\":\"\"}},\"type\":\"parcoords\"}],\"pie\":[{\"automargin\":true,\"type\":\"pie\"}],\"scatter\":[{\"marker\":{\"colorbar\":{\"outlinewidth\":0,\"ticks\":\"\"}},\"type\":\"scatter\"}],\"scatter3d\":[{\"line\":{\"colorbar\":{\"outlinewidth\":0,\"ticks\":\"\"}},\"marker\":{\"colorbar\":{\"outlinewidth\":0,\"ticks\":\"\"}},\"type\":\"scatter3d\"}],\"scattercarpet\":[{\"marker\":{\"colorbar\":{\"outlinewidth\":0,\"ticks\":\"\"}},\"type\":\"scattercarpet\"}],\"scattergeo\":[{\"marker\":{\"colorbar\":{\"outlinewidth\":0,\"ticks\":\"\"}},\"type\":\"scattergeo\"}],\"scattergl\":[{\"marker\":{\"colorbar\":{\"outlinewidth\":0,\"ticks\":\"\"}},\"type\":\"scattergl\"}],\"scattermapbox\":[{\"marker\":{\"colorbar\":{\"outlinewidth\":0,\"ticks\":\"\"}},\"type\":\"scattermapbox\"}],\"scatterpolar\":[{\"marker\":{\"colorbar\":{\"outlinewidth\":0,\"ticks\":\"\"}},\"type\":\"scatterpolar\"}],\"scatterpolargl\":[{\"marker\":{\"colorbar\":{\"outlinewidth\":0,\"ticks\":\"\"}},\"type\":\"scatterpolargl\"}],\"scatterternary\":[{\"marker\":{\"colorbar\":{\"outlinewidth\":0,\"ticks\":\"\"}},\"type\":\"scatterternary\"}],\"surface\":[{\"colorbar\":{\"outlinewidth\":0,\"ticks\":\"\"},\"colorscale\":[[0.0,\"#0d0887\"],[0.1111111111111111,\"#46039f\"],[0.2222222222222222,\"#7201a8\"],[0.3333333333333333,\"#9c179e\"],[0.4444444444444444,\"#bd3786\"],[0.5555555555555556,\"#d8576b\"],[0.6666666666666666,\"#ed7953\"],[0.7777777777777778,\"#fb9f3a\"],[0.8888888888888888,\"#fdca26\"],[1.0,\"#f0f921\"]],\"type\":\"surface\"}],\"table\":[{\"cells\":{\"fill\":{\"color\":\"#EBF0F8\"},\"line\":{\"color\":\"white\"}},\"header\":{\"fill\":{\"color\":\"#C8D4E3\"},\"line\":{\"color\":\"white\"}},\"type\":\"table\"}]},\"layout\":{\"annotationdefaults\":{\"arrowcolor\":\"#2a3f5f\",\"arrowhead\":0,\"arrowwidth\":1},\"autotypenumbers\":\"strict\",\"coloraxis\":{\"colorbar\":{\"outlinewidth\":0,\"ticks\":\"\"}},\"colorscale\":{\"diverging\":[[0,\"#8e0152\"],[0.1,\"#c51b7d\"],[0.2,\"#de77ae\"],[0.3,\"#f1b6da\"],[0.4,\"#fde0ef\"],[0.5,\"#f7f7f7\"],[0.6,\"#e6f5d0\"],[0.7,\"#b8e186\"],[0.8,\"#7fbc41\"],[0.9,\"#4d9221\"],[1,\"#276419\"]],\"sequential\":[[0.0,\"#0d0887\"],[0.1111111111111111,\"#46039f\"],[0.2222222222222222,\"#7201a8\"],[0.3333333333333333,\"#9c179e\"],[0.4444444444444444,\"#bd3786\"],[0.5555555555555556,\"#d8576b\"],[0.6666666666666666,\"#ed7953\"],[0.7777777777777778,\"#fb9f3a\"],[0.8888888888888888,\"#fdca26\"],[1.0,\"#f0f921\"]],\"sequentialminus\":[[0.0,\"#0d0887\"],[0.1111111111111111,\"#46039f\"],[0.2222222222222222,\"#7201a8\"],[0.3333333333333333,\"#9c179e\"],[0.4444444444444444,\"#bd3786\"],[0.5555555555555556,\"#d8576b\"],[0.6666666666666666,\"#ed7953\"],[0.7777777777777778,\"#fb9f3a\"],[0.8888888888888888,\"#fdca26\"],[1.0,\"#f0f921\"]]},\"colorway\":[\"#636efa\",\"#EF553B\",\"#00cc96\",\"#ab63fa\",\"#FFA15A\",\"#19d3f3\",\"#FF6692\",\"#B6E880\",\"#FF97FF\",\"#FECB52\"],\"font\":{\"color\":\"#2a3f5f\"},\"geo\":{\"bgcolor\":\"white\",\"lakecolor\":\"white\",\"landcolor\":\"#E5ECF6\",\"showlakes\":true,\"showland\":true,\"subunitcolor\":\"white\"},\"hoverlabel\":{\"align\":\"left\"},\"hovermode\":\"closest\",\"mapbox\":{\"style\":\"light\"},\"paper_bgcolor\":\"white\",\"plot_bgcolor\":\"#E5ECF6\",\"polar\":{\"angularaxis\":{\"gridcolor\":\"white\",\"linecolor\":\"white\",\"ticks\":\"\"},\"bgcolor\":\"#E5ECF6\",\"radialaxis\":{\"gridcolor\":\"white\",\"linecolor\":\"white\",\"ticks\":\"\"}},\"scene\":{\"xaxis\":{\"backgroundcolor\":\"#E5ECF6\",\"gridcolor\":\"white\",\"gridwidth\":2,\"linecolor\":\"white\",\"showbackground\":true,\"ticks\":\"\",\"zerolinecolor\":\"white\"},\"yaxis\":{\"backgroundcolor\":\"#E5ECF6\",\"gridcolor\":\"white\",\"gridwidth\":2,\"linecolor\":\"white\",\"showbackground\":true,\"ticks\":\"\",\"zerolinecolor\":\"white\"},\"zaxis\":{\"backgroundcolor\":\"#E5ECF6\",\"gridcolor\":\"white\",\"gridwidth\":2,\"linecolor\":\"white\",\"showbackground\":true,\"ticks\":\"\",\"zerolinecolor\":\"white\"}},\"shapedefaults\":{\"line\":{\"color\":\"#2a3f5f\"}},\"ternary\":{\"aaxis\":{\"gridcolor\":\"white\",\"linecolor\":\"white\",\"ticks\":\"\"},\"baxis\":{\"gridcolor\":\"white\",\"linecolor\":\"white\",\"ticks\":\"\"},\"bgcolor\":\"#E5ECF6\",\"caxis\":{\"gridcolor\":\"white\",\"linecolor\":\"white\",\"ticks\":\"\"}},\"title\":{\"x\":0.05},\"xaxis\":{\"automargin\":true,\"gridcolor\":\"white\",\"linecolor\":\"white\",\"ticks\":\"\",\"title\":{\"standoff\":15},\"zerolinecolor\":\"white\",\"zerolinewidth\":2},\"yaxis\":{\"automargin\":true,\"gridcolor\":\"white\",\"linecolor\":\"white\",\"ticks\":\"\",\"title\":{\"standoff\":15},\"zerolinecolor\":\"white\",\"zerolinewidth\":2}}},\"xaxis\":{\"anchor\":\"y\",\"domain\":[0.0,0.16799999999999998],\"title\":{\"text\":\"Gruppo\"},\"nticks\":3},\"yaxis\":{\"anchor\":\"x\",\"domain\":[0.9027777777777777,0.9999999999999999]},\"xaxis2\":{\"anchor\":\"y2\",\"domain\":[0.208,0.376],\"title\":{\"text\":\"Gruppo\"},\"nticks\":3},\"yaxis2\":{\"anchor\":\"x2\",\"domain\":[0.9027777777777777,0.9999999999999999]},\"xaxis3\":{\"anchor\":\"y3\",\"domain\":[0.416,0.584],\"title\":{\"text\":\"Gruppo\"},\"nticks\":3},\"yaxis3\":{\"anchor\":\"x3\",\"domain\":[0.9027777777777777,0.9999999999999999]},\"xaxis4\":{\"anchor\":\"y4\",\"domain\":[0.624,0.792],\"title\":{\"text\":\"Gruppo\"},\"nticks\":3},\"yaxis4\":{\"anchor\":\"x4\",\"domain\":[0.9027777777777777,0.9999999999999999]},\"xaxis5\":{\"anchor\":\"y5\",\"domain\":[0.832,1.0],\"title\":{\"text\":\"Gruppo\"},\"nticks\":3},\"yaxis5\":{\"anchor\":\"x5\",\"domain\":[0.9027777777777777,0.9999999999999999]},\"xaxis6\":{\"anchor\":\"y6\",\"domain\":[0.0,0.16799999999999998],\"title\":{\"text\":\"Gruppo\"},\"nticks\":3},\"yaxis6\":{\"anchor\":\"x6\",\"domain\":[0.7222222222222222,0.8194444444444444]},\"xaxis7\":{\"anchor\":\"y7\",\"domain\":[0.208,0.376],\"title\":{\"text\":\"Gruppo\"},\"nticks\":3},\"yaxis7\":{\"anchor\":\"x7\",\"domain\":[0.7222222222222222,0.8194444444444444]},\"xaxis8\":{\"anchor\":\"y8\",\"domain\":[0.416,0.584],\"title\":{\"text\":\"Gruppo\"},\"nticks\":3},\"yaxis8\":{\"anchor\":\"x8\",\"domain\":[0.7222222222222222,0.8194444444444444]},\"xaxis9\":{\"anchor\":\"y9\",\"domain\":[0.624,0.792],\"title\":{\"text\":\"Gruppo\"},\"nticks\":3},\"yaxis9\":{\"anchor\":\"x9\",\"domain\":[0.7222222222222222,0.8194444444444444]},\"xaxis10\":{\"anchor\":\"y10\",\"domain\":[0.832,1.0],\"title\":{\"text\":\"Gruppo\"},\"nticks\":3},\"yaxis10\":{\"anchor\":\"x10\",\"domain\":[0.7222222222222222,0.8194444444444444]},\"xaxis11\":{\"anchor\":\"y11\",\"domain\":[0.0,0.16799999999999998],\"title\":{\"text\":\"Gruppo\"},\"nticks\":3},\"yaxis11\":{\"anchor\":\"x11\",\"domain\":[0.5416666666666667,0.638888888888889]},\"xaxis12\":{\"anchor\":\"y12\",\"domain\":[0.208,0.376],\"title\":{\"text\":\"Gruppo\"},\"nticks\":3},\"yaxis12\":{\"anchor\":\"x12\",\"domain\":[0.5416666666666667,0.638888888888889]},\"xaxis13\":{\"anchor\":\"y13\",\"domain\":[0.416,0.584],\"title\":{\"text\":\"Gruppo\"},\"nticks\":3},\"yaxis13\":{\"anchor\":\"x13\",\"domain\":[0.5416666666666667,0.638888888888889]},\"xaxis14\":{\"anchor\":\"y14\",\"domain\":[0.624,0.792],\"title\":{\"text\":\"Gruppo\"},\"nticks\":3},\"yaxis14\":{\"anchor\":\"x14\",\"domain\":[0.5416666666666667,0.638888888888889]},\"xaxis15\":{\"anchor\":\"y15\",\"domain\":[0.832,1.0],\"title\":{\"text\":\"Gruppo\"},\"nticks\":3},\"yaxis15\":{\"anchor\":\"x15\",\"domain\":[0.5416666666666667,0.638888888888889]},\"xaxis16\":{\"anchor\":\"y16\",\"domain\":[0.0,0.16799999999999998],\"title\":{\"text\":\"Gruppo\"},\"nticks\":3},\"yaxis16\":{\"anchor\":\"x16\",\"domain\":[0.3611111111111111,0.4583333333333333]},\"xaxis17\":{\"anchor\":\"y17\",\"domain\":[0.208,0.376],\"title\":{\"text\":\"Gruppo\"},\"nticks\":3},\"yaxis17\":{\"anchor\":\"x17\",\"domain\":[0.3611111111111111,0.4583333333333333]},\"xaxis18\":{\"anchor\":\"y18\",\"domain\":[0.416,0.584],\"title\":{\"text\":\"Gruppo\"},\"nticks\":3},\"yaxis18\":{\"anchor\":\"x18\",\"domain\":[0.3611111111111111,0.4583333333333333]},\"xaxis19\":{\"anchor\":\"y19\",\"domain\":[0.624,0.792],\"title\":{\"text\":\"Gruppo\"},\"nticks\":3},\"yaxis19\":{\"anchor\":\"x19\",\"domain\":[0.3611111111111111,0.4583333333333333]},\"xaxis20\":{\"anchor\":\"y20\",\"domain\":[0.832,1.0],\"title\":{\"text\":\"Gruppo\"},\"nticks\":3},\"yaxis20\":{\"anchor\":\"x20\",\"domain\":[0.3611111111111111,0.4583333333333333]},\"xaxis21\":{\"anchor\":\"y21\",\"domain\":[0.0,0.16799999999999998],\"title\":{\"text\":\"Gruppo\"},\"nticks\":3},\"yaxis21\":{\"anchor\":\"x21\",\"domain\":[0.18055555555555555,0.2777777777777778]},\"xaxis22\":{\"anchor\":\"y22\",\"domain\":[0.208,0.376],\"title\":{\"text\":\"Gruppo\"},\"nticks\":3},\"yaxis22\":{\"anchor\":\"x22\",\"domain\":[0.18055555555555555,0.2777777777777778]},\"xaxis23\":{\"anchor\":\"y23\",\"domain\":[0.416,0.584],\"title\":{\"text\":\"Gruppo\"},\"nticks\":3},\"yaxis23\":{\"anchor\":\"x23\",\"domain\":[0.18055555555555555,0.2777777777777778]},\"xaxis24\":{\"anchor\":\"y24\",\"domain\":[0.624,0.792],\"title\":{\"text\":\"Gruppo\"},\"nticks\":3},\"yaxis24\":{\"anchor\":\"x24\",\"domain\":[0.18055555555555555,0.2777777777777778]},\"xaxis25\":{\"anchor\":\"y25\",\"domain\":[0.832,1.0],\"title\":{\"text\":\"Gruppo\"},\"nticks\":3},\"yaxis25\":{\"anchor\":\"x25\",\"domain\":[0.18055555555555555,0.2777777777777778]},\"xaxis26\":{\"anchor\":\"y26\",\"domain\":[0.0,0.16799999999999998],\"title\":{\"text\":\"Gruppo\"},\"nticks\":3},\"yaxis26\":{\"anchor\":\"x26\",\"domain\":[0.0,0.09722222222222222]},\"xaxis27\":{\"anchor\":\"y27\",\"domain\":[0.208,0.376],\"title\":{\"text\":\"Gruppo\"},\"nticks\":3},\"yaxis27\":{\"anchor\":\"x27\",\"domain\":[0.0,0.09722222222222222]},\"xaxis28\":{\"anchor\":\"y28\",\"domain\":[0.416,0.584],\"title\":{\"text\":\"Gruppo\"},\"nticks\":3},\"yaxis28\":{\"anchor\":\"x28\",\"domain\":[0.0,0.09722222222222222]},\"xaxis29\":{\"anchor\":\"y29\",\"domain\":[0.624,0.792],\"title\":{\"text\":\"Gruppo\"},\"nticks\":3},\"yaxis29\":{\"anchor\":\"x29\",\"domain\":[0.0,0.09722222222222222]},\"xaxis30\":{\"anchor\":\"y30\",\"domain\":[0.832,1.0],\"title\":{\"text\":\"Gruppo\"},\"nticks\":3},\"yaxis30\":{\"anchor\":\"x30\",\"domain\":[0.0,0.09722222222222222]},\"annotations\":[{\"font\":{\"size\":16},\"showarrow\":false,\"text\":\"SFA - May\",\"x\":0.08399999999999999,\"xanchor\":\"center\",\"xref\":\"paper\",\"y\":0.9999999999999999,\"yanchor\":\"bottom\",\"yref\":\"paper\"},{\"font\":{\"size\":16},\"showarrow\":false,\"text\":\"SFA - June\",\"x\":0.292,\"xanchor\":\"center\",\"xref\":\"paper\",\"y\":0.9999999999999999,\"yanchor\":\"bottom\",\"yref\":\"paper\"},{\"font\":{\"size\":16},\"showarrow\":false,\"text\":\"SFA - July\",\"x\":0.5,\"xanchor\":\"center\",\"xref\":\"paper\",\"y\":0.9999999999999999,\"yanchor\":\"bottom\",\"yref\":\"paper\"},{\"font\":{\"size\":16},\"showarrow\":false,\"text\":\"SFA - August\",\"x\":0.708,\"xanchor\":\"center\",\"xref\":\"paper\",\"y\":0.9999999999999999,\"yanchor\":\"bottom\",\"yref\":\"paper\"},{\"font\":{\"size\":16},\"showarrow\":false,\"text\":\"SFA - September\",\"x\":0.9159999999999999,\"xanchor\":\"center\",\"xref\":\"paper\",\"y\":0.9999999999999999,\"yanchor\":\"bottom\",\"yref\":\"paper\"},{\"font\":{\"size\":16},\"showarrow\":false,\"text\":\"PUFA - May\",\"x\":0.08399999999999999,\"xanchor\":\"center\",\"xref\":\"paper\",\"y\":0.8194444444444444,\"yanchor\":\"bottom\",\"yref\":\"paper\"},{\"font\":{\"size\":16},\"showarrow\":false,\"text\":\"PUFA - June\",\"x\":0.292,\"xanchor\":\"center\",\"xref\":\"paper\",\"y\":0.8194444444444444,\"yanchor\":\"bottom\",\"yref\":\"paper\"},{\"font\":{\"size\":16},\"showarrow\":false,\"text\":\"PUFA - July\",\"x\":0.5,\"xanchor\":\"center\",\"xref\":\"paper\",\"y\":0.8194444444444444,\"yanchor\":\"bottom\",\"yref\":\"paper\"},{\"font\":{\"size\":16},\"showarrow\":false,\"text\":\"PUFA - August\",\"x\":0.708,\"xanchor\":\"center\",\"xref\":\"paper\",\"y\":0.8194444444444444,\"yanchor\":\"bottom\",\"yref\":\"paper\"},{\"font\":{\"size\":16},\"showarrow\":false,\"text\":\"PUFA - September\",\"x\":0.9159999999999999,\"xanchor\":\"center\",\"xref\":\"paper\",\"y\":0.8194444444444444,\"yanchor\":\"bottom\",\"yref\":\"paper\"},{\"font\":{\"size\":16},\"showarrow\":false,\"text\":\"MUFA - May\",\"x\":0.08399999999999999,\"xanchor\":\"center\",\"xref\":\"paper\",\"y\":0.638888888888889,\"yanchor\":\"bottom\",\"yref\":\"paper\"},{\"font\":{\"size\":16},\"showarrow\":false,\"text\":\"MUFA - June\",\"x\":0.292,\"xanchor\":\"center\",\"xref\":\"paper\",\"y\":0.638888888888889,\"yanchor\":\"bottom\",\"yref\":\"paper\"},{\"font\":{\"size\":16},\"showarrow\":false,\"text\":\"MUFA - July\",\"x\":0.5,\"xanchor\":\"center\",\"xref\":\"paper\",\"y\":0.638888888888889,\"yanchor\":\"bottom\",\"yref\":\"paper\"},{\"font\":{\"size\":16},\"showarrow\":false,\"text\":\"MUFA - August\",\"x\":0.708,\"xanchor\":\"center\",\"xref\":\"paper\",\"y\":0.638888888888889,\"yanchor\":\"bottom\",\"yref\":\"paper\"},{\"font\":{\"size\":16},\"showarrow\":false,\"text\":\"MUFA - September\",\"x\":0.9159999999999999,\"xanchor\":\"center\",\"xref\":\"paper\",\"y\":0.638888888888889,\"yanchor\":\"bottom\",\"yref\":\"paper\"},{\"font\":{\"size\":16},\"showarrow\":false,\"text\":\"Omega 6 - May\",\"x\":0.08399999999999999,\"xanchor\":\"center\",\"xref\":\"paper\",\"y\":0.4583333333333333,\"yanchor\":\"bottom\",\"yref\":\"paper\"},{\"font\":{\"size\":16},\"showarrow\":false,\"text\":\"Omega 6 - June\",\"x\":0.292,\"xanchor\":\"center\",\"xref\":\"paper\",\"y\":0.4583333333333333,\"yanchor\":\"bottom\",\"yref\":\"paper\"},{\"font\":{\"size\":16},\"showarrow\":false,\"text\":\"Omega 6 - July\",\"x\":0.5,\"xanchor\":\"center\",\"xref\":\"paper\",\"y\":0.4583333333333333,\"yanchor\":\"bottom\",\"yref\":\"paper\"},{\"font\":{\"size\":16},\"showarrow\":false,\"text\":\"Omega 6 - August\",\"x\":0.708,\"xanchor\":\"center\",\"xref\":\"paper\",\"y\":0.4583333333333333,\"yanchor\":\"bottom\",\"yref\":\"paper\"},{\"font\":{\"size\":16},\"showarrow\":false,\"text\":\"Omega 6 - September\",\"x\":0.9159999999999999,\"xanchor\":\"center\",\"xref\":\"paper\",\"y\":0.4583333333333333,\"yanchor\":\"bottom\",\"yref\":\"paper\"},{\"font\":{\"size\":16},\"showarrow\":false,\"text\":\"Omega 3 - May\",\"x\":0.08399999999999999,\"xanchor\":\"center\",\"xref\":\"paper\",\"y\":0.2777777777777778,\"yanchor\":\"bottom\",\"yref\":\"paper\"},{\"font\":{\"size\":16},\"showarrow\":false,\"text\":\"Omega 3 - June\",\"x\":0.292,\"xanchor\":\"center\",\"xref\":\"paper\",\"y\":0.2777777777777778,\"yanchor\":\"bottom\",\"yref\":\"paper\"},{\"font\":{\"size\":16},\"showarrow\":false,\"text\":\"Omega 3 - July\",\"x\":0.5,\"xanchor\":\"center\",\"xref\":\"paper\",\"y\":0.2777777777777778,\"yanchor\":\"bottom\",\"yref\":\"paper\"},{\"font\":{\"size\":16},\"showarrow\":false,\"text\":\"Omega 3 - August\",\"x\":0.708,\"xanchor\":\"center\",\"xref\":\"paper\",\"y\":0.2777777777777778,\"yanchor\":\"bottom\",\"yref\":\"paper\"},{\"font\":{\"size\":16},\"showarrow\":false,\"text\":\"Omega 3 - September\",\"x\":0.9159999999999999,\"xanchor\":\"center\",\"xref\":\"paper\",\"y\":0.2777777777777778,\"yanchor\":\"bottom\",\"yref\":\"paper\"},{\"font\":{\"size\":16},\"showarrow\":false,\"text\":\"CLA - May\",\"x\":0.08399999999999999,\"xanchor\":\"center\",\"xref\":\"paper\",\"y\":0.09722222222222222,\"yanchor\":\"bottom\",\"yref\":\"paper\"},{\"font\":{\"size\":16},\"showarrow\":false,\"text\":\"CLA - June\",\"x\":0.292,\"xanchor\":\"center\",\"xref\":\"paper\",\"y\":0.09722222222222222,\"yanchor\":\"bottom\",\"yref\":\"paper\"},{\"font\":{\"size\":16},\"showarrow\":false,\"text\":\"CLA - July\",\"x\":0.5,\"xanchor\":\"center\",\"xref\":\"paper\",\"y\":0.09722222222222222,\"yanchor\":\"bottom\",\"yref\":\"paper\"},{\"font\":{\"size\":16},\"showarrow\":false,\"text\":\"CLA - August\",\"x\":0.708,\"xanchor\":\"center\",\"xref\":\"paper\",\"y\":0.09722222222222222,\"yanchor\":\"bottom\",\"yref\":\"paper\"},{\"font\":{\"size\":16},\"showarrow\":false,\"text\":\"CLA - September\",\"x\":0.9159999999999999,\"xanchor\":\"center\",\"xref\":\"paper\",\"y\":0.09722222222222222,\"yanchor\":\"bottom\",\"yref\":\"paper\"}],\"title\":{\"text\":\"Comparison of fat acids production month by month\"},\"showlegend\":false,\"height\":1500,\"width\":1200},                        {\"responsive\": true}                    ).then(function(){\n",
       "                            \n",
       "var gd = document.getElementById('b92a2706-c525-437d-810c-5429c0ce7fae');\n",
       "var x = new MutationObserver(function (mutations, observer) {{\n",
       "        var display = window.getComputedStyle(gd).display;\n",
       "        if (!display || display === 'none') {{\n",
       "            console.log([gd, 'removed!']);\n",
       "            Plotly.purge(gd);\n",
       "            observer.disconnect();\n",
       "        }}\n",
       "}});\n",
       "\n",
       "// Listen for the removal of the full notebook cells\n",
       "var notebookContainer = gd.closest('#notebook-container');\n",
       "if (notebookContainer) {{\n",
       "    x.observe(notebookContainer, {childList: true});\n",
       "}}\n",
       "\n",
       "// Listen for the clearing of the current output cell\n",
       "var outputEl = gd.closest('.output');\n",
       "if (outputEl) {{\n",
       "    x.observe(outputEl, {childList: true});\n",
       "}}\n",
       "\n",
       "                        })                };                });            </script>        </div>"
      ]
     },
     "metadata": {},
     "output_type": "display_data"
    }
   ],
   "source": [
    "fig = make_subplots(rows=6, cols=5, subplot_titles=(\"SFA - May\",\"SFA - June\",\n",
    "                                                   \"SFA - July\", \"SFA - August\",\n",
    "                                                   \"SFA - September\", \"PUFA - May\",\n",
    "                                                   \"PUFA - June\", \"PUFA - July\",\n",
    "                                                   \"PUFA - August\", \"PUFA - September\",\n",
    "                                                   \"MUFA - May\", \"MUFA - June\",\n",
    "                                                   \"MUFA - July\", \"MUFA - August\",\n",
    "                                                   \"MUFA - September\", \"Omega 6 - May\", \"Omega 6 - June\",\n",
    "                                                   \"Omega 6 - July\", \"Omega 6 - August\", \"Omega 6 - September\",\n",
    "                                                   \"Omega 3 - May\", \"Omega 3 - June\",\n",
    "                                                   \"Omega 3 - July\", \"Omega 3 - August\", \"Omega 3 - September\",\n",
    "                                                   \"CLA - May\", \"CLA - June\", \"CLA - July\", \"CLA - August\",\n",
    "                                                   \"CLA - September\")\n",
    "                   )\n",
    "#Adding traces\n",
    "\n",
    "#SFA\n",
    "fig.add_trace(go.Bar(\n",
    "    x = df_subplots[\"Gruppo\"],\n",
    "    y = df_subplots['Saturi (SFA)'][df_subplots['Prelievo']=='May']),\n",
    "    row = 1, col = 1\n",
    ")\n",
    "fig.add_trace(go.Bar(\n",
    "    x = df_subplots[\"Gruppo\"],\n",
    "    y = df_subplots['Saturi (SFA)'][df_subplots['Prelievo']=='June']),\n",
    "    row = 1, col = 2\n",
    ")\n",
    "fig.add_trace(go.Bar(\n",
    "    x = df_subplots[\"Gruppo\"],\n",
    "    y = df_subplots['Saturi (SFA)'][df_subplots['Prelievo']=='July']),\n",
    "    row = 1, col = 3\n",
    ")\n",
    "fig.add_trace(go.Bar(\n",
    "    x = df_subplots[\"Gruppo\"],\n",
    "    y = df_subplots['Saturi (SFA)'][df_subplots['Prelievo']=='August']),\n",
    "    row = 1, col = 4\n",
    ")\n",
    "fig.add_trace(go.Bar(\n",
    "    x = df_subplots[\"Gruppo\"],\n",
    "    y = df_subplots['Saturi (SFA)'][df_subplots['Prelievo']=='September']),\n",
    "    row = 1, col = 5\n",
    ")\n",
    "\n",
    "#PUFA\n",
    "fig.add_trace(go.Bar(\n",
    "    x = df_subplots[\"Gruppo\"],\n",
    "    y = df_subplots['Polinsaturi (PUFA)'][df_subplots['Prelievo']=='May']),\n",
    "    row = 2, col = 1\n",
    ")\n",
    "fig.add_trace(go.Bar(\n",
    "    x = df_subplots[\"Gruppo\"],\n",
    "    y = df_subplots['Polinsaturi (PUFA)'][df_subplots['Prelievo']=='June']),\n",
    "    row = 2, col = 2\n",
    ")\n",
    "fig.add_trace(go.Bar(\n",
    "    x = df_subplots[\"Gruppo\"],\n",
    "    y = df_subplots['Polinsaturi (PUFA)'][df_subplots['Prelievo']=='July']),\n",
    "    row = 2, col = 3\n",
    ")\n",
    "fig.add_trace(go.Bar(\n",
    "    x = df_subplots[\"Gruppo\"],\n",
    "    y = df_subplots['Polinsaturi (PUFA)'][df_subplots['Prelievo']=='August']),\n",
    "    row = 2, col = 4\n",
    ")\n",
    "fig.add_trace(go.Bar(\n",
    "    x = df_subplots[\"Gruppo\"],\n",
    "    y = df_subplots['Polinsaturi (PUFA)'][df_subplots['Prelievo']=='September']),\n",
    "    row = 2, col = 5\n",
    ")\n",
    "\n",
    "#MUFA\n",
    "fig.add_trace(go.Bar(\n",
    "    x = df_subplots[\"Gruppo\"],\n",
    "    y = df_subplots['Monoinsaturi (MUFA)'][df_subplots['Prelievo']=='May']),\n",
    "    row = 3, col = 1\n",
    ")\n",
    "fig.add_trace(go.Bar(\n",
    "    x = df_subplots[\"Gruppo\"],\n",
    "    y = df_subplots['Monoinsaturi (MUFA)'][df_subplots['Prelievo']=='June']),\n",
    "    row = 3, col = 2\n",
    ")\n",
    "fig.add_trace(go.Bar(\n",
    "    x = df_subplots[\"Gruppo\"],\n",
    "    y = df_subplots['Monoinsaturi (MUFA)'][df_subplots['Prelievo']=='July']),\n",
    "    row = 3, col = 3\n",
    ")\n",
    "fig.add_trace(go.Bar(\n",
    "    x = df_subplots[\"Gruppo\"],\n",
    "    y = df_subplots['Monoinsaturi (MUFA)'][df_subplots['Prelievo']=='August']),\n",
    "    row = 3, col = 4\n",
    ")\n",
    "fig.add_trace(go.Bar(\n",
    "    x = df_subplots[\"Gruppo\"],\n",
    "    y = df_subplots['Monoinsaturi (MUFA)'][df_subplots['Prelievo']=='September']),\n",
    "    row = 3, col = 5\n",
    ")\n",
    "\n",
    "#Omega 6\n",
    "fig.add_trace(go.Bar(\n",
    "    x = df_subplots[\"Gruppo\"],\n",
    "    y = df_subplots['omega 6'][df_subplots['Prelievo']=='May']),\n",
    "    row = 4, col = 1\n",
    ")\n",
    "fig.add_trace(go.Bar(\n",
    "    x = df_subplots[\"Gruppo\"],\n",
    "    y = df_subplots['omega 6'][df_subplots['Prelievo']=='June']),\n",
    "    row = 4, col = 2\n",
    ")\n",
    "fig.add_trace(go.Bar(\n",
    "    x = df_subplots[\"Gruppo\"],\n",
    "    y = df_subplots['omega 6'][df_subplots['Prelievo']=='July']),\n",
    "    row = 4, col = 3\n",
    ")\n",
    "fig.add_trace(go.Bar(\n",
    "    x = df_subplots[\"Gruppo\"],\n",
    "    y = df_subplots['omega 6'][df_subplots['Prelievo']=='August']),\n",
    "    row = 4, col = 4\n",
    ")\n",
    "fig.add_trace(go.Bar(\n",
    "    x = df_subplots[\"Gruppo\"],\n",
    "    y = df_subplots['omega 6'][df_subplots['Prelievo']=='September']),\n",
    "    row = 4, col = 5\n",
    ")\n",
    "\n",
    "#Omega 3\n",
    "fig.add_trace(go.Bar(\n",
    "    x = df_subplots[\"Gruppo\"],\n",
    "    y = df_subplots['omega 3'][df_subplots['Prelievo']=='May']),\n",
    "    row = 5, col = 1\n",
    ")\n",
    "fig.add_trace(go.Bar(\n",
    "    x = df_subplots[\"Gruppo\"],\n",
    "    y = df_subplots['omega 3'][df_subplots['Prelievo']=='June']),\n",
    "    row = 5, col = 2\n",
    ")\n",
    "fig.add_trace(go.Bar(\n",
    "    x = df_subplots[\"Gruppo\"],\n",
    "    y = df_subplots['omega 3'][df_subplots['Prelievo']=='July']),\n",
    "    row = 5, col = 3\n",
    ")\n",
    "fig.add_trace(go.Bar(\n",
    "    x = df_subplots[\"Gruppo\"],\n",
    "    y = df_subplots['omega 3'][df_subplots['Prelievo']=='August']),\n",
    "    row = 5, col = 4\n",
    ")\n",
    "fig.add_trace(go.Bar(\n",
    "    x = df_subplots[\"Gruppo\"],\n",
    "    y = df_subplots['omega 3'][df_subplots['Prelievo']=='September']),\n",
    "    row = 5, col = 5\n",
    ")\n",
    "\n",
    "#CLA\n",
    "fig.add_trace(go.Bar(\n",
    "    x = df_subplots[\"Gruppo\"],\n",
    "    y = df_subplots['CLA'][df_subplots['Prelievo']=='May']),\n",
    "    row = 6, col = 1\n",
    ")\n",
    "fig.add_trace(go.Bar(\n",
    "    x = df_subplots[\"Gruppo\"],\n",
    "    y = df_subplots['CLA'][df_subplots['Prelievo']=='June']),\n",
    "    row = 6, col = 2\n",
    ")\n",
    "fig.add_trace(go.Bar(\n",
    "    x = df_subplots[\"Gruppo\"],\n",
    "    y = df_subplots['CLA'][df_subplots['Prelievo']=='July']),\n",
    "    row = 6, col = 3\n",
    ")\n",
    "fig.add_trace(go.Bar(\n",
    "    x = df_subplots[\"Gruppo\"],\n",
    "    y = df_subplots['CLA'][df_subplots['Prelievo']=='August']),\n",
    "    row = 6, col = 4\n",
    ")\n",
    "fig.add_trace(go.Bar(\n",
    "    x = df_subplots[\"Gruppo\"],\n",
    "    y = df_subplots['CLA'][df_subplots['Prelievo']=='September']),\n",
    "    row = 6, col = 5\n",
    ")\n",
    "\n",
    "#Updating X-axis properties\n",
    "\n",
    "#SFA\n",
    "fig.update_xaxes(title_text=\"Gruppo\", nticks=3, row=1, col=1)\n",
    "fig.update_xaxes(title_text=\"Gruppo\", nticks=3, row=1, col=2)\n",
    "fig.update_xaxes(title_text=\"Gruppo\", nticks=3, row=1, col=3)\n",
    "fig.update_xaxes(title_text=\"Gruppo\", nticks=3, row=1, col=4)\n",
    "fig.update_xaxes(title_text=\"Gruppo\", nticks=3, row=1, col=5)\n",
    "\n",
    "#PUFA\n",
    "fig.update_xaxes(title_text=\"Gruppo\", nticks=3, row=2, col=1)\n",
    "fig.update_xaxes(title_text=\"Gruppo\", nticks=3, row=2, col=2)\n",
    "fig.update_xaxes(title_text=\"Gruppo\", nticks=3, row=2, col=3)\n",
    "fig.update_xaxes(title_text=\"Gruppo\", nticks=3, row=2, col=4)\n",
    "fig.update_xaxes(title_text=\"Gruppo\", nticks=3, row=2, col=5)\n",
    "\n",
    "#MUFA\n",
    "fig.update_xaxes(title_text=\"Gruppo\", nticks=3, row=3, col=1)\n",
    "fig.update_xaxes(title_text=\"Gruppo\", nticks=3, row=3, col=2)\n",
    "fig.update_xaxes(title_text=\"Gruppo\", nticks=3, row=3, col=3)\n",
    "fig.update_xaxes(title_text=\"Gruppo\", nticks=3, row=3, col=4)\n",
    "fig.update_xaxes(title_text=\"Gruppo\", nticks=3, row=3, col=5)\n",
    "\n",
    "#Omega 6\n",
    "fig.update_xaxes(title_text=\"Gruppo\", nticks=3, row=4, col=1)\n",
    "fig.update_xaxes(title_text=\"Gruppo\", nticks=3, row=4, col=2)\n",
    "fig.update_xaxes(title_text=\"Gruppo\", nticks=3, row=4, col=3)\n",
    "fig.update_xaxes(title_text=\"Gruppo\", nticks=3, row=4, col=4)\n",
    "fig.update_xaxes(title_text=\"Gruppo\", nticks=3, row=4, col=5)\n",
    "\n",
    "#Omega 3\n",
    "fig.update_xaxes(title_text=\"Gruppo\", nticks=3, row=5, col=1)\n",
    "fig.update_xaxes(title_text=\"Gruppo\", nticks=3, row=5, col=2)\n",
    "fig.update_xaxes(title_text=\"Gruppo\", nticks=3, row=5, col=3)\n",
    "fig.update_xaxes(title_text=\"Gruppo\", nticks=3, row=5, col=4)\n",
    "fig.update_xaxes(title_text=\"Gruppo\", nticks=3, row=5, col=5)\n",
    "\n",
    "#CLA\n",
    "fig.update_xaxes(title_text=\"Gruppo\", nticks=3, row=6, col=1)\n",
    "fig.update_xaxes(title_text=\"Gruppo\", nticks=3, row=6, col=2)\n",
    "fig.update_xaxes(title_text=\"Gruppo\", nticks=3, row=6, col=3)\n",
    "fig.update_xaxes(title_text=\"Gruppo\", nticks=3, row=6, col=4)\n",
    "fig.update_xaxes(title_text=\"Gruppo\", nticks=3, row=6, col=5)\n",
    "\n",
    "\n",
    "\n",
    "fig.update_layout(showlegend=False,height=1500, width=1200, title_text=\"Comparison of fat acids production month by month\")\n",
    "fig.show()\n"
   ]
  },
  {
   "cell_type": "markdown",
   "id": "a934a122",
   "metadata": {},
   "source": [
    "### Calculating P value month by month"
   ]
  },
  {
   "cell_type": "code",
   "execution_count": 140,
   "id": "ae6ea619",
   "metadata": {},
   "outputs": [],
   "source": [
    "#SFA\n",
    "pValue_SFA_Prel1 = stats.linregress(df2['Saturi (SFA)'][(df2['Gruppo'] == 1) & (df2['Prelievo'] == 'May')],\n",
    "                                    df2['Saturi (SFA)'][(df2['Gruppo'] == 2) & (df2['Prelievo'] == 'May')]).pvalue\n",
    "pValue_SFA_Prel2 = stats.linregress(df2['Saturi (SFA)'][(df2['Gruppo'] == 1) & (df2['Prelievo'] == 'June')],\n",
    "                                    df2['Saturi (SFA)'][(df2['Gruppo'] == 2) & (df2['Prelievo'] == 'June')]).pvalue\n",
    "pValue_SFA_Prel3 = stats.linregress(df2['Saturi (SFA)'][(df2['Gruppo'] == 1) & (df2['Prelievo'] == 'July')],\n",
    "                                    df2['Saturi (SFA)'][(df2['Gruppo'] == 2) & (df2['Prelievo'] == 'July')]).pvalue\n",
    "pValue_SFA_Prel4 = stats.linregress(df2['Saturi (SFA)'][(df2['Gruppo'] == 1) & (df2['Prelievo'] == 'August')],\n",
    "                                    df2['Saturi (SFA)'][(df2['Gruppo'] == 2) & (df2['Prelievo'] == 'August')]).pvalue\n",
    "pValue_SFA_Prel5 = stats.linregress(df2['Saturi (SFA)'][(df2['Gruppo'] == 1) & (df2['Prelievo'] == 'September')],\n",
    "                                    df2['Saturi (SFA)'][(df2['Gruppo'] == 2) & (df2['Prelievo'] == 'September')]).pvalue\n",
    "\n",
    "pValue_SFA_list = [pValue_SFA_Prel1, pValue_SFA_Prel2, pValue_SFA_Prel3, pValue_SFA_Prel4, pValue_SFA_Prel5]\n",
    "\n",
    "\n",
    "#MUFA\n",
    "pValue_MUFA_Prel1 = stats.linregress(df2['Monoinsaturi (MUFA)'][(df2['Gruppo'] == 1) & (df2['Prelievo'] == 'May')],\n",
    "                                     df2['Monoinsaturi (MUFA)'][(df2['Gruppo'] == 1) & (df2['Prelievo'] == 'May')]).pvalue\n",
    "pValue_MUFA_Prel2 = stats.linregress(df2['Monoinsaturi (MUFA)'][(df2['Gruppo'] == 1) & (df2['Prelievo'] == 'June')],\n",
    "                                     df2['Monoinsaturi (MUFA)'][(df2['Gruppo'] == 1) & (df2['Prelievo'] == 'June')]).pvalue\n",
    "pValue_MUFA_Prel3 = stats.linregress(df2['Monoinsaturi (MUFA)'][(df2['Gruppo'] == 1) & (df2['Prelievo'] == 'July')],\n",
    "                                     df2['Monoinsaturi (MUFA)'][(df2['Gruppo'] == 1) & (df2['Prelievo'] == 'July')]).pvalue\n",
    "pValue_MUFA_Prel4 = stats.linregress(df2['Monoinsaturi (MUFA)'][(df2['Gruppo'] == 1) & (df2['Prelievo'] == 'August')],\n",
    "                                     df2['Monoinsaturi (MUFA)'][(df2['Gruppo'] == 1) & (df2['Prelievo'] == 'August')]).pvalue\n",
    "pValue_MUFA_Prel5 = stats.linregress(df2['Monoinsaturi (MUFA)'][(df2['Gruppo'] == 1) & (df2['Prelievo'] == 'September')],\n",
    "                                     df2['Monoinsaturi (MUFA)'][(df2['Gruppo'] == 1) & (df2['Prelievo'] == 'September')]).pvalue\n",
    "\n",
    "pValue_MUFA_list = [pValue_MUFA_Prel1, pValue_MUFA_Prel2, pValue_MUFA_Prel3, pValue_MUFA_Prel4, pValue_MUFA_Prel5]\n",
    "\n",
    "#PUFA\n",
    "pValue_PUFA_Prel1 = stats.linregress(df2['Polinsaturi (PUFA)'][(df2['Gruppo'] == 1) & (df2['Prelievo'] == 'May')],\n",
    "                                     df2['Polinsaturi (PUFA)'][(df2['Gruppo'] == 1) & (df2['Prelievo'] == 'May')]).pvalue\n",
    "pValue_PUFA_Prel2 = stats.linregress(df2['Polinsaturi (PUFA)'][(df2['Gruppo'] == 1) & (df2['Prelievo'] == 'June')],\n",
    "                                     df2['Polinsaturi (PUFA)'][(df2['Gruppo'] == 1) & (df2['Prelievo'] == 'June')]).pvalue\n",
    "pValue_PUFA_Prel3 = stats.linregress(df2['Polinsaturi (PUFA)'][(df2['Gruppo'] == 1) & (df2['Prelievo'] == 'July')],\n",
    "                                     df2['Polinsaturi (PUFA)'][(df2['Gruppo'] == 1) & (df2['Prelievo'] == 'July')]).pvalue\n",
    "pValue_PUFA_Prel4 = stats.linregress(df2['Polinsaturi (PUFA)'][(df2['Gruppo'] == 1) & (df2['Prelievo'] == 'August')],\n",
    "                                     df2['Polinsaturi (PUFA)'][(df2['Gruppo'] == 1) & (df2['Prelievo'] == 'August')]).pvalue\n",
    "pValue_PUFA_Prel5 = stats.linregress(df2['Polinsaturi (PUFA)'][(df2['Gruppo'] == 1) & (df2['Prelievo'] == 'September')],\n",
    "                                     df2['Polinsaturi (PUFA)'][(df2['Gruppo'] == 1) & (df2['Prelievo'] == 'September')]).pvalue\n",
    "\n",
    "pValue_PUFA_list = [pValue_PUFA_Prel1, pValue_PUFA_Prel2, pValue_PUFA_Prel3, pValue_PUFA_Prel4, pValue_PUFA_Prel5]\n",
    "\n",
    "#Omega 6\n",
    "pValue_Omega6_Prel1 = stats.linregress(df2['omega 6'][(df2['Gruppo'] == 1) & (df2['Prelievo'] == 'May')],\n",
    "                                       df2['omega 6'][(df2['Gruppo'] == 1) & (df2['Prelievo'] == 'May')]).pvalue\n",
    "pValue_Omega6_Prel2 = stats.linregress(df2['omega 6'][(df2['Gruppo'] == 1) & (df2['Prelievo'] == 'June')],\n",
    "                                       df2['omega 6'][(df2['Gruppo'] == 1) & (df2['Prelievo'] == 'June')]).pvalue\n",
    "pValue_Omega6_Prel3 = stats.linregress(df2['omega 6'][(df2['Gruppo'] == 1) & (df2['Prelievo'] == 'July')],\n",
    "                                       df2['omega 6'][(df2['Gruppo'] == 1) & (df2['Prelievo'] == 'July')]).pvalue\n",
    "pValue_Omega6_Prel4 = stats.linregress(df2['omega 6'][(df2['Gruppo'] == 1) & (df2['Prelievo'] == 'August')],\n",
    "                                       df2['omega 6'][(df2['Gruppo'] == 1) & (df2['Prelievo'] == 'August')]).pvalue\n",
    "pValue_Omega6_Prel5 = stats.linregress(df2['omega 6'][(df2['Gruppo'] == 1) & (df2['Prelievo'] == 'September')],\n",
    "                                       df2['omega 6'][(df2['Gruppo'] == 1) & (df2['Prelievo'] == 'September')]).pvalue\n",
    "\n",
    "pValue_Omega6_list = [pValue_Omega6_Prel1, pValue_Omega6_Prel2, pValue_Omega6_Prel3, pValue_Omega6_Prel4, pValue_Omega6_Prel5]\n",
    "\n",
    "#Omega 3\n",
    "pValue_Omega3_Prel1 = stats.linregress(df2['omega 3'][(df2['Gruppo'] == 1) & (df2['Prelievo'] == 'May')],\n",
    "                                       df2['omega 3'][(df2['Gruppo'] == 1) & (df2['Prelievo'] == 'May')]).pvalue\n",
    "pValue_Omega3_Prel2 = stats.linregress(df2['omega 3'][(df2['Gruppo'] == 1) & (df2['Prelievo'] == 'June')],\n",
    "                                       df2['omega 3'][(df2['Gruppo'] == 1) & (df2['Prelievo'] == 'June')]).pvalue\n",
    "pValue_Omega3_Prel3 = stats.linregress(df2['omega 3'][(df2['Gruppo'] == 1) & (df2['Prelievo'] == 'July')],\n",
    "                                       df2['omega 3'][(df2['Gruppo'] == 1) & (df2['Prelievo'] == 'July')]).pvalue\n",
    "pValue_Omega3_Prel4 = stats.linregress(df2['omega 3'][(df2['Gruppo'] == 1) & (df2['Prelievo'] == 'August')],\n",
    "                                       df2['omega 3'][(df2['Gruppo'] == 1) & (df2['Prelievo'] == 'August')]).pvalue\n",
    "pValue_Omega3_Prel5 = stats.linregress(df2['omega 3'][(df2['Gruppo'] == 1) & (df2['Prelievo'] == 'September')],\n",
    "                                       df2['omega 3'][(df2['Gruppo'] == 1) & (df2['Prelievo'] == 'September')]).pvalue\n",
    "\n",
    "pValue_Omega3_list = [pValue_Omega3_Prel1, pValue_Omega3_Prel2, pValue_Omega3_Prel3, pValue_Omega3_Prel4, pValue_Omega3_Prel5]\n",
    "\n",
    "#CLA\n",
    "pValue_CLA_Prel1 = stats.linregress(df2['CLA'][(df2['Gruppo'] == 1) & (df2['Prelievo'] == 'May')],\n",
    "                                    df2['CLA'][(df2['Gruppo'] == 1) & (df2['Prelievo'] == 'May')]).pvalue\n",
    "pValue_CLA_Prel2 = stats.linregress(df2['CLA'][(df2['Gruppo'] == 1) & (df2['Prelievo'] == 'June')],\n",
    "                                    df2['CLA'][(df2['Gruppo'] == 1) & (df2['Prelievo'] == 'June')]).pvalue\n",
    "pValue_CLA_Prel3 = stats.linregress(df2['CLA'][(df2['Gruppo'] == 1) & (df2['Prelievo'] == 'July')],\n",
    "                                    df2['CLA'][(df2['Gruppo'] == 1) & (df2['Prelievo'] == 'July')]).pvalue\n",
    "pValue_CLA_Prel4 = stats.linregress(df2['CLA'][(df2['Gruppo'] == 1) & (df2['Prelievo'] == 'August')],\n",
    "                                    df2['CLA'][(df2['Gruppo'] == 1) & (df2['Prelievo'] == 'August')]).pvalue\n",
    "pValue_CLA_Prel5 = stats.linregress(df2['CLA'][(df2['Gruppo'] == 1) & (df2['Prelievo'] == 'September')],\n",
    "                                    df2['CLA'][(df2['Gruppo'] == 1) & (df2['Prelievo'] == 'September')]).pvalue\n",
    "\n",
    "pValue_CLA_list = [pValue_CLA_Prel1, pValue_CLA_Prel2, pValue_CLA_Prel3, pValue_CLA_Prel4, pValue_CLA_Prel5]"
   ]
  },
  {
   "cell_type": "markdown",
   "id": "6fe5ddcf",
   "metadata": {},
   "source": [
    "### Creating P value month by month"
   ]
  },
  {
   "cell_type": "code",
   "execution_count": 141,
   "id": "42787af5",
   "metadata": {},
   "outputs": [
    {
     "data": {
      "text/html": [
       "<style type=\"text/css\">\n",
       "</style>\n",
       "<table id=\"T_63991\">\n",
       "  <thead>\n",
       "    <tr>\n",
       "      <th id=\"T_63991_level0_col0\" class=\"col_heading level0 col0\" >Month</th>\n",
       "      <th id=\"T_63991_level0_col1\" class=\"col_heading level0 col1\" >P-value SFA</th>\n",
       "      <th id=\"T_63991_level0_col2\" class=\"col_heading level0 col2\" >P-value MUFA</th>\n",
       "      <th id=\"T_63991_level0_col3\" class=\"col_heading level0 col3\" >P-value PUFA</th>\n",
       "      <th id=\"T_63991_level0_col4\" class=\"col_heading level0 col4\" >P-value Omega 6</th>\n",
       "      <th id=\"T_63991_level0_col5\" class=\"col_heading level0 col5\" >P-value Omega 3</th>\n",
       "      <th id=\"T_63991_level0_col6\" class=\"col_heading level0 col6\" >P-value CLA</th>\n",
       "    </tr>\n",
       "  </thead>\n",
       "  <tbody>\n",
       "    <tr>\n",
       "      <td id=\"T_63991_row0_col0\" class=\"data row0 col0\" >May</td>\n",
       "      <td id=\"T_63991_row0_col1\" class=\"data row0 col1\" >0.209040</td>\n",
       "      <td id=\"T_63991_row0_col2\" class=\"data row0 col2\" >0.000000</td>\n",
       "      <td id=\"T_63991_row0_col3\" class=\"data row0 col3\" >0.000000</td>\n",
       "      <td id=\"T_63991_row0_col4\" class=\"data row0 col4\" >0.000000</td>\n",
       "      <td id=\"T_63991_row0_col5\" class=\"data row0 col5\" >0.000000</td>\n",
       "      <td id=\"T_63991_row0_col6\" class=\"data row0 col6\" >0.000000</td>\n",
       "    </tr>\n",
       "    <tr>\n",
       "      <td id=\"T_63991_row1_col0\" class=\"data row1 col0\" >June</td>\n",
       "      <td id=\"T_63991_row1_col1\" class=\"data row1 col1\" >0.240790</td>\n",
       "      <td id=\"T_63991_row1_col2\" class=\"data row1 col2\" >0.000000</td>\n",
       "      <td id=\"T_63991_row1_col3\" class=\"data row1 col3\" >0.000000</td>\n",
       "      <td id=\"T_63991_row1_col4\" class=\"data row1 col4\" >0.000000</td>\n",
       "      <td id=\"T_63991_row1_col5\" class=\"data row1 col5\" >0.000000</td>\n",
       "      <td id=\"T_63991_row1_col6\" class=\"data row1 col6\" >0.000000</td>\n",
       "    </tr>\n",
       "    <tr>\n",
       "      <td id=\"T_63991_row2_col0\" class=\"data row2 col0\" >July</td>\n",
       "      <td id=\"T_63991_row2_col1\" class=\"data row2 col1\" >0.356960</td>\n",
       "      <td id=\"T_63991_row2_col2\" class=\"data row2 col2\" >0.000000</td>\n",
       "      <td id=\"T_63991_row2_col3\" class=\"data row2 col3\" >0.000000</td>\n",
       "      <td id=\"T_63991_row2_col4\" class=\"data row2 col4\" >0.000000</td>\n",
       "      <td id=\"T_63991_row2_col5\" class=\"data row2 col5\" >0.000000</td>\n",
       "      <td id=\"T_63991_row2_col6\" class=\"data row2 col6\" >0.000000</td>\n",
       "    </tr>\n",
       "    <tr>\n",
       "      <td id=\"T_63991_row3_col0\" class=\"data row3 col0\" >August</td>\n",
       "      <td id=\"T_63991_row3_col1\" class=\"data row3 col1\" >0.040750</td>\n",
       "      <td id=\"T_63991_row3_col2\" class=\"data row3 col2\" >0.000000</td>\n",
       "      <td id=\"T_63991_row3_col3\" class=\"data row3 col3\" >0.000000</td>\n",
       "      <td id=\"T_63991_row3_col4\" class=\"data row3 col4\" >0.000000</td>\n",
       "      <td id=\"T_63991_row3_col5\" class=\"data row3 col5\" >0.000000</td>\n",
       "      <td id=\"T_63991_row3_col6\" class=\"data row3 col6\" >0.000000</td>\n",
       "    </tr>\n",
       "    <tr>\n",
       "      <td id=\"T_63991_row4_col0\" class=\"data row4 col0\" >September</td>\n",
       "      <td id=\"T_63991_row4_col1\" class=\"data row4 col1\" >0.166820</td>\n",
       "      <td id=\"T_63991_row4_col2\" class=\"data row4 col2\" >0.000000</td>\n",
       "      <td id=\"T_63991_row4_col3\" class=\"data row4 col3\" >0.000000</td>\n",
       "      <td id=\"T_63991_row4_col4\" class=\"data row4 col4\" >0.000000</td>\n",
       "      <td id=\"T_63991_row4_col5\" class=\"data row4 col5\" >0.000000</td>\n",
       "      <td id=\"T_63991_row4_col6\" class=\"data row4 col6\" >0.000000</td>\n",
       "    </tr>\n",
       "  </tbody>\n",
       "</table>\n"
      ],
      "text/plain": [
       "<pandas.io.formats.style.Styler at 0x29b02f98f10>"
      ]
     },
     "execution_count": 141,
     "metadata": {},
     "output_type": "execute_result"
    }
   ],
   "source": [
    "df4 = pd.DataFrame()\n",
    "df4[\"Month\"] = [\"May\", \"June\", \"July\", \"August\", \"September\" ]\n",
    "df4[\"P-value SFA\"] = [round(num, 5) for num in pValue_SFA_list]\n",
    "df4[\"P-value MUFA\"] = [round(num, 5) for num in pValue_MUFA_list]\n",
    "df4[\"P-value PUFA\"] = [round(num, 5) for num in pValue_PUFA_list]\n",
    "df4[\"P-value Omega 6\"] = [round(num, 5) for num in pValue_Omega6_list]\n",
    "df4[\"P-value Omega 3\"] = [round(num, 5) for num in pValue_Omega3_list]\n",
    "df4[\"P-value CLA\"] = [round(num, 5) for num in pValue_CLA_list]\n",
    "\n",
    "df4.style.hide(axis=\"index\")"
   ]
  },
  {
   "cell_type": "code",
   "execution_count": null,
   "id": "70d2ca30",
   "metadata": {},
   "outputs": [],
   "source": []
  }
 ],
 "metadata": {
  "kernelspec": {
   "display_name": "Python 3 (ipykernel)",
   "language": "python",
   "name": "python3"
  },
  "language_info": {
   "codemirror_mode": {
    "name": "ipython",
    "version": 3
   },
   "file_extension": ".py",
   "mimetype": "text/x-python",
   "name": "python",
   "nbconvert_exporter": "python",
   "pygments_lexer": "ipython3",
   "version": "3.9.12"
  }
 },
 "nbformat": 4,
 "nbformat_minor": 5
}
